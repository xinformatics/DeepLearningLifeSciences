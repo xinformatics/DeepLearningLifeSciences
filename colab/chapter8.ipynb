{
  "nbformat": 4,
  "nbformat_minor": 0,
  "metadata": {
    "colab": {
      "name": "chapter8.ipynb",
      "provenance": []
    },
    "kernelspec": {
      "name": "python3",
      "display_name": "Python 3"
    },
    "accelerator": "GPU"
  },
  "cells": [
    {
      "cell_type": "code",
      "metadata": {
        "id": "kHR6KmjKy-GM",
        "colab_type": "code",
        "colab": {}
      },
      "source": [
        "#DL for medicine\n",
        "# Convolutional networks are an extraordinarily powerful tool, because so much\n",
        "# human activity revolves around processing complex visual information."
      ],
      "execution_count": 1,
      "outputs": []
    },
    {
      "cell_type": "code",
      "metadata": {
        "id": "0m1tc9Sp030S",
        "colab_type": "code",
        "colab": {}
      },
      "source": [
        "# requires 80GB data download this is not feasible for me"
      ],
      "execution_count": 2,
      "outputs": []
    },
    {
      "cell_type": "code",
      "metadata": {
        "id": "-hxh-onN9UwL",
        "colab_type": "code",
        "colab": {}
      },
      "source": [
        "# skipping this chapter, will come back to it later"
      ],
      "execution_count": 3,
      "outputs": []
    },
    {
      "cell_type": "code",
      "metadata": {
        "id": "D4ZmPVjO912s",
        "colab_type": "code",
        "colab": {}
      },
      "source": [
        ""
      ],
      "execution_count": null,
      "outputs": []
    }
  ]
}