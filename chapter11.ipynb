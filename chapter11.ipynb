{
  "nbformat": 4,
  "nbformat_minor": 0,
  "metadata": {
    "colab": {
      "name": "chapter11.ipynb",
      "provenance": []
    },
    "kernelspec": {
      "name": "python3",
      "display_name": "Python 3"
    },
    "accelerator": "GPU"
  },
  "cells": [
    {
      "cell_type": "code",
      "metadata": {
        "id": "TdxfNO3e8GWY",
        "colab_type": "code",
        "colab": {}
      },
      "source": [
        "#last chapter, chapter 11, virtual screening"
      ],
      "execution_count": 1,
      "outputs": []
    },
    {
      "cell_type": "code",
      "metadata": {
        "id": "RkVhTBn803Ni",
        "colab_type": "code",
        "colab": {}
      },
      "source": [
        "#A Virtual Screening Workflow Example"
      ],
      "execution_count": 2,
      "outputs": []
    },
    {
      "cell_type": "code",
      "metadata": {
        "id": "L9mRNHou12yd",
        "colab_type": "code",
        "colab": {}
      },
      "source": [
        "#a set of\n",
        "# molecules known to bind to a particular protein, as well as a set of molecules assumed\n",
        "# to not bind, to train a convolutional neural network to identify new molecules with\n",
        "# the potential to bind to the target"
      ],
      "execution_count": 3,
      "outputs": []
    },
    {
      "cell_type": "code",
      "metadata": {
        "id": "WT_Cs4bd22Cl",
        "colab_type": "code",
        "colab": {}
      },
      "source": [
        "# ERK2 MAPK1 same protein, involved in signalling"
      ],
      "execution_count": 4,
      "outputs": []
    },
    {
      "cell_type": "code",
      "metadata": {
        "id": "AfTkKp3d3B_U",
        "colab_type": "code",
        "colab": {}
      },
      "source": [
        "#We will train the model to distinguish a set of ERK2 active compounds from a set of\n",
        "#decoy compounds. The active and decoy compounds are derived from the DUD-E\n",
        "#database, which is designed for testing predictive models"
      ],
      "execution_count": 5,
      "outputs": []
    },
    {
      "cell_type": "code",
      "metadata": {
        "id": "LASQOm793SIo",
        "colab_type": "code",
        "colab": {
          "base_uri": "https://localhost:8080/",
          "height": 34
        },
        "outputId": "54de087f-5707-44d9-f690-2d00f126fcbd"
      },
      "source": [
        "##setup tensorflow v1\n",
        "%tensorflow_version 1.x"
      ],
      "execution_count": 6,
      "outputs": [
        {
          "output_type": "stream",
          "text": [
            "TensorFlow 1.x selected.\n"
          ],
          "name": "stdout"
        }
      ]
    },
    {
      "cell_type": "code",
      "metadata": {
        "id": "vUv9NuKw5H24",
        "colab_type": "code",
        "colab": {
          "base_uri": "https://localhost:8080/",
          "height": 1000
        },
        "outputId": "b0ff865c-74b2-4fe3-dfa4-de3e06e87d71"
      },
      "source": [
        "!wget -c https://repo.anaconda.com/archive/Anaconda3-2019.10-Linux-x86_64.sh\n",
        "!chmod +x Anaconda3-2019.10-Linux-x86_64.sh\n",
        "!bash ./Anaconda3-2019.10-Linux-x86_64.sh -b -f -p /usr/local\n",
        "!conda install -y -c deepchem -c rdkit -c conda-forge -c omnia deepchem-gpu=2.3.0\n",
        "import sys\n",
        "sys.path.append('/usr/local/lib/python3.7/site-packages/')"
      ],
      "execution_count": 7,
      "outputs": [
        {
          "output_type": "stream",
          "text": [
            "--2020-07-28 10:08:01--  https://repo.anaconda.com/archive/Anaconda3-2019.10-Linux-x86_64.sh\n",
            "Resolving repo.anaconda.com (repo.anaconda.com)... 104.16.131.3, 104.16.130.3, 2606:4700::6810:8203, ...\n",
            "Connecting to repo.anaconda.com (repo.anaconda.com)|104.16.131.3|:443... connected.\n",
            "HTTP request sent, awaiting response... 200 OK\n",
            "Length: 530308481 (506M) [application/x-sh]\n",
            "Saving to: ‘Anaconda3-2019.10-Linux-x86_64.sh’\n",
            "\n",
            "Anaconda3-2019.10-L 100%[===================>] 505.74M  69.1MB/s    in 7.6s    \n",
            "\n",
            "2020-07-28 10:08:09 (66.6 MB/s) - ‘Anaconda3-2019.10-Linux-x86_64.sh’ saved [530308481/530308481]\n",
            "\n",
            "PREFIX=/usr/local\n",
            "Unpacking payload ...\n",
            "Collecting package metadata (current_repodata.json): - \b\b\\ \b\b| \b\b/ \b\b- \b\b\\ \b\b| \b\bdone\n",
            "Solving environment: - \b\b\\ \b\b| \b\b/ \b\b- \b\b\\ \b\b| \b\b/ \b\b- \b\b\\ \b\b| \b\b/ \b\b- \b\b\\ \b\bdone\n",
            "\n",
            "## Package Plan ##\n",
            "\n",
            "  environment location: /usr/local\n",
            "\n",
            "  added / updated specs:\n",
            "    - _ipyw_jlab_nb_ext_conf==0.1.0=py37_0\n",
            "    - _libgcc_mutex==0.1=main\n",
            "    - alabaster==0.7.12=py37_0\n",
            "    - anaconda-client==1.7.2=py37_0\n",
            "    - anaconda-navigator==1.9.7=py37_0\n",
            "    - anaconda-project==0.8.3=py_0\n",
            "    - anaconda==2019.10=py37_0\n",
            "    - asn1crypto==1.0.1=py37_0\n",
            "    - astroid==2.3.1=py37_0\n",
            "    - astropy==3.2.2=py37h7b6447c_0\n",
            "    - atomicwrites==1.3.0=py37_1\n",
            "    - attrs==19.2.0=py_0\n",
            "    - babel==2.7.0=py_0\n",
            "    - backcall==0.1.0=py37_0\n",
            "    - backports.functools_lru_cache==1.5=py_2\n",
            "    - backports.os==0.1.1=py37_0\n",
            "    - backports.shutil_get_terminal_size==1.0.0=py37_2\n",
            "    - backports.tempfile==1.0=py_1\n",
            "    - backports.weakref==1.0.post1=py_1\n",
            "    - backports==1.0=py_2\n",
            "    - beautifulsoup4==4.8.0=py37_0\n",
            "    - bitarray==1.0.1=py37h7b6447c_0\n",
            "    - bkcharts==0.2=py37_0\n",
            "    - blas==1.0=mkl\n",
            "    - bleach==3.1.0=py37_0\n",
            "    - blosc==1.16.3=hd408876_0\n",
            "    - bokeh==1.3.4=py37_0\n",
            "    - boto==2.49.0=py37_0\n",
            "    - bottleneck==1.2.1=py37h035aef0_1\n",
            "    - bzip2==1.0.8=h7b6447c_0\n",
            "    - ca-certificates==2019.8.28=0\n",
            "    - cairo==1.14.12=h8948797_3\n",
            "    - certifi==2019.9.11=py37_0\n",
            "    - cffi==1.12.3=py37h2e261b9_0\n",
            "    - chardet==3.0.4=py37_1003\n",
            "    - click==7.0=py37_0\n",
            "    - cloudpickle==1.2.2=py_0\n",
            "    - clyent==1.2.2=py37_1\n",
            "    - colorama==0.4.1=py37_0\n",
            "    - conda-build==3.18.9=py37_3\n",
            "    - conda-env==2.6.0=1\n",
            "    - conda-package-handling==1.6.0=py37h7b6447c_0\n",
            "    - conda-verify==3.4.2=py_1\n",
            "    - conda==4.7.12=py37_0\n",
            "    - contextlib2==0.6.0=py_0\n",
            "    - cryptography==2.7=py37h1ba5d50_0\n",
            "    - curl==7.65.3=hbc83047_0\n",
            "    - cycler==0.10.0=py37_0\n",
            "    - cython==0.29.13=py37he6710b0_0\n",
            "    - cytoolz==0.10.0=py37h7b6447c_0\n",
            "    - dask-core==2.5.2=py_0\n",
            "    - dask==2.5.2=py_0\n",
            "    - dbus==1.13.6=h746ee38_0\n",
            "    - decorator==4.4.0=py37_1\n",
            "    - defusedxml==0.6.0=py_0\n",
            "    - distributed==2.5.2=py_0\n",
            "    - docutils==0.15.2=py37_0\n",
            "    - entrypoints==0.3=py37_0\n",
            "    - et_xmlfile==1.0.1=py37_0\n",
            "    - expat==2.2.6=he6710b0_0\n",
            "    - fastcache==1.1.0=py37h7b6447c_0\n",
            "    - filelock==3.0.12=py_0\n",
            "    - flask==1.1.1=py_0\n",
            "    - fontconfig==2.13.0=h9420a91_0\n",
            "    - freetype==2.9.1=h8a8886c_1\n",
            "    - fribidi==1.0.5=h7b6447c_0\n",
            "    - fsspec==0.5.2=py_0\n",
            "    - future==0.17.1=py37_0\n",
            "    - get_terminal_size==1.0.0=haa9412d_0\n",
            "    - gevent==1.4.0=py37h7b6447c_0\n",
            "    - glib==2.56.2=hd408876_0\n",
            "    - glob2==0.7=py_0\n",
            "    - gmp==6.1.2=h6c8ec71_1\n",
            "    - gmpy2==2.0.8=py37h10f8cd9_2\n",
            "    - graphite2==1.3.13=h23475e2_0\n",
            "    - greenlet==0.4.15=py37h7b6447c_0\n",
            "    - gst-plugins-base==1.14.0=hbbd80ab_1\n",
            "    - gstreamer==1.14.0=hb453b48_1\n",
            "    - h5py==2.9.0=py37h7918eee_0\n",
            "    - harfbuzz==1.8.8=hffaf4a1_0\n",
            "    - hdf5==1.10.4=hb1b8bf9_0\n",
            "    - heapdict==1.0.1=py_0\n",
            "    - html5lib==1.0.1=py37_0\n",
            "    - icu==58.2=h9c2bf20_1\n",
            "    - idna==2.8=py37_0\n",
            "    - imageio==2.6.0=py37_0\n",
            "    - imagesize==1.1.0=py37_0\n",
            "    - importlib_metadata==0.23=py37_0\n",
            "    - intel-openmp==2019.4=243\n",
            "    - ipykernel==5.1.2=py37h39e3cac_0\n",
            "    - ipython==7.8.0=py37h39e3cac_0\n",
            "    - ipython_genutils==0.2.0=py37_0\n",
            "    - ipywidgets==7.5.1=py_0\n",
            "    - isort==4.3.21=py37_0\n",
            "    - itsdangerous==1.1.0=py37_0\n",
            "    - jbig==2.1=hdba287a_0\n",
            "    - jdcal==1.4.1=py_0\n",
            "    - jedi==0.15.1=py37_0\n",
            "    - jeepney==0.4.1=py_0\n",
            "    - jinja2==2.10.3=py_0\n",
            "    - joblib==0.13.2=py37_0\n",
            "    - jpeg==9b=h024ee3a_2\n",
            "    - json5==0.8.5=py_0\n",
            "    - jsonschema==3.0.2=py37_0\n",
            "    - jupyter==1.0.0=py37_7\n",
            "    - jupyter_client==5.3.3=py37_1\n",
            "    - jupyter_console==6.0.0=py37_0\n",
            "    - jupyter_core==4.5.0=py_0\n",
            "    - jupyterlab==1.1.4=pyhf63ae98_0\n",
            "    - jupyterlab_server==1.0.6=py_0\n",
            "    - keyring==18.0.0=py37_0\n",
            "    - kiwisolver==1.1.0=py37he6710b0_0\n",
            "    - krb5==1.16.1=h173b8e3_7\n",
            "    - lazy-object-proxy==1.4.2=py37h7b6447c_0\n",
            "    - libarchive==3.3.3=h5d8350f_5\n",
            "    - libcurl==7.65.3=h20c2e04_0\n",
            "    - libedit==3.1.20181209=hc058e9b_0\n",
            "    - libffi==3.2.1=hd88cf55_4\n",
            "    - libgcc-ng==9.1.0=hdf63c60_0\n",
            "    - libgfortran-ng==7.3.0=hdf63c60_0\n",
            "    - liblief==0.9.0=h7725739_2\n",
            "    - libpng==1.6.37=hbc83047_0\n",
            "    - libsodium==1.0.16=h1bed415_0\n",
            "    - libssh2==1.8.2=h1ba5d50_0\n",
            "    - libstdcxx-ng==9.1.0=hdf63c60_0\n",
            "    - libtiff==4.0.10=h2733197_2\n",
            "    - libtool==2.4.6=h7b6447c_5\n",
            "    - libuuid==1.0.3=h1bed415_2\n",
            "    - libxcb==1.13=h1bed415_1\n",
            "    - libxml2==2.9.9=hea5a465_1\n",
            "    - libxslt==1.1.33=h7d1a2b0_0\n",
            "    - llvmlite==0.29.0=py37hd408876_0\n",
            "    - locket==0.2.0=py37_1\n",
            "    - lxml==4.4.1=py37hefd8a0e_0\n",
            "    - lz4-c==1.8.1.2=h14c3975_0\n",
            "    - lzo==2.10=h49e0be7_2\n",
            "    - markupsafe==1.1.1=py37h7b6447c_0\n",
            "    - matplotlib==3.1.1=py37h5429711_0\n",
            "    - mccabe==0.6.1=py37_1\n",
            "    - mistune==0.8.4=py37h7b6447c_0\n",
            "    - mkl-service==2.3.0=py37he904b0f_0\n",
            "    - mkl==2019.4=243\n",
            "    - mkl_fft==1.0.14=py37ha843d7b_0\n",
            "    - mkl_random==1.1.0=py37hd6b4f25_0\n",
            "    - mock==3.0.5=py37_0\n",
            "    - more-itertools==7.2.0=py37_0\n",
            "    - mpc==1.1.0=h10f8cd9_1\n",
            "    - mpfr==4.0.1=hdf1c602_3\n",
            "    - mpmath==1.1.0=py37_0\n",
            "    - msgpack-python==0.6.1=py37hfd86e86_1\n",
            "    - multipledispatch==0.6.0=py37_0\n",
            "    - navigator-updater==0.2.1=py37_0\n",
            "    - nbconvert==5.6.0=py37_1\n",
            "    - nbformat==4.4.0=py37_0\n",
            "    - ncurses==6.1=he6710b0_1\n",
            "    - networkx==2.3=py_0\n",
            "    - nltk==3.4.5=py37_0\n",
            "    - nose==1.3.7=py37_2\n",
            "    - notebook==6.0.1=py37_0\n",
            "    - numba==0.45.1=py37h962f231_0\n",
            "    - numexpr==2.7.0=py37h9e4a6bb_0\n",
            "    - numpy-base==1.17.2=py37hde5b4d6_0\n",
            "    - numpy==1.17.2=py37haad9e8e_0\n",
            "    - numpydoc==0.9.1=py_0\n",
            "    - olefile==0.46=py37_0\n",
            "    - openpyxl==3.0.0=py_0\n",
            "    - openssl==1.1.1d=h7b6447c_2\n",
            "    - packaging==19.2=py_0\n",
            "    - pandas==0.25.1=py37he6710b0_0\n",
            "    - pandoc==2.2.3.2=0\n",
            "    - pandocfilters==1.4.2=py37_1\n",
            "    - pango==1.42.4=h049681c_0\n",
            "    - parso==0.5.1=py_0\n",
            "    - partd==1.0.0=py_0\n",
            "    - patchelf==0.9=he6710b0_3\n",
            "    - path.py==12.0.1=py_0\n",
            "    - pathlib2==2.3.5=py37_0\n",
            "    - patsy==0.5.1=py37_0\n",
            "    - pcre==8.43=he6710b0_0\n",
            "    - pep8==1.7.1=py37_0\n",
            "    - pexpect==4.7.0=py37_0\n",
            "    - pickleshare==0.7.5=py37_0\n",
            "    - pillow==6.2.0=py37h34e0f95_0\n",
            "    - pip==19.2.3=py37_0\n",
            "    - pixman==0.38.0=h7b6447c_0\n",
            "    - pkginfo==1.5.0.1=py37_0\n",
            "    - pluggy==0.13.0=py37_0\n",
            "    - ply==3.11=py37_0\n",
            "    - prometheus_client==0.7.1=py_0\n",
            "    - prompt_toolkit==2.0.10=py_0\n",
            "    - psutil==5.6.3=py37h7b6447c_0\n",
            "    - ptyprocess==0.6.0=py37_0\n",
            "    - py-lief==0.9.0=py37h7725739_2\n",
            "    - py==1.8.0=py37_0\n",
            "    - pycodestyle==2.5.0=py37_0\n",
            "    - pycosat==0.6.3=py37h14c3975_0\n",
            "    - pycparser==2.19=py37_0\n",
            "    - pycrypto==2.6.1=py37h14c3975_9\n",
            "    - pycurl==7.43.0.3=py37h1ba5d50_0\n",
            "    - pyflakes==2.1.1=py37_0\n",
            "    - pygments==2.4.2=py_0\n",
            "    - pylint==2.4.2=py37_0\n",
            "    - pyodbc==4.0.27=py37he6710b0_0\n",
            "    - pyopenssl==19.0.0=py37_0\n",
            "    - pyparsing==2.4.2=py_0\n",
            "    - pyqt==5.9.2=py37h05f1152_2\n",
            "    - pyrsistent==0.15.4=py37h7b6447c_0\n",
            "    - pysocks==1.7.1=py37_0\n",
            "    - pytables==3.5.2=py37h71ec239_1\n",
            "    - pytest-arraydiff==0.3=py37h39e3cac_0\n",
            "    - pytest-astropy==0.5.0=py37_0\n",
            "    - pytest-doctestplus==0.4.0=py_0\n",
            "    - pytest-openfiles==0.4.0=py_0\n",
            "    - pytest-remotedata==0.3.2=py37_0\n",
            "    - pytest==5.2.1=py37_0\n",
            "    - python-dateutil==2.8.0=py37_0\n",
            "    - python-libarchive-c==2.8=py37_13\n",
            "    - python==3.7.4=h265db76_1\n",
            "    - pytz==2019.3=py_0\n",
            "    - pywavelets==1.0.3=py37hdd07704_1\n",
            "    - pyyaml==5.1.2=py37h7b6447c_0\n",
            "    - pyzmq==18.1.0=py37he6710b0_0\n",
            "    - qt==5.9.7=h5867ecd_1\n",
            "    - qtawesome==0.6.0=py_0\n",
            "    - qtconsole==4.5.5=py_0\n",
            "    - qtpy==1.9.0=py_0\n",
            "    - readline==7.0=h7b6447c_5\n",
            "    - requests==2.22.0=py37_0\n",
            "    - ripgrep==0.10.0=hc07d326_0\n",
            "    - rope==0.14.0=py_0\n",
            "    - ruamel_yaml==0.15.46=py37h14c3975_0\n",
            "    - scikit-image==0.15.0=py37he6710b0_0\n",
            "    - scikit-learn==0.21.3=py37hd81dba3_0\n",
            "    - scipy==1.3.1=py37h7c811a0_0\n",
            "    - seaborn==0.9.0=py37_0\n",
            "    - secretstorage==3.1.1=py37_0\n",
            "    - send2trash==1.5.0=py37_0\n",
            "    - setuptools==41.4.0=py37_0\n",
            "    - simplegeneric==0.8.1=py37_2\n",
            "    - singledispatch==3.4.0.3=py37_0\n",
            "    - sip==4.19.8=py37hf484d3e_0\n",
            "    - six==1.12.0=py37_0\n",
            "    - snappy==1.1.7=hbae5bb6_3\n",
            "    - snowballstemmer==2.0.0=py_0\n",
            "    - sortedcollections==1.1.2=py37_0\n",
            "    - sortedcontainers==2.1.0=py37_0\n",
            "    - soupsieve==1.9.3=py37_0\n",
            "    - sphinx==2.2.0=py_0\n",
            "    - sphinxcontrib-applehelp==1.0.1=py_0\n",
            "    - sphinxcontrib-devhelp==1.0.1=py_0\n",
            "    - sphinxcontrib-htmlhelp==1.0.2=py_0\n",
            "    - sphinxcontrib-jsmath==1.0.1=py_0\n",
            "    - sphinxcontrib-qthelp==1.0.2=py_0\n",
            "    - sphinxcontrib-serializinghtml==1.1.3=py_0\n",
            "    - sphinxcontrib-websupport==1.1.2=py_0\n",
            "    - sphinxcontrib==1.0=py37_1\n",
            "    - spyder-kernels==0.5.2=py37_0\n",
            "    - spyder==3.3.6=py37_0\n",
            "    - sqlalchemy==1.3.9=py37h7b6447c_0\n",
            "    - sqlite==3.30.0=h7b6447c_0\n",
            "    - statsmodels==0.10.1=py37hdd07704_0\n",
            "    - sympy==1.4=py37_0\n",
            "    - tbb==2019.4=hfd86e86_0\n",
            "    - tblib==1.4.0=py_0\n",
            "    - terminado==0.8.2=py37_0\n",
            "    - testpath==0.4.2=py37_0\n",
            "    - tk==8.6.8=hbc83047_0\n",
            "    - toolz==0.10.0=py_0\n",
            "    - tornado==6.0.3=py37h7b6447c_0\n",
            "    - tqdm==4.36.1=py_0\n",
            "    - traitlets==4.3.3=py37_0\n",
            "    - unicodecsv==0.14.1=py37_0\n",
            "    - unixodbc==2.3.7=h14c3975_0\n",
            "    - urllib3==1.24.2=py37_0\n",
            "    - wcwidth==0.1.7=py37_0\n",
            "    - webencodings==0.5.1=py37_1\n",
            "    - werkzeug==0.16.0=py_0\n",
            "    - wheel==0.33.6=py37_0\n",
            "    - widgetsnbextension==3.5.1=py37_0\n",
            "    - wrapt==1.11.2=py37h7b6447c_0\n",
            "    - wurlitzer==1.0.3=py37_0\n",
            "    - xlrd==1.2.0=py37_0\n",
            "    - xlsxwriter==1.2.1=py_0\n",
            "    - xlwt==1.3.0=py37_0\n",
            "    - xz==5.2.4=h14c3975_4\n",
            "    - yaml==0.1.7=had09818_2\n",
            "    - zeromq==4.3.1=he6710b0_3\n",
            "    - zict==1.0.0=py_0\n",
            "    - zipp==0.6.0=py_0\n",
            "    - zlib==1.2.11=h7b6447c_3\n",
            "    - zstd==1.3.7=h0b5b093_0\n",
            "\n",
            "\n",
            "The following NEW packages will be INSTALLED:\n",
            "\n",
            "  _ipyw_jlab_nb_ext~ pkgs/main/linux-64::_ipyw_jlab_nb_ext_conf-0.1.0-py37_0\n",
            "  _libgcc_mutex      pkgs/main/linux-64::_libgcc_mutex-0.1-main\n",
            "  alabaster          pkgs/main/linux-64::alabaster-0.7.12-py37_0\n",
            "  anaconda           pkgs/main/linux-64::anaconda-2019.10-py37_0\n",
            "  anaconda-client    pkgs/main/linux-64::anaconda-client-1.7.2-py37_0\n",
            "  anaconda-navigator pkgs/main/linux-64::anaconda-navigator-1.9.7-py37_0\n",
            "  anaconda-project   pkgs/main/noarch::anaconda-project-0.8.3-py_0\n",
            "  asn1crypto         pkgs/main/linux-64::asn1crypto-1.0.1-py37_0\n",
            "  astroid            pkgs/main/linux-64::astroid-2.3.1-py37_0\n",
            "  astropy            pkgs/main/linux-64::astropy-3.2.2-py37h7b6447c_0\n",
            "  atomicwrites       pkgs/main/linux-64::atomicwrites-1.3.0-py37_1\n",
            "  attrs              pkgs/main/noarch::attrs-19.2.0-py_0\n",
            "  babel              pkgs/main/noarch::babel-2.7.0-py_0\n",
            "  backcall           pkgs/main/linux-64::backcall-0.1.0-py37_0\n",
            "  backports          pkgs/main/noarch::backports-1.0-py_2\n",
            "  backports.functoo~ pkgs/main/noarch::backports.functools_lru_cache-1.5-py_2\n",
            "  backports.os       pkgs/main/linux-64::backports.os-0.1.1-py37_0\n",
            "  backports.shutil_~ pkgs/main/linux-64::backports.shutil_get_terminal_size-1.0.0-py37_2\n",
            "  backports.tempfile pkgs/main/noarch::backports.tempfile-1.0-py_1\n",
            "  backports.weakref  pkgs/main/noarch::backports.weakref-1.0.post1-py_1\n",
            "  beautifulsoup4     pkgs/main/linux-64::beautifulsoup4-4.8.0-py37_0\n",
            "  bitarray           pkgs/main/linux-64::bitarray-1.0.1-py37h7b6447c_0\n",
            "  bkcharts           pkgs/main/linux-64::bkcharts-0.2-py37_0\n",
            "  blas               pkgs/main/linux-64::blas-1.0-mkl\n",
            "  bleach             pkgs/main/linux-64::bleach-3.1.0-py37_0\n",
            "  blosc              pkgs/main/linux-64::blosc-1.16.3-hd408876_0\n",
            "  bokeh              pkgs/main/linux-64::bokeh-1.3.4-py37_0\n",
            "  boto               pkgs/main/linux-64::boto-2.49.0-py37_0\n",
            "  bottleneck         pkgs/main/linux-64::bottleneck-1.2.1-py37h035aef0_1\n",
            "  bzip2              pkgs/main/linux-64::bzip2-1.0.8-h7b6447c_0\n",
            "  ca-certificates    pkgs/main/linux-64::ca-certificates-2019.8.28-0\n",
            "  cairo              pkgs/main/linux-64::cairo-1.14.12-h8948797_3\n",
            "  certifi            pkgs/main/linux-64::certifi-2019.9.11-py37_0\n",
            "  cffi               pkgs/main/linux-64::cffi-1.12.3-py37h2e261b9_0\n",
            "  chardet            pkgs/main/linux-64::chardet-3.0.4-py37_1003\n",
            "  click              pkgs/main/linux-64::click-7.0-py37_0\n",
            "  cloudpickle        pkgs/main/noarch::cloudpickle-1.2.2-py_0\n",
            "  clyent             pkgs/main/linux-64::clyent-1.2.2-py37_1\n",
            "  colorama           pkgs/main/linux-64::colorama-0.4.1-py37_0\n",
            "  conda              pkgs/main/linux-64::conda-4.7.12-py37_0\n",
            "  conda-build        pkgs/main/linux-64::conda-build-3.18.9-py37_3\n",
            "  conda-env          pkgs/main/linux-64::conda-env-2.6.0-1\n",
            "  conda-package-han~ pkgs/main/linux-64::conda-package-handling-1.6.0-py37h7b6447c_0\n",
            "  conda-verify       pkgs/main/noarch::conda-verify-3.4.2-py_1\n",
            "  contextlib2        pkgs/main/noarch::contextlib2-0.6.0-py_0\n",
            "  cryptography       pkgs/main/linux-64::cryptography-2.7-py37h1ba5d50_0\n",
            "  curl               pkgs/main/linux-64::curl-7.65.3-hbc83047_0\n",
            "  cycler             pkgs/main/linux-64::cycler-0.10.0-py37_0\n",
            "  cython             pkgs/main/linux-64::cython-0.29.13-py37he6710b0_0\n",
            "  cytoolz            pkgs/main/linux-64::cytoolz-0.10.0-py37h7b6447c_0\n",
            "  dask               pkgs/main/noarch::dask-2.5.2-py_0\n",
            "  dask-core          pkgs/main/noarch::dask-core-2.5.2-py_0\n",
            "  dbus               pkgs/main/linux-64::dbus-1.13.6-h746ee38_0\n",
            "  decorator          pkgs/main/linux-64::decorator-4.4.0-py37_1\n",
            "  defusedxml         pkgs/main/noarch::defusedxml-0.6.0-py_0\n",
            "  distributed        pkgs/main/noarch::distributed-2.5.2-py_0\n",
            "  docutils           pkgs/main/linux-64::docutils-0.15.2-py37_0\n",
            "  entrypoints        pkgs/main/linux-64::entrypoints-0.3-py37_0\n",
            "  et_xmlfile         pkgs/main/linux-64::et_xmlfile-1.0.1-py37_0\n",
            "  expat              pkgs/main/linux-64::expat-2.2.6-he6710b0_0\n",
            "  fastcache          pkgs/main/linux-64::fastcache-1.1.0-py37h7b6447c_0\n",
            "  filelock           pkgs/main/noarch::filelock-3.0.12-py_0\n",
            "  flask              pkgs/main/noarch::flask-1.1.1-py_0\n",
            "  fontconfig         pkgs/main/linux-64::fontconfig-2.13.0-h9420a91_0\n",
            "  freetype           pkgs/main/linux-64::freetype-2.9.1-h8a8886c_1\n",
            "  fribidi            pkgs/main/linux-64::fribidi-1.0.5-h7b6447c_0\n",
            "  fsspec             pkgs/main/noarch::fsspec-0.5.2-py_0\n",
            "  future             pkgs/main/linux-64::future-0.17.1-py37_0\n",
            "  get_terminal_size  pkgs/main/linux-64::get_terminal_size-1.0.0-haa9412d_0\n",
            "  gevent             pkgs/main/linux-64::gevent-1.4.0-py37h7b6447c_0\n",
            "  glib               pkgs/main/linux-64::glib-2.56.2-hd408876_0\n",
            "  glob2              pkgs/main/noarch::glob2-0.7-py_0\n",
            "  gmp                pkgs/main/linux-64::gmp-6.1.2-h6c8ec71_1\n",
            "  gmpy2              pkgs/main/linux-64::gmpy2-2.0.8-py37h10f8cd9_2\n",
            "  graphite2          pkgs/main/linux-64::graphite2-1.3.13-h23475e2_0\n",
            "  greenlet           pkgs/main/linux-64::greenlet-0.4.15-py37h7b6447c_0\n",
            "  gst-plugins-base   pkgs/main/linux-64::gst-plugins-base-1.14.0-hbbd80ab_1\n",
            "  gstreamer          pkgs/main/linux-64::gstreamer-1.14.0-hb453b48_1\n",
            "  h5py               pkgs/main/linux-64::h5py-2.9.0-py37h7918eee_0\n",
            "  harfbuzz           pkgs/main/linux-64::harfbuzz-1.8.8-hffaf4a1_0\n",
            "  hdf5               pkgs/main/linux-64::hdf5-1.10.4-hb1b8bf9_0\n",
            "  heapdict           pkgs/main/noarch::heapdict-1.0.1-py_0\n",
            "  html5lib           pkgs/main/linux-64::html5lib-1.0.1-py37_0\n",
            "  icu                pkgs/main/linux-64::icu-58.2-h9c2bf20_1\n",
            "  idna               pkgs/main/linux-64::idna-2.8-py37_0\n",
            "  imageio            pkgs/main/linux-64::imageio-2.6.0-py37_0\n",
            "  imagesize          pkgs/main/linux-64::imagesize-1.1.0-py37_0\n",
            "  importlib_metadata pkgs/main/linux-64::importlib_metadata-0.23-py37_0\n",
            "  intel-openmp       pkgs/main/linux-64::intel-openmp-2019.4-243\n",
            "  ipykernel          pkgs/main/linux-64::ipykernel-5.1.2-py37h39e3cac_0\n",
            "  ipython            pkgs/main/linux-64::ipython-7.8.0-py37h39e3cac_0\n",
            "  ipython_genutils   pkgs/main/linux-64::ipython_genutils-0.2.0-py37_0\n",
            "  ipywidgets         pkgs/main/noarch::ipywidgets-7.5.1-py_0\n",
            "  isort              pkgs/main/linux-64::isort-4.3.21-py37_0\n",
            "  itsdangerous       pkgs/main/linux-64::itsdangerous-1.1.0-py37_0\n",
            "  jbig               pkgs/main/linux-64::jbig-2.1-hdba287a_0\n",
            "  jdcal              pkgs/main/noarch::jdcal-1.4.1-py_0\n",
            "  jedi               pkgs/main/linux-64::jedi-0.15.1-py37_0\n",
            "  jeepney            pkgs/main/noarch::jeepney-0.4.1-py_0\n",
            "  jinja2             pkgs/main/noarch::jinja2-2.10.3-py_0\n",
            "  joblib             pkgs/main/linux-64::joblib-0.13.2-py37_0\n",
            "  jpeg               pkgs/main/linux-64::jpeg-9b-h024ee3a_2\n",
            "  json5              pkgs/main/noarch::json5-0.8.5-py_0\n",
            "  jsonschema         pkgs/main/linux-64::jsonschema-3.0.2-py37_0\n",
            "  jupyter            pkgs/main/linux-64::jupyter-1.0.0-py37_7\n",
            "  jupyter_client     pkgs/main/linux-64::jupyter_client-5.3.3-py37_1\n",
            "  jupyter_console    pkgs/main/linux-64::jupyter_console-6.0.0-py37_0\n",
            "  jupyter_core       pkgs/main/noarch::jupyter_core-4.5.0-py_0\n",
            "  jupyterlab         pkgs/main/noarch::jupyterlab-1.1.4-pyhf63ae98_0\n",
            "  jupyterlab_server  pkgs/main/noarch::jupyterlab_server-1.0.6-py_0\n",
            "  keyring            pkgs/main/linux-64::keyring-18.0.0-py37_0\n",
            "  kiwisolver         pkgs/main/linux-64::kiwisolver-1.1.0-py37he6710b0_0\n",
            "  krb5               pkgs/main/linux-64::krb5-1.16.1-h173b8e3_7\n",
            "  lazy-object-proxy  pkgs/main/linux-64::lazy-object-proxy-1.4.2-py37h7b6447c_0\n",
            "  libarchive         pkgs/main/linux-64::libarchive-3.3.3-h5d8350f_5\n",
            "  libcurl            pkgs/main/linux-64::libcurl-7.65.3-h20c2e04_0\n",
            "  libedit            pkgs/main/linux-64::libedit-3.1.20181209-hc058e9b_0\n",
            "  libffi             pkgs/main/linux-64::libffi-3.2.1-hd88cf55_4\n",
            "  libgcc-ng          pkgs/main/linux-64::libgcc-ng-9.1.0-hdf63c60_0\n",
            "  libgfortran-ng     pkgs/main/linux-64::libgfortran-ng-7.3.0-hdf63c60_0\n",
            "  liblief            pkgs/main/linux-64::liblief-0.9.0-h7725739_2\n",
            "  libpng             pkgs/main/linux-64::libpng-1.6.37-hbc83047_0\n",
            "  libsodium          pkgs/main/linux-64::libsodium-1.0.16-h1bed415_0\n",
            "  libssh2            pkgs/main/linux-64::libssh2-1.8.2-h1ba5d50_0\n",
            "  libstdcxx-ng       pkgs/main/linux-64::libstdcxx-ng-9.1.0-hdf63c60_0\n",
            "  libtiff            pkgs/main/linux-64::libtiff-4.0.10-h2733197_2\n",
            "  libtool            pkgs/main/linux-64::libtool-2.4.6-h7b6447c_5\n",
            "  libuuid            pkgs/main/linux-64::libuuid-1.0.3-h1bed415_2\n",
            "  libxcb             pkgs/main/linux-64::libxcb-1.13-h1bed415_1\n",
            "  libxml2            pkgs/main/linux-64::libxml2-2.9.9-hea5a465_1\n",
            "  libxslt            pkgs/main/linux-64::libxslt-1.1.33-h7d1a2b0_0\n",
            "  llvmlite           pkgs/main/linux-64::llvmlite-0.29.0-py37hd408876_0\n",
            "  locket             pkgs/main/linux-64::locket-0.2.0-py37_1\n",
            "  lxml               pkgs/main/linux-64::lxml-4.4.1-py37hefd8a0e_0\n",
            "  lz4-c              pkgs/main/linux-64::lz4-c-1.8.1.2-h14c3975_0\n",
            "  lzo                pkgs/main/linux-64::lzo-2.10-h49e0be7_2\n",
            "  markupsafe         pkgs/main/linux-64::markupsafe-1.1.1-py37h7b6447c_0\n",
            "  matplotlib         pkgs/main/linux-64::matplotlib-3.1.1-py37h5429711_0\n",
            "  mccabe             pkgs/main/linux-64::mccabe-0.6.1-py37_1\n",
            "  mistune            pkgs/main/linux-64::mistune-0.8.4-py37h7b6447c_0\n",
            "  mkl                pkgs/main/linux-64::mkl-2019.4-243\n",
            "  mkl-service        pkgs/main/linux-64::mkl-service-2.3.0-py37he904b0f_0\n",
            "  mkl_fft            pkgs/main/linux-64::mkl_fft-1.0.14-py37ha843d7b_0\n",
            "  mkl_random         pkgs/main/linux-64::mkl_random-1.1.0-py37hd6b4f25_0\n",
            "  mock               pkgs/main/linux-64::mock-3.0.5-py37_0\n",
            "  more-itertools     pkgs/main/linux-64::more-itertools-7.2.0-py37_0\n",
            "  mpc                pkgs/main/linux-64::mpc-1.1.0-h10f8cd9_1\n",
            "  mpfr               pkgs/main/linux-64::mpfr-4.0.1-hdf1c602_3\n",
            "  mpmath             pkgs/main/linux-64::mpmath-1.1.0-py37_0\n",
            "  msgpack-python     pkgs/main/linux-64::msgpack-python-0.6.1-py37hfd86e86_1\n",
            "  multipledispatch   pkgs/main/linux-64::multipledispatch-0.6.0-py37_0\n",
            "  navigator-updater  pkgs/main/linux-64::navigator-updater-0.2.1-py37_0\n",
            "  nbconvert          pkgs/main/linux-64::nbconvert-5.6.0-py37_1\n",
            "  nbformat           pkgs/main/linux-64::nbformat-4.4.0-py37_0\n",
            "  ncurses            pkgs/main/linux-64::ncurses-6.1-he6710b0_1\n",
            "  networkx           pkgs/main/noarch::networkx-2.3-py_0\n",
            "  nltk               pkgs/main/linux-64::nltk-3.4.5-py37_0\n",
            "  nose               pkgs/main/linux-64::nose-1.3.7-py37_2\n",
            "  notebook           pkgs/main/linux-64::notebook-6.0.1-py37_0\n",
            "  numba              pkgs/main/linux-64::numba-0.45.1-py37h962f231_0\n",
            "  numexpr            pkgs/main/linux-64::numexpr-2.7.0-py37h9e4a6bb_0\n",
            "  numpy              pkgs/main/linux-64::numpy-1.17.2-py37haad9e8e_0\n",
            "  numpy-base         pkgs/main/linux-64::numpy-base-1.17.2-py37hde5b4d6_0\n",
            "  numpydoc           pkgs/main/noarch::numpydoc-0.9.1-py_0\n",
            "  olefile            pkgs/main/linux-64::olefile-0.46-py37_0\n",
            "  openpyxl           pkgs/main/noarch::openpyxl-3.0.0-py_0\n",
            "  openssl            pkgs/main/linux-64::openssl-1.1.1d-h7b6447c_2\n",
            "  packaging          pkgs/main/noarch::packaging-19.2-py_0\n",
            "  pandas             pkgs/main/linux-64::pandas-0.25.1-py37he6710b0_0\n",
            "  pandoc             pkgs/main/linux-64::pandoc-2.2.3.2-0\n",
            "  pandocfilters      pkgs/main/linux-64::pandocfilters-1.4.2-py37_1\n",
            "  pango              pkgs/main/linux-64::pango-1.42.4-h049681c_0\n",
            "  parso              pkgs/main/noarch::parso-0.5.1-py_0\n",
            "  partd              pkgs/main/noarch::partd-1.0.0-py_0\n",
            "  patchelf           pkgs/main/linux-64::patchelf-0.9-he6710b0_3\n",
            "  path.py            pkgs/main/noarch::path.py-12.0.1-py_0\n",
            "  pathlib2           pkgs/main/linux-64::pathlib2-2.3.5-py37_0\n",
            "  patsy              pkgs/main/linux-64::patsy-0.5.1-py37_0\n",
            "  pcre               pkgs/main/linux-64::pcre-8.43-he6710b0_0\n",
            "  pep8               pkgs/main/linux-64::pep8-1.7.1-py37_0\n",
            "  pexpect            pkgs/main/linux-64::pexpect-4.7.0-py37_0\n",
            "  pickleshare        pkgs/main/linux-64::pickleshare-0.7.5-py37_0\n",
            "  pillow             pkgs/main/linux-64::pillow-6.2.0-py37h34e0f95_0\n",
            "  pip                pkgs/main/linux-64::pip-19.2.3-py37_0\n",
            "  pixman             pkgs/main/linux-64::pixman-0.38.0-h7b6447c_0\n",
            "  pkginfo            pkgs/main/linux-64::pkginfo-1.5.0.1-py37_0\n",
            "  pluggy             pkgs/main/linux-64::pluggy-0.13.0-py37_0\n",
            "  ply                pkgs/main/linux-64::ply-3.11-py37_0\n",
            "  prometheus_client  pkgs/main/noarch::prometheus_client-0.7.1-py_0\n",
            "  prompt_toolkit     pkgs/main/noarch::prompt_toolkit-2.0.10-py_0\n",
            "  psutil             pkgs/main/linux-64::psutil-5.6.3-py37h7b6447c_0\n",
            "  ptyprocess         pkgs/main/linux-64::ptyprocess-0.6.0-py37_0\n",
            "  py                 pkgs/main/linux-64::py-1.8.0-py37_0\n",
            "  py-lief            pkgs/main/linux-64::py-lief-0.9.0-py37h7725739_2\n",
            "  pycodestyle        pkgs/main/linux-64::pycodestyle-2.5.0-py37_0\n",
            "  pycosat            pkgs/main/linux-64::pycosat-0.6.3-py37h14c3975_0\n",
            "  pycparser          pkgs/main/linux-64::pycparser-2.19-py37_0\n",
            "  pycrypto           pkgs/main/linux-64::pycrypto-2.6.1-py37h14c3975_9\n",
            "  pycurl             pkgs/main/linux-64::pycurl-7.43.0.3-py37h1ba5d50_0\n",
            "  pyflakes           pkgs/main/linux-64::pyflakes-2.1.1-py37_0\n",
            "  pygments           pkgs/main/noarch::pygments-2.4.2-py_0\n",
            "  pylint             pkgs/main/linux-64::pylint-2.4.2-py37_0\n",
            "  pyodbc             pkgs/main/linux-64::pyodbc-4.0.27-py37he6710b0_0\n",
            "  pyopenssl          pkgs/main/linux-64::pyopenssl-19.0.0-py37_0\n",
            "  pyparsing          pkgs/main/noarch::pyparsing-2.4.2-py_0\n",
            "  pyqt               pkgs/main/linux-64::pyqt-5.9.2-py37h05f1152_2\n",
            "  pyrsistent         pkgs/main/linux-64::pyrsistent-0.15.4-py37h7b6447c_0\n",
            "  pysocks            pkgs/main/linux-64::pysocks-1.7.1-py37_0\n",
            "  pytables           pkgs/main/linux-64::pytables-3.5.2-py37h71ec239_1\n",
            "  pytest             pkgs/main/linux-64::pytest-5.2.1-py37_0\n",
            "  pytest-arraydiff   pkgs/main/linux-64::pytest-arraydiff-0.3-py37h39e3cac_0\n",
            "  pytest-astropy     pkgs/main/linux-64::pytest-astropy-0.5.0-py37_0\n",
            "  pytest-doctestplus pkgs/main/noarch::pytest-doctestplus-0.4.0-py_0\n",
            "  pytest-openfiles   pkgs/main/noarch::pytest-openfiles-0.4.0-py_0\n",
            "  pytest-remotedata  pkgs/main/linux-64::pytest-remotedata-0.3.2-py37_0\n",
            "  python             pkgs/main/linux-64::python-3.7.4-h265db76_1\n",
            "  python-dateutil    pkgs/main/linux-64::python-dateutil-2.8.0-py37_0\n",
            "  python-libarchive~ pkgs/main/linux-64::python-libarchive-c-2.8-py37_13\n",
            "  pytz               pkgs/main/noarch::pytz-2019.3-py_0\n",
            "  pywavelets         pkgs/main/linux-64::pywavelets-1.0.3-py37hdd07704_1\n",
            "  pyyaml             pkgs/main/linux-64::pyyaml-5.1.2-py37h7b6447c_0\n",
            "  pyzmq              pkgs/main/linux-64::pyzmq-18.1.0-py37he6710b0_0\n",
            "  qt                 pkgs/main/linux-64::qt-5.9.7-h5867ecd_1\n",
            "  qtawesome          pkgs/main/noarch::qtawesome-0.6.0-py_0\n",
            "  qtconsole          pkgs/main/noarch::qtconsole-4.5.5-py_0\n",
            "  qtpy               pkgs/main/noarch::qtpy-1.9.0-py_0\n",
            "  readline           pkgs/main/linux-64::readline-7.0-h7b6447c_5\n",
            "  requests           pkgs/main/linux-64::requests-2.22.0-py37_0\n",
            "  ripgrep            pkgs/main/linux-64::ripgrep-0.10.0-hc07d326_0\n",
            "  rope               pkgs/main/noarch::rope-0.14.0-py_0\n",
            "  ruamel_yaml        pkgs/main/linux-64::ruamel_yaml-0.15.46-py37h14c3975_0\n",
            "  scikit-image       pkgs/main/linux-64::scikit-image-0.15.0-py37he6710b0_0\n",
            "  scikit-learn       pkgs/main/linux-64::scikit-learn-0.21.3-py37hd81dba3_0\n",
            "  scipy              pkgs/main/linux-64::scipy-1.3.1-py37h7c811a0_0\n",
            "  seaborn            pkgs/main/linux-64::seaborn-0.9.0-py37_0\n",
            "  secretstorage      pkgs/main/linux-64::secretstorage-3.1.1-py37_0\n",
            "  send2trash         pkgs/main/linux-64::send2trash-1.5.0-py37_0\n",
            "  setuptools         pkgs/main/linux-64::setuptools-41.4.0-py37_0\n",
            "  simplegeneric      pkgs/main/linux-64::simplegeneric-0.8.1-py37_2\n",
            "  singledispatch     pkgs/main/linux-64::singledispatch-3.4.0.3-py37_0\n",
            "  sip                pkgs/main/linux-64::sip-4.19.8-py37hf484d3e_0\n",
            "  six                pkgs/main/linux-64::six-1.12.0-py37_0\n",
            "  snappy             pkgs/main/linux-64::snappy-1.1.7-hbae5bb6_3\n",
            "  snowballstemmer    pkgs/main/noarch::snowballstemmer-2.0.0-py_0\n",
            "  sortedcollections  pkgs/main/linux-64::sortedcollections-1.1.2-py37_0\n",
            "  sortedcontainers   pkgs/main/linux-64::sortedcontainers-2.1.0-py37_0\n",
            "  soupsieve          pkgs/main/linux-64::soupsieve-1.9.3-py37_0\n",
            "  sphinx             pkgs/main/noarch::sphinx-2.2.0-py_0\n",
            "  sphinxcontrib      pkgs/main/linux-64::sphinxcontrib-1.0-py37_1\n",
            "  sphinxcontrib-app~ pkgs/main/noarch::sphinxcontrib-applehelp-1.0.1-py_0\n",
            "  sphinxcontrib-dev~ pkgs/main/noarch::sphinxcontrib-devhelp-1.0.1-py_0\n",
            "  sphinxcontrib-htm~ pkgs/main/noarch::sphinxcontrib-htmlhelp-1.0.2-py_0\n",
            "  sphinxcontrib-jsm~ pkgs/main/noarch::sphinxcontrib-jsmath-1.0.1-py_0\n",
            "  sphinxcontrib-qth~ pkgs/main/noarch::sphinxcontrib-qthelp-1.0.2-py_0\n",
            "  sphinxcontrib-ser~ pkgs/main/noarch::sphinxcontrib-serializinghtml-1.1.3-py_0\n",
            "  sphinxcontrib-web~ pkgs/main/noarch::sphinxcontrib-websupport-1.1.2-py_0\n",
            "  spyder             pkgs/main/linux-64::spyder-3.3.6-py37_0\n",
            "  spyder-kernels     pkgs/main/linux-64::spyder-kernels-0.5.2-py37_0\n",
            "  sqlalchemy         pkgs/main/linux-64::sqlalchemy-1.3.9-py37h7b6447c_0\n",
            "  sqlite             pkgs/main/linux-64::sqlite-3.30.0-h7b6447c_0\n",
            "  statsmodels        pkgs/main/linux-64::statsmodels-0.10.1-py37hdd07704_0\n",
            "  sympy              pkgs/main/linux-64::sympy-1.4-py37_0\n",
            "  tbb                pkgs/main/linux-64::tbb-2019.4-hfd86e86_0\n",
            "  tblib              pkgs/main/noarch::tblib-1.4.0-py_0\n",
            "  terminado          pkgs/main/linux-64::terminado-0.8.2-py37_0\n",
            "  testpath           pkgs/main/linux-64::testpath-0.4.2-py37_0\n",
            "  tk                 pkgs/main/linux-64::tk-8.6.8-hbc83047_0\n",
            "  toolz              pkgs/main/noarch::toolz-0.10.0-py_0\n",
            "  tornado            pkgs/main/linux-64::tornado-6.0.3-py37h7b6447c_0\n",
            "  tqdm               pkgs/main/noarch::tqdm-4.36.1-py_0\n",
            "  traitlets          pkgs/main/linux-64::traitlets-4.3.3-py37_0\n",
            "  unicodecsv         pkgs/main/linux-64::unicodecsv-0.14.1-py37_0\n",
            "  unixodbc           pkgs/main/linux-64::unixodbc-2.3.7-h14c3975_0\n",
            "  urllib3            pkgs/main/linux-64::urllib3-1.24.2-py37_0\n",
            "  wcwidth            pkgs/main/linux-64::wcwidth-0.1.7-py37_0\n",
            "  webencodings       pkgs/main/linux-64::webencodings-0.5.1-py37_1\n",
            "  werkzeug           pkgs/main/noarch::werkzeug-0.16.0-py_0\n",
            "  wheel              pkgs/main/linux-64::wheel-0.33.6-py37_0\n",
            "  widgetsnbextension pkgs/main/linux-64::widgetsnbextension-3.5.1-py37_0\n",
            "  wrapt              pkgs/main/linux-64::wrapt-1.11.2-py37h7b6447c_0\n",
            "  wurlitzer          pkgs/main/linux-64::wurlitzer-1.0.3-py37_0\n",
            "  xlrd               pkgs/main/linux-64::xlrd-1.2.0-py37_0\n",
            "  xlsxwriter         pkgs/main/noarch::xlsxwriter-1.2.1-py_0\n",
            "  xlwt               pkgs/main/linux-64::xlwt-1.3.0-py37_0\n",
            "  xz                 pkgs/main/linux-64::xz-5.2.4-h14c3975_4\n",
            "  yaml               pkgs/main/linux-64::yaml-0.1.7-had09818_2\n",
            "  zeromq             pkgs/main/linux-64::zeromq-4.3.1-he6710b0_3\n",
            "  zict               pkgs/main/noarch::zict-1.0.0-py_0\n",
            "  zipp               pkgs/main/noarch::zipp-0.6.0-py_0\n",
            "  zlib               pkgs/main/linux-64::zlib-1.2.11-h7b6447c_3\n",
            "  zstd               pkgs/main/linux-64::zstd-1.3.7-h0b5b093_0\n",
            "\n",
            "\n",
            "Preparing transaction: / \b\b- \b\b\\ \b\b| \b\b/ \b\b- \b\b\\ \b\b| \b\b/ \b\b- \b\b\\ \b\b| \b\b/ \b\b- \b\b\\ \b\b| \b\b/ \b\b- \b\b\\ \b\b| \b\b/ \b\b- \b\b\\ \b\b| \b\bdone\n",
            "Executing transaction: - \b\b\\ \b\b| \b\b/ \b\b- \b\b\\ \b\b| \b\b/ \b\b- \b\b\\ \b\b| \b\b/ \b\b- \b\b\\ \b\b| \b\b/ \b\b- \b\b\\ \b\b| \b\b/ \b\b- \b\b\\ \b\b| \b\b/ \b\b- \b\b\\ \b\b| \b\b/ \b\b- \b\b\\ \b\b| \b\b/ \b\b- \b\b\\ \b\b| \b\b/ \b\b- \b\b\\ \b\b| \b\b/ \b\b- \b\b\\ \b\b| \b\b/ \b\b- \b\b\\ \b\b| \b\b/ \b\b- \b\b\\ \b\b| \b\b/ \b\b- \b\b\\ \b\b| \b\b/ \b\b- \b\b\\ \b\b| \b\b/ \b\b- \b\b\\ \b\b| \b\b/ \b\b- \b\b\\ \b\b| \b\b/ \b\b- \b\b\\ \b\b| \b\b/ \b\b- \b\b\\ \b\b| \b\b/ \b\b- \b\b\\ \b\b| \b\b/ \b\b- \b\b\\ \b\b| \b\b/ \b\b- \b\b\\ \b\b| \b\b/ \b\b- \b\b\\ \b\b| \b\b/ \b\b- \b\b\\ \b\b| \b\b/ \b\b- \b\b\\ \b\b| \b\b/ \b\b- \b\b\\ \b\b| \b\b/ \b\b- \b\b\\ \b\b| \b\b/ \b\b- \b\b\\ \b\b| \b\b/ \b\b- \b\b\\ \b\b| \b\b/ \b\b- \b\b\\ \b\b| \b\b/ \b\b- \b\b\\ \b\b| \b\b/ \b\b- \b\b\\ \b\b| \b\b/ \b\b- \b\b\\ \b\b| \b\b/ \b\b- \b\b\\ \b\b| \b\b/ \b\b- \b\b\\ \b\b| \b\b/ \b\b- \b\b\\ \b\b| \b\b/ \b\b- \b\b\\ \b\b| \b\b/ \b\b- \b\b\\ \b\b| \b\b/ \b\b- \b\b\\ \b\b| \b\b/ \b\b- \b\b\\ \b\b| \b\b/ \b\b- \b\b\\ \b\b| \b\b/ \b\b- \b\b\\ \b\b| \b\b/ \b\b- \b\b\\ \b\b| \b\b/ \b\b- \b\b\\ \b\b| \b\b/ \b\b- \b\b\\ \b\b| \b\b/ \b\b- \b\b\\ \b\b| \b\b/ \b\b- \b\b\\ \b\b| \b\b/ \b\b- \b\b\\ \b\b| \b\b/ \b\b- \b\b\\ \b\b| \b\b/ \b\b- \b\b\\ \b\b| \b\b/ \b\b- \b\b\\ \b\b| \b\b/ \b\b- \b\b\\ \b\b| \b\b/ \b\b- \b\b\\ \b\b| \b\b/ \b\b- \b\b\\ \b\b| \b\b/ \b\b- \b\b\\ \b\b| \b\b/ \b\b- \b\b\\ \b\b| \b\b/ \b\b- \b\b\\ \b\b| \b\b/ \b\b- \b\b\\ \b\b| \b\b/ \b\b- \b\b\\ \b\b| \b\b/ \b\b- \b\b\\ \b\b| \b\b/ \b\b- \b\b\\ \b\b| \b\b/ \b\b- \b\b\\ \b\b| \b\b/ \b\b- \b\b\\ \b\b| \b\b/ \b\b- \b\b\\ \b\b| \b\b/ \b\b- \b\b\\ \b\b| \b\b/ \b\b- \b\b\\ \b\b| \b\b/ \b\b- \b\b\\ \b\b| \b\b/ \b\b- \b\b\\ \b\b| \b\b/ \b\b- \b\b\\ \b\b| \b\b/ \b\b- \b\b\\ \b\b| \b\b/ \b\b- \b\b\\ \b\b| \b\b/ \b\b- \b\b\\ \b\b| \b\b/ \b\b- \b\b\\ \b\b| \b\b/ \b\b- \b\b\\ \b\b| \b\b/ \b\b- \b\b\\ \b\b| \b\b/ \b\b- \b\b\\ \b\b| \b\b/ \b\b- \b\b\\ \b\b| \b\b/ \b\b- \b\b\\ \b\b| \b\b/ \b\b- \b\b\\ \b\b| \b\b/ \b\b- \b\b\\ \b\b| \b\b/ \b\b- \b\b\\ \b\b| \b\b/ \b\b- \b\b\\ \b\b| \b\b/ \b\b- \b\b\\ \b\b| \b\b/ \b\b- \b\b\\ \b\b| \b\b/ \b\b- \b\b\\ \b\b| \b\b/ \b\b- \b\b\\ \b\b| \b\b/ \b\b- \b\b\\ \b\b| \b\b/ \b\b- \b\b\\ \b\b| \b\b/ \b\b- \b\b\\ \b\b| \b\b/ \b\b- \b\b\\ \b\b| \b\b/ \b\b- \b\b\\ \b\b| \b\b/ \b\b- \b\b\\ \b\b| \b\b/ \b\b- \b\b\\ \b\b| \b\b/ \b\b- \b\b\\ \b\b| \b\b/ \b\b- \b\b\\ \b\b| \b\b/ \b\b- \b\b\\ \b\b| \b\b/ \b\b- \b\b\\ \b\b| \b\b/ \b\b- \b\b\\ \b\b| \b\b/ \b\b- \b\b\\ \b\b| \b\b/ \b\b- \b\b\\ \b\b| \b\b/ \b\b- \b\b\\ \b\b| \b\b/ \b\b- \b\b\\ \b\b| \b\b/ \b\b- \b\b\\ \b\b| \b\b/ \b\b- \b\b\\ \b\b| \b\b/ \b\b- \b\b\\ \b\b| \b\b/ \b\b- \b\b\\ \b\b| \b\b/ \b\b- \b\b\\ \b\b| \b\b/ \b\b- \b\b\\ \b\b| \b\b/ \b\b- \b\b\\ \b\b| \b\b/ \b\b- \b\b\\ \b\b| \b\b/ \b\b- \b\b\\ \b\b| \b\b/ \b\b- \b\b\\ \b\b| \b\b/ \b\b- \b\b\\ \b\b| \b\b/ \b\b- \b\b\\ \b\b| \b\b/ \b\b- \b\b\\ \b\b| \b\b/ \b\b- \b\b\\ \b\b| \b\b/ \b\b- \b\b\\ \b\b| \b\b/ \b\b- \b\b\\ \b\b| \b\b/ \b\b- \b\b\\ \b\b| \b\b/ \b\b- \b\b\\ \b\b| \b\b/ \b\b- \b\b\\ \b\b| \b\b/ \b\b- \b\b\\ \b\b| \b\b/ \b\b- \b\b\\ \b\b| \b\b/ \b\b- \b\b\\ \b\b| \b\b/ \b\b- \b\b\\ \b\b| \b\b/ \b\b- \b\b\\ \b\b| \b\b/ \b\b- \b\b\\ \b\b| \b\b/ \b\b- \b\b\\ \b\b| \b\b/ \b\b- \b\b\\ \b\b| \b\b/ \b\b- \b\b\\ \b\b| \b\b/ \b\b- \b\b\\ \b\b| \b\b/ \b\b- \b\b\\ \b\b| \b\b/ \b\b- \b\b\\ \b\b| \b\b/ \b\b- \b\b\\ \b\b| \b\b/ \b\bdone\n",
            "installation finished.\n",
            "WARNING:\n",
            "    You currently have a PYTHONPATH environment variable set. This may cause\n",
            "    unexpected behavior when running the Python interpreter in Anaconda3.\n",
            "    For best results, please verify that your PYTHONPATH only points to\n",
            "    directories of packages that are compatible with the Python interpreter\n",
            "    in Anaconda3: /usr/local\n",
            "Collecting package metadata (current_repodata.json): - \b\b\\ \b\b| \b\b/ \b\b- \b\b\\ \b\b| \b\b/ \b\b- \b\b\\ \b\b| \b\b/ \b\b- \b\b\\ \b\b| \b\b/ \b\b- \b\b\\ \b\b| \b\b/ \b\b- \b\b\\ \b\b| \b\b/ \b\b- \b\b\\ \b\b| \b\b/ \b\b- \b\b\\ \b\b| \b\b/ \b\b- \b\b\\ \b\b| \b\b/ \b\b- \b\b\\ \b\b| \b\b/ \b\b- \b\b\\ \b\b| \b\b/ \b\b- \b\b\\ \b\b| \b\b/ \b\b- \b\b\\ \b\b| \b\b/ \b\b- \b\b\\ \b\b| \b\b/ \b\b- \b\b\\ \b\b| \b\b/ \b\b- \b\b\\ \b\b| \b\b/ \b\b- \b\b\\ \b\b| \b\b/ \b\b- \b\b\\ \b\b| \b\b/ \b\bdone\n",
            "Solving environment: \\ \b\b| \b\b/ \b\b- \b\b\\ \b\b| \b\b/ \b\b- \b\b\\ \b\b| \b\b/ \b\b- \b\b\\ \b\b| \b\b/ \b\b- \b\b\\ \b\b| \b\b/ \b\b- \b\b\\ \b\b| \b\b/ \b\b- \b\b\\ \b\b| \b\b/ \b\b- \b\b\\ \b\b| \b\b/ \b\b- \b\b\\ \b\b| \b\b/ \b\b- \b\b\\ \b\b| \b\b/ \b\b- \b\b\\ \b\b| \b\b/ \b\b- \b\b\\ \b\b| \b\b/ \b\b- \b\b\\ \b\b| \b\b/ \b\b- \b\b\\ \b\b| \b\b/ \b\b- \b\b\\ \b\b| \b\b/ \b\b- \b\b\\ \b\b| \b\b/ \b\b- \b\b\\ \b\b| \b\b/ \b\b- \b\b\\ \b\b| \b\b/ \b\b- \b\b\\ \b\b| \b\b/ \b\b- \b\b\\ \b\b| \b\b/ \b\b- \b\b\\ \b\b| \b\b/ \b\b- \b\b\\ \b\b| \b\b/ \b\b- \b\b\\ \b\b| \b\b/ \b\b- \b\b\\ \b\b| \b\b/ \b\b- \b\b\\ \b\b| \b\b/ \b\b- \b\b\\ \b\b| \b\b/ \b\b- \b\b\\ \b\b| \b\b/ \b\b- \b\b\\ \b\b| \b\b/ \b\b- \b\b\\ \b\b| \b\b/ \b\b- \b\b\\ \b\b| \b\b/ \b\b- \b\b\\ \b\b| \b\b/ \b\b- \b\b\\ \b\b| \b\b/ \b\b- \b\b\\ \b\b| \b\b/ \b\b- \b\b\\ \b\b| \b\b/ \b\b- \b\b\\ \b\b| \b\b/ \b\b- \b\b\\ \b\b| \b\b/ \b\b- \b\b\\ \b\b| \b\b/ \b\b- \b\b\\ \b\b| \b\b/ \b\b- \b\b\\ \b\b| \b\b/ \b\b- \b\b\\ \b\b| \b\b/ \b\b- \b\b\\ \b\b| \b\b/ \b\b- \b\b\\ \b\b| \b\b/ \b\b- \b\b\\ \b\b| \b\b/ \b\b- \b\b\\ \b\b| \b\b/ \b\b- \b\b\\ \b\b| \b\b/ \b\b- \b\b\\ \b\b| \b\b/ \b\b- \b\b\\ \b\b| \b\b/ \b\b- \b\b\\ \b\b| \b\b/ \b\b- \b\b\\ \b\b| \b\b/ \b\b- \b\b\\ \b\b| \b\b/ \b\b- \b\b\\ \b\b| \b\b/ \b\b- \b\b\\ \b\b| \b\b/ \b\b- \b\b\\ \b\b| \b\b/ \b\b- \b\b\\ \b\b| \b\b/ \b\b- \b\b\\ \b\b| \b\b/ \b\b- \b\b\\ \b\b| \b\b/ \b\b- \b\b\\ \b\b| \b\b/ \b\b- \b\b\\ \b\b| \b\b/ \b\b- \b\b\\ \b\b| \b\b/ \b\b- \b\b\\ \b\b| \b\b/ \b\b- \b\b\\ \b\b| \b\b/ \b\b- \b\b\\ \b\b| \b\b/ \b\b- \b\b\\ \b\b| \b\b/ \b\b- \b\b\\ \b\b| \b\b/ \b\b- \b\b\\ \b\b| \b\b/ \b\b- \b\b\\ \b\b| \b\b/ \b\b- \b\b\\ \b\b| \b\b/ \b\b- \b\b\\ \b\b| \b\b/ \b\b- \b\b\\ \b\b| \b\b/ \b\b- \b\b\\ \b\b| \b\b/ \b\b- \b\b\\ \b\b| \b\b/ \b\b- \b\b\\ \b\b| \b\b/ \b\b- \b\b\\ \b\b| \b\b/ \b\b- \b\b\\ \b\b| \b\b/ \b\b- \b\b\\ \b\b| \b\b/ \b\b- \b\b\\ \b\b| \b\b/ \b\b- \b\b\\ \b\b| \b\b/ \b\b- \b\b\\ \b\b| \b\b/ \b\b- \b\b\\ \b\b| \b\b/ \b\b- \b\b\\ \b\b| \b\b/ \b\b- \b\b\\ \b\b| \b\b/ \b\b- \b\b\\ \b\b| \b\b/ \b\b- \b\b\\ \b\b| \b\b/ \b\b- \b\b\\ \b\bfailed with initial frozen solve. Retrying with flexible solve.\n",
            "Solving environment: / \b\b- \b\b\\ \b\b| \b\b/ \b\b- \b\b\\ \b\b| \b\b/ \b\b- \b\b\\ \b\b| \b\b/ \b\b- \b\b\\ \b\b| \b\b/ \b\b- \b\b\\ \b\b| \b\b/ \b\b- \b\b\\ \b\b| \b\b/ \b\b- \b\b\\ \b\b| \b\b/ \b\b- \b\b\\ \b\b| \b\b/ \b\b- \b\b\\ \b\b| \b\b/ \b\b- \b\b\\ \b\b| \b\b/ \b\b- \b\b\\ \b\b| \b\b/ \b\b- \b\b\\ \b\b| \b\b/ \b\b- \b\b\\ \b\b| \b\b/ \b\b- \b\b\\ \b\b| \b\b/ \b\b- \b\b\\ \b\b| \b\b/ \b\b- \b\b\\ \b\b| \b\b/ \b\b- \b\b\\ \b\b| \b\b/ \b\b- \b\b\\ \b\b| \b\b/ \b\b- \b\b\\ \b\b| \b\b/ \b\b- \b\b\\ \b\b| \b\b/ \b\b- \b\b\\ \b\b| \b\b/ \b\b- \b\b\\ \b\b| \b\b/ \b\b- \b\b\\ \b\b| \b\b/ \b\b- \b\b\\ \b\b| \b\b/ \b\b- \b\b\\ \b\b| \b\b/ \b\b- \b\b\\ \b\b| \b\b/ \b\b- \b\b\\ \b\b| \b\b/ \b\b- \b\b\\ \b\b| \b\b/ \b\b- \b\b\\ \b\b| \b\b/ \b\b- \b\b\\ \b\b| \b\b/ \b\b- \b\b\\ \b\b| \b\b/ \b\b- \b\b\\ \b\b| \b\b/ \b\b- \b\b\\ \b\b| \b\b/ \b\b- \b\b\\ \b\b| \b\b/ \b\b- \b\b\\ \b\b| \b\b/ \b\b- \b\b\\ \b\b| \b\b/ \b\b- \b\b\\ \b\b| \b\b/ \b\b- \b\b\\ \b\b| \b\b/ \b\b- \b\b\\ \b\b| \b\b/ \b\b- \b\b\\ \b\b| \b\b/ \b\b- \b\b\\ \b\b| \b\b/ \b\b- \b\b\\ \b\b| \b\b/ \b\b- \b\b\\ \b\b| \b\b/ \b\b- \b\b\\ \b\b| \b\b/ \b\b- \b\b\\ \b\b| \b\b/ \b\b- \b\b\\ \b\b| \b\b/ \b\b- \b\b\\ \b\b| \b\b/ \b\b- \b\b\\ \b\b| \b\b/ \b\b- \b\b\\ \b\b| \b\b/ \b\b- \b\b\\ \b\b| \b\b/ \b\b- \b\b\\ \b\b| \b\b/ \b\b- \b\b\\ \b\b| \b\b/ \b\b- \b\b\\ \b\b| \b\b/ \b\b- \b\b\\ \b\b| \b\b/ \b\b- \b\b\\ \b\b| \b\b/ \b\b- \b\b\\ \b\b| \b\b/ \b\b- \b\b\\ \b\b| \b\b/ \b\b- \b\b\\ \b\b| \b\b/ \b\b- \b\b\\ \b\b| \b\b/ \b\b- \b\b\\ \b\b| \b\b/ \b\b- \b\b\\ \b\b| \b\b/ \b\b- \b\b\\ \b\b| \b\b/ \b\b- \b\b\\ \b\b| \b\b/ \b\b- \b\b\\ \b\b| \b\b/ \b\b- \b\b\\ \b\b| \b\b/ \b\b- \b\b\\ \b\b| \b\b/ \b\b- \b\b\\ \b\b| \b\b/ \b\b- \b\b\\ \b\b| \b\b/ \b\b- \b\b\\ \b\b| \b\b/ \b\b- \b\b\\ \b\b| \b\b/ \b\b- \b\b\\ \b\b| \b\b/ \b\b- \b\b\\ \b\b| \b\b/ \b\b- \b\b\\ \b\b| \b\b/ \b\b- \b\b\\ \b\b| \b\b/ \b\b- \b\b\\ \b\b| \b\b/ \b\b- \b\b\\ \b\b| \b\b/ \b\b- \b\b\\ \b\b| \b\b/ \b\b- \b\b\\ \b\b| \b\b/ \b\b- \b\b\\ \b\b| \b\b/ \b\b- \b\b\\ \b\b| \b\b/ \b\b- \b\b\\ \b\b| \b\b/ \b\b- \b\b\\ \b\b| \b\b/ \b\b- \b\b\\ \b\b| \b\b/ \b\b- \b\b\\ \b\b| \b\b/ \b\b- \b\b\\ \b\b| \b\b/ \b\b- \b\b\\ \b\b| \b\b/ \b\b- \b\b\\ \b\b| \b\b/ \b\b- \b\b\\ \b\b| \b\b/ \b\b- \b\b\\ \b\b| \b\b/ \b\bfailed with repodata from current_repodata.json, will retry with next repodata source.\n",
            "Collecting package metadata (repodata.json): \\ \b\b| \b\b/ \b\b- \b\b\\ \b\b| \b\b/ \b\b- \b\b\\ \b\b| \b\b/ \b\b- \b\b\\ \b\b| \b\b/ \b\b- \b\b\\ \b\b| \b\b/ \b\b- \b\b\\ \b\b| \b\b/ \b\b- \b\b\\ \b\b| \b\b/ \b\b- \b\b\\ \b\b| \b\b/ \b\b- \b\b\\ \b\b| \b\b/ \b\b- \b\b\\ \b\b| \b\b/ \b\b- \b\b\\ \b\b| \b\b/ \b\b- \b\b\\ \b\b| \b\b/ \b\b- \b\b\\ \b\b| \b\b/ \b\b- \b\b\\ \b\b| \b\b/ \b\b- \b\b\\ \b\b| \b\b/ \b\b- \b\b\\ \b\b| \b\b/ \b\b- \b\b\\ \b\b| \b\b/ \b\b- \b\b\\ \b\b| \b\b/ \b\b- \b\b\\ \b\b| \b\b/ \b\b- \b\b\\ \b\b| \b\b/ \b\b- \b\b\\ \b\b| \b\b/ \b\b- \b\b\\ \b\b| \b\b/ \b\b- \b\b\\ \b\b| \b\b/ \b\b- \b\b\\ \b\b| \b\b/ \b\b- \b\b\\ \b\b| \b\b/ \b\b- \b\b\\ \b\b| \b\b/ \b\b- \b\b\\ \b\b| \b\b/ \b\b- \b\b\\ \b\b| \b\b/ \b\b- \b\b\\ \b\b| \b\b/ \b\b- \b\b\\ \b\b| \b\b/ \b\b- \b\b\\ \b\b| \b\b/ \b\b- \b\b\\ \b\b| \b\b/ \b\b- \b\b\\ \b\b| \b\b/ \b\b- \b\b\\ \b\b| \b\b/ \b\b- \b\b\\ \b\b| \b\b/ \b\b- \b\b\\ \b\b| \b\b/ \b\b- \b\b\\ \b\b| \b\b/ \b\b- \b\b\\ \b\b| \b\b/ \b\b- \b\b\\ \b\b| \b\b/ \b\b- \b\b\\ \b\b| \b\b/ \b\b- \b\b\\ \b\b| \b\b/ \b\b- \b\b\\ \b\b| \b\b/ \b\b- \b\b\\ \b\b| \b\b/ \b\b- \b\b\\ \b\b| \b\b/ \b\b- \b\b\\ \b\b| \b\b/ \b\b- \b\b\\ \b\b| \b\b/ \b\b- \b\b\\ \b\b| \b\b/ \b\b- \b\b\\ \b\b| \b\b/ \b\b- \b\b\\ \b\b| \b\bdone\n",
            "Solving environment: - \b\b\\ \b\b| \b\b/ \b\b- \b\b\\ \b\b| \b\b/ \b\b- \b\b\\ \b\b| \b\b/ \b\b- \b\b\\ \b\b| \b\b/ \b\b- \b\b\\ \b\b| \b\b/ \b\b- \b\b\\ \b\b| \b\b/ \b\b- \b\b\\ \b\b| \b\b/ \b\b- \b\b\\ \b\b| \b\b/ \b\b- \b\b\\ \b\b| \b\b/ \b\b- \b\b\\ \b\b| \b\b/ \b\b- \b\b\\ \b\b| \b\b/ \b\b- \b\b\\ \b\b| \b\b/ \b\b- \b\b\\ \b\b| \b\b/ \b\b- \b\b\\ \b\b| \b\b/ \b\b- \b\b\\ \b\b| \b\b/ \b\b- \b\b\\ \b\b| \b\b/ \b\b- \b\b\\ \b\b| \b\b/ \b\b- \b\b\\ \b\b| \b\b/ \b\b- \b\b\\ \b\b| \b\b/ \b\b- \b\b\\ \b\b| \b\b/ \b\b- \b\b\\ \b\b| \b\b/ \b\b- \b\b\\ \b\b| \b\b/ \b\b- \b\b\\ \b\b| \b\b/ \b\b- \b\b\\ \b\b| \b\b/ \b\b- \b\b\\ \b\b| \b\b/ \b\b- \b\b\\ \b\b| \b\b/ \b\b- \b\b\\ \b\b| \b\b/ \b\b- \b\b\\ \b\b| \b\b/ \b\b- \b\b\\ \b\b| \b\b/ \b\b- \b\b\\ \b\b| \b\b/ \b\b- \b\b\\ \b\b| \b\b/ \b\b- \b\b\\ \b\b| \b\b/ \b\b- \b\bdone\n",
            "\n",
            "\n",
            "==> WARNING: A newer version of conda exists. <==\n",
            "  current version: 4.7.12\n",
            "  latest version: 4.8.3\n",
            "\n",
            "Please update conda by running\n",
            "\n",
            "    $ conda update -n base -c defaults conda\n",
            "\n",
            "\n",
            "\n",
            "## Package Plan ##\n",
            "\n",
            "  environment location: /usr/local\n",
            "\n",
            "  added / updated specs:\n",
            "    - deepchem-gpu=2.3.0\n",
            "\n",
            "\n",
            "The following packages will be downloaded:\n",
            "\n",
            "    package                    |            build\n",
            "    ---------------------------|-----------------\n",
            "    _py-xgboost-mutex-2.0      |            cpu_0           8 KB  conda-forge\n",
            "    _tflow_select-2.1.0        |              gpu           2 KB\n",
            "    absl-py-0.9.0              |   py37hc8dfbb8_1         162 KB  conda-forge\n",
            "    astor-0.8.1                |     pyh9f0ad1d_0          25 KB  conda-forge\n",
            "    c-ares-1.16.1              |       h516909a_0         108 KB  conda-forge\n",
            "    certifi-2019.9.11          |           py37_0         147 KB  conda-forge\n",
            "    conda-4.8.3                |   py37hc8dfbb8_1         3.0 MB  conda-forge\n",
            "    cudatoolkit-10.1.243       |       h6bb024c_0       347.4 MB\n",
            "    cudnn-7.6.5                |       cuda10.1_0       179.9 MB\n",
            "    cupti-10.1.168             |                0         1.4 MB\n",
            "    deepchem-gpu-2.3.0         |           py37_0         2.1 MB  deepchem\n",
            "    fftw3f-3.3.4               |                2         1.2 MB  omnia\n",
            "    gast-0.3.3                 |             py_0          12 KB  conda-forge\n",
            "    google-pasta-0.2.0         |     pyh8c360ce_0          42 KB  conda-forge\n",
            "    grpcio-1.23.0              |   py37hb0870dc_1         1.1 MB  conda-forge\n",
            "    importlib-metadata-1.7.0   |   py37hc8dfbb8_0          44 KB  conda-forge\n",
            "    keras-applications-1.0.8   |             py_1          30 KB  conda-forge\n",
            "    keras-preprocessing-1.1.0  |             py_0          33 KB  conda-forge\n",
            "    libboost-1.67.0            |       h46d08c1_4        13.0 MB\n",
            "    libprotobuf-3.12.3         |       h8b12597_2         2.3 MB  conda-forge\n",
            "    libxgboost-1.1.1           |       he1b5a44_0         2.9 MB  conda-forge\n",
            "    markdown-3.2.2             |             py_0          61 KB  conda-forge\n",
            "    mdtraj-1.9.4               |   py37h4112681_0         1.8 MB  conda-forge\n",
            "    openmm-7.4.2               |py37_cuda101_rc_1        11.9 MB  omnia\n",
            "    pdbfixer-1.6               |           py37_0         190 KB  omnia\n",
            "    protobuf-3.12.3            |   py37h3340039_0         702 KB  conda-forge\n",
            "    py-boost-1.67.0            |   py37h04863e7_4         278 KB\n",
            "    py-xgboost-1.1.1           |   py37hc8dfbb8_0         1.6 MB  conda-forge\n",
            "    python_abi-3.7             |          1_cp37m           4 KB  conda-forge\n",
            "    rdkit-2020.03.3.0          |   py37hc20afe1_1        24.8 MB  rdkit\n",
            "    simdna-0.4.2               |             py_0         627 KB  deepchem\n",
            "    tensorboard-1.14.0         |           py37_0         3.2 MB  conda-forge\n",
            "    tensorflow-1.14.0          |gpu_py37h74c33d7_0           4 KB\n",
            "    tensorflow-base-1.14.0     |gpu_py37he45bfe2_0       146.3 MB\n",
            "    tensorflow-estimator-1.14.0|   py37h5ca1d4c_0         645 KB  conda-forge\n",
            "    tensorflow-gpu-1.14.0      |       h0d30ee6_0           3 KB\n",
            "    termcolor-1.1.0            |             py_2           6 KB  conda-forge\n",
            "    xgboost-1.1.1              |   py37h3340039_0          11 KB  conda-forge\n",
            "    ------------------------------------------------------------\n",
            "                                           Total:       747.0 MB\n",
            "\n",
            "The following NEW packages will be INSTALLED:\n",
            "\n",
            "  _py-xgboost-mutex  conda-forge/linux-64::_py-xgboost-mutex-2.0-cpu_0\n",
            "  _tflow_select      pkgs/main/linux-64::_tflow_select-2.1.0-gpu\n",
            "  absl-py            conda-forge/linux-64::absl-py-0.9.0-py37hc8dfbb8_1\n",
            "  astor              conda-forge/noarch::astor-0.8.1-pyh9f0ad1d_0\n",
            "  c-ares             conda-forge/linux-64::c-ares-1.16.1-h516909a_0\n",
            "  cudatoolkit        pkgs/main/linux-64::cudatoolkit-10.1.243-h6bb024c_0\n",
            "  cudnn              pkgs/main/linux-64::cudnn-7.6.5-cuda10.1_0\n",
            "  cupti              pkgs/main/linux-64::cupti-10.1.168-0\n",
            "  deepchem-gpu       deepchem/linux-64::deepchem-gpu-2.3.0-py37_0\n",
            "  fftw3f             omnia/linux-64::fftw3f-3.3.4-2\n",
            "  gast               conda-forge/noarch::gast-0.3.3-py_0\n",
            "  google-pasta       conda-forge/noarch::google-pasta-0.2.0-pyh8c360ce_0\n",
            "  grpcio             conda-forge/linux-64::grpcio-1.23.0-py37hb0870dc_1\n",
            "  importlib-metadata conda-forge/linux-64::importlib-metadata-1.7.0-py37hc8dfbb8_0\n",
            "  keras-applications conda-forge/noarch::keras-applications-1.0.8-py_1\n",
            "  keras-preprocessi~ conda-forge/noarch::keras-preprocessing-1.1.0-py_0\n",
            "  libboost           pkgs/main/linux-64::libboost-1.67.0-h46d08c1_4\n",
            "  libprotobuf        conda-forge/linux-64::libprotobuf-3.12.3-h8b12597_2\n",
            "  libxgboost         conda-forge/linux-64::libxgboost-1.1.1-he1b5a44_0\n",
            "  markdown           conda-forge/noarch::markdown-3.2.2-py_0\n",
            "  mdtraj             conda-forge/linux-64::mdtraj-1.9.4-py37h4112681_0\n",
            "  openmm             omnia/linux-64::openmm-7.4.2-py37_cuda101_rc_1\n",
            "  pdbfixer           omnia/linux-64::pdbfixer-1.6-py37_0\n",
            "  protobuf           conda-forge/linux-64::protobuf-3.12.3-py37h3340039_0\n",
            "  py-boost           pkgs/main/linux-64::py-boost-1.67.0-py37h04863e7_4\n",
            "  py-xgboost         conda-forge/linux-64::py-xgboost-1.1.1-py37hc8dfbb8_0\n",
            "  python_abi         conda-forge/linux-64::python_abi-3.7-1_cp37m\n",
            "  rdkit              rdkit/linux-64::rdkit-2020.03.3.0-py37hc20afe1_1\n",
            "  simdna             deepchem/noarch::simdna-0.4.2-py_0\n",
            "  tensorboard        conda-forge/linux-64::tensorboard-1.14.0-py37_0\n",
            "  tensorflow         pkgs/main/linux-64::tensorflow-1.14.0-gpu_py37h74c33d7_0\n",
            "  tensorflow-base    pkgs/main/linux-64::tensorflow-base-1.14.0-gpu_py37he45bfe2_0\n",
            "  tensorflow-estima~ conda-forge/linux-64::tensorflow-estimator-1.14.0-py37h5ca1d4c_0\n",
            "  tensorflow-gpu     pkgs/main/linux-64::tensorflow-gpu-1.14.0-h0d30ee6_0\n",
            "  termcolor          conda-forge/noarch::termcolor-1.1.0-py_2\n",
            "  xgboost            conda-forge/linux-64::xgboost-1.1.1-py37h3340039_0\n",
            "\n",
            "The following packages will be UPDATED:\n",
            "\n",
            "  conda                      pkgs/main::conda-4.7.12-py37_0 --> conda-forge::conda-4.8.3-py37hc8dfbb8_1\n",
            "\n",
            "The following packages will be SUPERSEDED by a higher-priority channel:\n",
            "\n",
            "  certifi                                         pkgs/main --> conda-forge\n",
            "\n",
            "\n",
            "\n",
            "Downloading and Extracting Packages\n",
            "tensorboard-1.14.0   | 3.2 MB    | : 100% 1.0/1 [00:00<00:00, 15.54s/it]                \n",
            "tensorflow-base-1.14 | 146.3 MB  | : 100% 1.0/1 [00:15<00:00, 15.68s/it]              \n",
            "py-boost-1.67.0      | 278 KB    | : 100% 1.0/1 [00:00<00:00,  2.11it/s]\n",
            "keras-preprocessing- | 33 KB     | : 100% 1.0/1 [00:01<00:00,  1.76s/it]\n",
            "libxgboost-1.1.1     | 2.9 MB    | : 100% 1.0/1 [00:00<00:00,  2.11it/s]\n",
            "protobuf-3.12.3      | 702 KB    | : 100% 1.0/1 [00:00<00:00,  4.57it/s]\n",
            "absl-py-0.9.0        | 162 KB    | : 100% 1.0/1 [00:00<00:00, 10.22it/s]\n",
            "rdkit-2020.03.3.0    | 24.8 MB   | : 100% 1.0/1 [00:04<00:00,  4.22s/it]\n",
            "pdbfixer-1.6         | 190 KB    | : 100% 1.0/1 [00:00<00:00,  2.17it/s]\n",
            "cudnn-7.6.5          | 179.9 MB  | : 100% 1.0/1 [00:12<00:00, 12.95s/it]               \n",
            "xgboost-1.1.1        | 11 KB     | : 100% 1.0/1 [00:00<00:00,  2.37it/s]\n",
            "tensorflow-estimator | 645 KB    | : 100% 1.0/1 [00:06<00:00,  6.03s/it]\n",
            "openmm-7.4.2         | 11.9 MB   | : 100% 1.0/1 [00:02<00:00,  2.86s/it]\n",
            "certifi-2019.9.11    | 147 KB    | : 100% 1.0/1 [00:00<00:00,  8.84it/s]\n",
            "simdna-0.4.2         | 627 KB    | : 100% 1.0/1 [00:00<00:00,  2.28it/s]\n",
            "c-ares-1.16.1        | 108 KB    | : 100% 1.0/1 [00:00<00:00, 11.94it/s]\n",
            "mdtraj-1.9.4         | 1.8 MB    | : 100% 1.0/1 [00:00<00:00,  2.96it/s]\n",
            "google-pasta-0.2.0   | 42 KB     | : 100% 1.0/1 [00:00<00:00, 13.89it/s]\n",
            "gast-0.3.3           | 12 KB     | : 100% 1.0/1 [00:00<00:00, 15.79it/s]\n",
            "fftw3f-3.3.4         | 1.2 MB    | : 100% 1.0/1 [00:00<00:00,  1.42it/s]\n",
            "grpcio-1.23.0        | 1.1 MB    | : 100% 1.0/1 [00:00<00:00,  4.58it/s]\n",
            "libboost-1.67.0      | 13.0 MB   | : 100% 1.0/1 [00:01<00:00,  1.68s/it]               \n",
            "astor-0.8.1          | 25 KB     | : 100% 1.0/1 [00:00<00:00, 12.29it/s]\n",
            "py-xgboost-1.1.1     | 1.6 MB    | : 100% 1.0/1 [00:00<00:00,  3.15it/s]\n",
            "importlib-metadata-1 | 44 KB     | : 100% 1.0/1 [00:00<00:00, 13.95it/s]\n",
            "tensorflow-1.14.0    | 4 KB      | : 100% 1.0/1 [00:00<00:00,  8.21it/s]\n",
            "termcolor-1.1.0      | 6 KB      | : 100% 1.0/1 [00:00<00:00, 15.73it/s]\n",
            "cupti-10.1.168       | 1.4 MB    | : 100% 1.0/1 [00:00<00:00,  5.95it/s]\n",
            "_tflow_select-2.1.0  | 2 KB      | : 100% 1.0/1 [00:00<00:00,  8.22it/s]\n",
            "tensorflow-gpu-1.14. | 3 KB      | : 100% 1.0/1 [00:00<00:00,  8.06it/s]\n",
            "keras-applications-1 | 30 KB     | : 100% 1.0/1 [00:00<00:00, 13.73it/s]\n",
            "conda-4.8.3          | 3.0 MB    | : 100% 1.0/1 [00:00<00:00,  1.67it/s]               \n",
            "markdown-3.2.2       | 61 KB     | : 100% 1.0/1 [00:00<00:00, 13.21it/s]\n",
            "python_abi-3.7       | 4 KB      | : 100% 1.0/1 [00:00<00:00, 16.11it/s]\n",
            "_py-xgboost-mutex-2. | 8 KB      | : 100% 1.0/1 [00:00<00:00, 14.50it/s]\n",
            "libprotobuf-3.12.3   | 2.3 MB    | : 100% 1.0/1 [00:00<00:00,  2.21it/s]\n",
            "cudatoolkit-10.1.243 | 347.4 MB  | : 100% 1.0/1 [00:40<00:00, 40.06s/it]             \n",
            "deepchem-gpu-2.3.0   | 2.1 MB    | : 100% 1.0/1 [00:00<00:00,  1.13it/s]\n",
            "Preparing transaction: | \b\b/ \b\b- \b\b\\ \b\b| \b\b/ \b\b- \b\b\\ \b\b| \b\b/ \b\b- \b\b\\ \b\b| \b\b/ \b\b- \b\bdone\n",
            "Verifying transaction: | \b\b/ \b\b- \b\b\\ \b\b| \b\b/ \b\b- \b\b\\ \b\b| \b\b/ \b\b- \b\b\\ \b\b| \b\b/ \b\b- \b\b\\ \b\b| \b\b/ \b\b- \b\b\\ \b\b| \b\b/ \b\b- \b\b\\ \b\bdone\n",
            "Executing transaction: / \b\b- \b\b\\ \b\b| \b\b/ \b\b- \b\b\\ \b\b| \b\b/ \b\b- \b\b\\ \b\b| \b\b/ \b\b- \b\b\\ \b\b| \b\b/ \b\b- \b\b\\ \b\b| \b\b/ \b\b- \b\b\\ \b\b| \b\b/ \b\b- \b\b\\ \b\b| \b\b/ \b\b- \b\b\\ \b\bdone\n"
          ],
          "name": "stdout"
        }
      ]
    },
    {
      "cell_type": "code",
      "metadata": {
        "id": "9JA4-yX85KSi",
        "colab_type": "code",
        "colab": {
          "base_uri": "https://localhost:8080/",
          "height": 71
        },
        "outputId": "b853d8cc-39cc-4f0f-d2e1-d8019d3537b4"
      },
      "source": [
        "\n",
        "from rdkit import Chem\n",
        "from rdkit.Chem import Draw\n",
        "from rdkit.Chem.Draw import IPythonConsole\n",
        "import pandas as pd\n",
        "from rdkit.Chem import PandasTools\n",
        "from rdkit.Chem import Descriptors\n",
        "from rdkit.Chem import rdmolops\n",
        "import seaborn as sns"
      ],
      "execution_count": 8,
      "outputs": [
        {
          "output_type": "stream",
          "text": [
            "/usr/local/lib/python3.6/dist-packages/statsmodels/tools/_testing.py:19: FutureWarning: pandas.util.testing is deprecated. Use the functions in the public API at pandas.testing instead.\n",
            "  import pandas.util.testing as tm\n"
          ],
          "name": "stderr"
        }
      ]
    },
    {
      "cell_type": "code",
      "metadata": {
        "id": "g0bKfcpJ7Q1Q",
        "colab_type": "code",
        "colab": {}
      },
      "source": [
        "active_df = pd.read_csv(\"actives_final.ism\",header=None,sep=\" \")\n",
        "active_rows,active_cols = active_df.shape\n",
        "active_df.columns = [\"SMILES\",\"ID\",\"ChEMBL_ID\"]\n",
        "active_df[\"label\"] = [\"Active\"]*active_rows\n",
        "PandasTools.AddMoleculeColumnToFrame(active_df,\"SMILES\",\"Mol\")"
      ],
      "execution_count": 9,
      "outputs": []
    },
    {
      "cell_type": "code",
      "metadata": {
        "id": "7fUvRXRP7c5s",
        "colab_type": "code",
        "colab": {}
      },
      "source": [
        "def add_property_columns_to_df(df_in):\n",
        "    df_in[\"mw\"] = [Descriptors.MolWt(mol) for mol in df_in.Mol]\n",
        "    df_in[\"logP\"] = [Descriptors.MolLogP(mol) for mol in df_in.Mol]\n",
        "    df_in[\"charge\"] = [rdmolops.GetFormalCharge(mol) for mol in df_in.Mol]"
      ],
      "execution_count": 10,
      "outputs": []
    },
    {
      "cell_type": "code",
      "metadata": {
        "id": "up1sRyBu7gh3",
        "colab_type": "code",
        "colab": {}
      },
      "source": [
        "add_property_columns_to_df(active_df)"
      ],
      "execution_count": 11,
      "outputs": []
    },
    {
      "cell_type": "code",
      "metadata": {
        "id": "RAo6mTyB7juS",
        "colab_type": "code",
        "colab": {
          "base_uri": "https://localhost:8080/",
          "height": 1000
        },
        "outputId": "e145e632-addc-424e-aae8-8533a815c05d"
      },
      "source": [
        "active_df.head()"
      ],
      "execution_count": 12,
      "outputs": [
        {
          "output_type": "execute_result",
          "data": {
            "text/html": [
              "<div>\n",
              "<style scoped>\n",
              "    .dataframe tbody tr th:only-of-type {\n",
              "        vertical-align: middle;\n",
              "    }\n",
              "\n",
              "    .dataframe tbody tr th {\n",
              "        vertical-align: top;\n",
              "    }\n",
              "\n",
              "    .dataframe thead th {\n",
              "        text-align: right;\n",
              "    }\n",
              "</style>\n",
              "<table border=\"1\" class=\"dataframe\">\n",
              "  <thead>\n",
              "    <tr style=\"text-align: right;\">\n",
              "      <th></th>\n",
              "      <th>SMILES</th>\n",
              "      <th>ID</th>\n",
              "      <th>ChEMBL_ID</th>\n",
              "      <th>label</th>\n",
              "      <th>Mol</th>\n",
              "      <th>mw</th>\n",
              "      <th>logP</th>\n",
              "      <th>charge</th>\n",
              "    </tr>\n",
              "  </thead>\n",
              "  <tbody>\n",
              "    <tr>\n",
              "      <th>0</th>\n",
              "      <td>Cn1ccnc1Sc2ccc(cc2Cl)Nc3c4cc(c(cc4ncc3C#N)OCCC...</td>\n",
              "      <td>168691</td>\n",
              "      <td>CHEMBL318804</td>\n",
              "      <td>Active</td>\n",
              "      <td><img data-content=\"rdkit/molecule\" src=\"data:image/png;base64,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\" alt=\"Mol\"/></td>\n",
              "      <td>565.099</td>\n",
              "      <td>5.49788</td>\n",
              "      <td>0</td>\n",
              "    </tr>\n",
              "    <tr>\n",
              "      <th>1</th>\n",
              "      <td>C[C@@]12[C@@H]([C@@H](CC(O1)n3c4ccccc4c5c3c6n2...</td>\n",
              "      <td>86358</td>\n",
              "      <td>CHEMBL162</td>\n",
              "      <td>Active</td>\n",
              "      <td><img data-content=\"rdkit/molecule\" src=\"data:image/png;base64,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\" alt=\"Mol\"/></td>\n",
              "      <td>466.541</td>\n",
              "      <td>4.35400</td>\n",
              "      <td>0</td>\n",
              "    </tr>\n",
              "    <tr>\n",
              "      <th>2</th>\n",
              "      <td>Cc1cnc(nc1c2cc([nH]c2)C(=O)N[C@H](CO)c3cccc(c3...</td>\n",
              "      <td>575087</td>\n",
              "      <td>CHEMBL576683</td>\n",
              "      <td>Active</td>\n",
              "      <td><img data-content=\"rdkit/molecule\" src=\"data:image/png;base64,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\" alt=\"Mol\"/></td>\n",
              "      <td>527.915</td>\n",
              "      <td>4.96202</td>\n",
              "      <td>0</td>\n",
              "    </tr>\n",
              "    <tr>\n",
              "      <th>3</th>\n",
              "      <td>Cc1cnc(nc1c2cc([nH]c2)C(=O)N[C@H](CO)c3cccc(c3...</td>\n",
              "      <td>575065</td>\n",
              "      <td>CHEMBL571484</td>\n",
              "      <td>Active</td>\n",
              "      <td><img data-content=\"rdkit/molecule\" src=\"data:image/png;base64,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\" alt=\"Mol\"/></td>\n",
              "      <td>491.935</td>\n",
              "      <td>4.36922</td>\n",
              "      <td>0</td>\n",
              "    </tr>\n",
              "    <tr>\n",
              "      <th>4</th>\n",
              "      <td>Cc1cnc(nc1c2cc([nH]c2)C(=O)N[C@H](CO)c3cccc(c3...</td>\n",
              "      <td>575047</td>\n",
              "      <td>CHEMBL568937</td>\n",
              "      <td>Active</td>\n",
              "      <td><img data-content=\"rdkit/molecule\" src=\"data:image/png;base64,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\" alt=\"Mol\"/></td>\n",
              "      <td>487.991</td>\n",
              "      <td>5.12922</td>\n",
              "      <td>0</td>\n",
              "    </tr>\n",
              "  </tbody>\n",
              "</table>\n",
              "</div>"
            ],
            "text/plain": [
              "                                              SMILES      ID  ...     logP charge\n",
              "0  Cn1ccnc1Sc2ccc(cc2Cl)Nc3c4cc(c(cc4ncc3C#N)OCCC...  168691  ...  5.49788      0\n",
              "1  C[C@@]12[C@@H]([C@@H](CC(O1)n3c4ccccc4c5c3c6n2...   86358  ...  4.35400      0\n",
              "2  Cc1cnc(nc1c2cc([nH]c2)C(=O)N[C@H](CO)c3cccc(c3...  575087  ...  4.96202      0\n",
              "3  Cc1cnc(nc1c2cc([nH]c2)C(=O)N[C@H](CO)c3cccc(c3...  575065  ...  4.36922      0\n",
              "4  Cc1cnc(nc1c2cc([nH]c2)C(=O)N[C@H](CO)c3cccc(c3...  575047  ...  5.12922      0\n",
              "\n",
              "[5 rows x 8 columns]"
            ]
          },
          "metadata": {
            "tags": []
          },
          "execution_count": 12
        }
      ]
    },
    {
      "cell_type": "code",
      "metadata": {
        "id": "4QVm9xzq7mKQ",
        "colab_type": "code",
        "colab": {}
      },
      "source": [
        "decoy_df = pd.read_csv(\"decoys_final.ism\",header=None,sep=\" \")\n",
        "decoy_df.columns = [\"SMILES\",\"ID\"]\n",
        "decoy_rows, decoy_cols = decoy_df.shape\n",
        "decoy_df[\"label\"] = [\"Decoy\"]*decoy_rows\n",
        "PandasTools.AddMoleculeColumnToFrame(decoy_df,\"SMILES\",\"Mol\")\n",
        "add_property_columns_to_df(decoy_df)"
      ],
      "execution_count": 13,
      "outputs": []
    },
    {
      "cell_type": "code",
      "metadata": {
        "id": "8P2LAiNC7zJE",
        "colab_type": "code",
        "colab": {
          "base_uri": "https://localhost:8080/",
          "height": 1000
        },
        "outputId": "10791297-b457-4675-a4a1-f768d4409368"
      },
      "source": [
        "decoy_df.head()"
      ],
      "execution_count": 14,
      "outputs": [
        {
          "output_type": "execute_result",
          "data": {
            "text/html": [
              "<div>\n",
              "<style scoped>\n",
              "    .dataframe tbody tr th:only-of-type {\n",
              "        vertical-align: middle;\n",
              "    }\n",
              "\n",
              "    .dataframe tbody tr th {\n",
              "        vertical-align: top;\n",
              "    }\n",
              "\n",
              "    .dataframe thead th {\n",
              "        text-align: right;\n",
              "    }\n",
              "</style>\n",
              "<table border=\"1\" class=\"dataframe\">\n",
              "  <thead>\n",
              "    <tr style=\"text-align: right;\">\n",
              "      <th></th>\n",
              "      <th>SMILES</th>\n",
              "      <th>ID</th>\n",
              "      <th>label</th>\n",
              "      <th>Mol</th>\n",
              "      <th>mw</th>\n",
              "      <th>logP</th>\n",
              "      <th>charge</th>\n",
              "    </tr>\n",
              "  </thead>\n",
              "  <tbody>\n",
              "    <tr>\n",
              "      <th>0</th>\n",
              "      <td>C1COCCNC(=S)NCCOCCNC(=S)N1</td>\n",
              "      <td>C03897368</td>\n",
              "      <td>Decoy</td>\n",
              "      <td><img data-content=\"rdkit/molecule\" src=\"data:image/png;base64,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\" alt=\"Mol\"/></td>\n",
              "      <td>292.430</td>\n",
              "      <td>-1.03860</td>\n",
              "      <td>0</td>\n",
              "    </tr>\n",
              "    <tr>\n",
              "      <th>1</th>\n",
              "      <td>c1cc(ccc1[C@H]2c3ccc(cc3OC(=C2C#N)N)N)O</td>\n",
              "      <td>C00242247</td>\n",
              "      <td>Decoy</td>\n",
              "      <td><img data-content=\"rdkit/molecule\" src=\"data:image/png;base64,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\" alt=\"Mol\"/></td>\n",
              "      <td>279.299</td>\n",
              "      <td>2.19258</td>\n",
              "      <td>0</td>\n",
              "    </tr>\n",
              "    <tr>\n",
              "      <th>2</th>\n",
              "      <td>C[C@]12CC[C@H](C[C@@H]1CC[C@@H]3[C@@H]2C(=O)C[...</td>\n",
              "      <td>C04096778</td>\n",
              "      <td>Decoy</td>\n",
              "      <td><img data-content=\"rdkit/molecule\" src=\"data:image/png;base64,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\" alt=\"Mol\"/></td>\n",
              "      <td>366.498</td>\n",
              "      <td>1.65330</td>\n",
              "      <td>0</td>\n",
              "    </tr>\n",
              "    <tr>\n",
              "      <th>3</th>\n",
              "      <td>Cc1ccc2c(c1)cc(c(=O)[nH]2)[C@@H]3c4c(n[nH]c4OC...</td>\n",
              "      <td>C00421469</td>\n",
              "      <td>Decoy</td>\n",
              "      <td><img data-content=\"rdkit/molecule\" src=\"data:image/png;base64,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\" alt=\"Mol\"/></td>\n",
              "      <td>333.351</td>\n",
              "      <td>2.08622</td>\n",
              "      <td>0</td>\n",
              "    </tr>\n",
              "    <tr>\n",
              "      <th>4</th>\n",
              "      <td>Cc1cc2cc(c(=O)[nH]c2cc1C)[C@@H]3c4c(n[nH]c4OC(...</td>\n",
              "      <td>C00421479</td>\n",
              "      <td>Decoy</td>\n",
              "      <td><img data-content=\"rdkit/molecule\" src=\"data:image/png;base64,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\" alt=\"Mol\"/></td>\n",
              "      <td>347.378</td>\n",
              "      <td>2.39464</td>\n",
              "      <td>0</td>\n",
              "    </tr>\n",
              "  </tbody>\n",
              "</table>\n",
              "</div>"
            ],
            "text/plain": [
              "                                              SMILES  ... charge\n",
              "0                         C1COCCNC(=S)NCCOCCNC(=S)N1  ...      0\n",
              "1            c1cc(ccc1[C@H]2c3ccc(cc3OC(=C2C#N)N)N)O  ...      0\n",
              "2  C[C@]12CC[C@H](C[C@@H]1CC[C@@H]3[C@@H]2C(=O)C[...  ...      0\n",
              "3  Cc1ccc2c(c1)cc(c(=O)[nH]2)[C@@H]3c4c(n[nH]c4OC...  ...      0\n",
              "4  Cc1cc2cc(c(=O)[nH]c2cc1C)[C@@H]3c4c(n[nH]c4OC(...  ...      0\n",
              "\n",
              "[5 rows x 7 columns]"
            ]
          },
          "metadata": {
            "tags": []
          },
          "execution_count": 14
        }
      ]
    },
    {
      "cell_type": "code",
      "metadata": {
        "id": "MZCYuztQ74nw",
        "colab_type": "code",
        "colab": {}
      },
      "source": [
        "tmp_df = active_df.append(decoy_df)"
      ],
      "execution_count": 15,
      "outputs": []
    },
    {
      "cell_type": "code",
      "metadata": {
        "id": "N-IGh8Y78A4b",
        "colab_type": "code",
        "colab": {
          "base_uri": "https://localhost:8080/",
          "height": 296
        },
        "outputId": "5531bfcf-772b-4681-8667-78c3022ccb15"
      },
      "source": [
        "sns.violinplot(tmp_df[\"label\"],tmp_df[\"mw\"])"
      ],
      "execution_count": 16,
      "outputs": [
        {
          "output_type": "execute_result",
          "data": {
            "text/plain": [
              "<matplotlib.axes._subplots.AxesSubplot at 0x7fde2b181d68>"
            ]
          },
          "metadata": {
            "tags": []
          },
          "execution_count": 16
        },
        {
          "output_type": "display_data",
          "data": {
            "image/png": "[encoded data removed]",
            "text/plain": [
              "<Figure size 432x288 with 1 Axes>"
            ]
          },
          "metadata": {
            "tags": [],
            "needs_background": "light"
          }
        }
      ]
    },
    {
      "cell_type": "code",
      "metadata": {
        "id": "VaxweHrt8D8D",
        "colab_type": "code",
        "colab": {
          "base_uri": "https://localhost:8080/",
          "height": 296
        },
        "outputId": "83e414e4-580d-4372-c776-782f7bdc1b38"
      },
      "source": [
        "sns.violinplot(tmp_df[\"label\"],tmp_df[\"logP\"])"
      ],
      "execution_count": 17,
      "outputs": [
        {
          "output_type": "execute_result",
          "data": {
            "text/plain": [
              "<matplotlib.axes._subplots.AxesSubplot at 0x7fde2af905f8>"
            ]
          },
          "metadata": {
            "tags": []
          },
          "execution_count": 17
        },
        {
          "output_type": "display_data",
          "data": {
            "image/png": "[encoded data removed]",
            "text/plain": [
              "<Figure size 432x288 with 1 Axes>"
            ]
          },
          "metadata": {
            "tags": [],
            "needs_background": "light"
          }
        }
      ]
    },
    {
      "cell_type": "code",
      "metadata": {
        "id": "VfXk0K2X8JOk",
        "colab_type": "code",
        "colab": {
          "base_uri": "https://localhost:8080/",
          "height": 296
        },
        "outputId": "5919671d-103b-437f-f9dd-6f352b7892cc"
      },
      "source": [
        "sns.violinplot(tmp_df[\"label\"],tmp_df[\"charge\"])"
      ],
      "execution_count": 18,
      "outputs": [
        {
          "output_type": "execute_result",
          "data": {
            "text/plain": [
              "<matplotlib.axes._subplots.AxesSubplot at 0x7fde2aac1278>"
            ]
          },
          "metadata": {
            "tags": []
          },
          "execution_count": 18
        },
        {
          "output_type": "display_data",
          "data": {
            "image/png": "[encoded data removed]",
            "text/plain": [
              "<Figure size 432x288 with 1 Axes>"
            ]
          },
          "metadata": {
            "tags": [],
            "needs_background": "light"
          }
        }
      ]
    },
    {
      "cell_type": "code",
      "metadata": {
        "id": "qgYjipd-8N4x",
        "colab_type": "code",
        "colab": {}
      },
      "source": [
        "charged = decoy_df[decoy_df[\"charge\"] != 0]"
      ],
      "execution_count": 19,
      "outputs": []
    },
    {
      "cell_type": "code",
      "metadata": {
        "id": "z7Wm8Ift8UFd",
        "colab_type": "code",
        "colab": {
          "base_uri": "https://localhost:8080/",
          "height": 34
        },
        "outputId": "0bae7b6a-248f-412f-8e9a-4f57f3f1265e"
      },
      "source": [
        "charged.shape[0]/decoy_df.shape[0]"
      ],
      "execution_count": 20,
      "outputs": [
        {
          "output_type": "execute_result",
          "data": {
            "text/plain": [
              "0.16175824175824177"
            ]
          },
          "metadata": {
            "tags": []
          },
          "execution_count": 20
        }
      ]
    },
    {
      "cell_type": "code",
      "metadata": {
        "id": "0AaLxCR88Y00",
        "colab_type": "code",
        "colab": {}
      },
      "source": [
        "from neutralize import NeutraliseCharges"
      ],
      "execution_count": 21,
      "outputs": []
    },
    {
      "cell_type": "code",
      "metadata": {
        "id": "ld34q8128fMR",
        "colab_type": "code",
        "colab": {}
      },
      "source": [
        "revised_decoy_df = decoy_df[[\"SMILES\",\"ID\",\"label\"]].copy()"
      ],
      "execution_count": 22,
      "outputs": []
    },
    {
      "cell_type": "code",
      "metadata": {
        "id": "xPommGyq8hze",
        "colab_type": "code",
        "colab": {}
      },
      "source": [
        "\n",
        "revised_decoy_df[\"SMILES\"] = [NeutraliseCharges(x)[0] for x in revised_decoy_df[\"SMILES\"]]"
      ],
      "execution_count": 23,
      "outputs": []
    },
    {
      "cell_type": "code",
      "metadata": {
        "id": "MW99oA_m8kLT",
        "colab_type": "code",
        "colab": {}
      },
      "source": [
        "PandasTools.AddMoleculeColumnToFrame(revised_decoy_df,\"SMILES\",\"Mol\")\n",
        "add_property_columns_to_df(revised_decoy_df)"
      ],
      "execution_count": 24,
      "outputs": []
    },
    {
      "cell_type": "code",
      "metadata": {
        "id": "l4saD3gU8m5x",
        "colab_type": "code",
        "colab": {}
      },
      "source": [
        "new_tmp_df = active_df.append(revised_decoy_df)"
      ],
      "execution_count": 25,
      "outputs": []
    },
    {
      "cell_type": "code",
      "metadata": {
        "id": "PsE8Gm2U8p8M",
        "colab_type": "code",
        "colab": {
          "base_uri": "https://localhost:8080/",
          "height": 296
        },
        "outputId": "28175c26-4fd0-4ca7-dbb1-d4f018a0bea4"
      },
      "source": [
        "sns.violinplot(new_tmp_df[\"label\"],new_tmp_df[\"charge\"])"
      ],
      "execution_count": 26,
      "outputs": [
        {
          "output_type": "execute_result",
          "data": {
            "text/plain": [
              "<matplotlib.axes._subplots.AxesSubplot at 0x7fde2aaa6b00>"
            ]
          },
          "metadata": {
            "tags": []
          },
          "execution_count": 26
        },
        {
          "output_type": "display_data",
          "data": {
            "image/png": "[encoded data removed]",
            "text/plain": [
              "<Figure size 432x288 with 1 Axes>"
            ]
          },
          "metadata": {
            "tags": [],
            "needs_background": "light"
          }
        }
      ]
    },
    {
      "cell_type": "code",
      "metadata": {
        "id": "JrRz35Bg8s8C",
        "colab_type": "code",
        "colab": {
          "base_uri": "https://localhost:8080/",
          "height": 34
        },
        "outputId": "d655234b-7f44-4252-ad42-33ed0c2658c1"
      },
      "source": [
        "charged = revised_decoy_df[revised_decoy_df[\"charge\"] != 0]\n",
        "charged.shape[0]/revised_decoy_df.shape[0]"
      ],
      "execution_count": 27,
      "outputs": [
        {
          "output_type": "execute_result",
          "data": {
            "text/plain": [
              "0.0026373626373626374"
            ]
          },
          "metadata": {
            "tags": []
          },
          "execution_count": 27
        }
      ]
    },
    {
      "cell_type": "code",
      "metadata": {
        "id": "yCIXuGEX8xe2",
        "colab_type": "code",
        "colab": {
          "base_uri": "https://localhost:8080/",
          "height": 204
        },
        "outputId": "0b267599-7d0b-430d-ebcf-e238ce0d1072"
      },
      "source": [
        "\n",
        "active_df[\"is_active\"] = [1] * active_df.shape[0]\n",
        "revised_decoy_df[\"is_active\"] = [0] * revised_decoy_df.shape[0]\n",
        "combined_df = active_df.append(revised_decoy_df)[[\"SMILES\",\"ID\",\"is_active\"]]\n",
        "combined_df.head()"
      ],
      "execution_count": 28,
      "outputs": [
        {
          "output_type": "execute_result",
          "data": {
            "text/html": [
              "<div>\n",
              "<style scoped>\n",
              "    .dataframe tbody tr th:only-of-type {\n",
              "        vertical-align: middle;\n",
              "    }\n",
              "\n",
              "    .dataframe tbody tr th {\n",
              "        vertical-align: top;\n",
              "    }\n",
              "\n",
              "    .dataframe thead th {\n",
              "        text-align: right;\n",
              "    }\n",
              "</style>\n",
              "<table border=\"1\" class=\"dataframe\">\n",
              "  <thead>\n",
              "    <tr style=\"text-align: right;\">\n",
              "      <th></th>\n",
              "      <th>SMILES</th>\n",
              "      <th>ID</th>\n",
              "      <th>is_active</th>\n",
              "    </tr>\n",
              "  </thead>\n",
              "  <tbody>\n",
              "    <tr>\n",
              "      <th>0</th>\n",
              "      <td>Cn1ccnc1Sc2ccc(cc2Cl)Nc3c4cc(c(cc4ncc3C#N)OCCC...</td>\n",
              "      <td>168691</td>\n",
              "      <td>1</td>\n",
              "    </tr>\n",
              "    <tr>\n",
              "      <th>1</th>\n",
              "      <td>C[C@@]12[C@@H]([C@@H](CC(O1)n3c4ccccc4c5c3c6n2...</td>\n",
              "      <td>86358</td>\n",
              "      <td>1</td>\n",
              "    </tr>\n",
              "    <tr>\n",
              "      <th>2</th>\n",
              "      <td>Cc1cnc(nc1c2cc([nH]c2)C(=O)N[C@H](CO)c3cccc(c3...</td>\n",
              "      <td>575087</td>\n",
              "      <td>1</td>\n",
              "    </tr>\n",
              "    <tr>\n",
              "      <th>3</th>\n",
              "      <td>Cc1cnc(nc1c2cc([nH]c2)C(=O)N[C@H](CO)c3cccc(c3...</td>\n",
              "      <td>575065</td>\n",
              "      <td>1</td>\n",
              "    </tr>\n",
              "    <tr>\n",
              "      <th>4</th>\n",
              "      <td>Cc1cnc(nc1c2cc([nH]c2)C(=O)N[C@H](CO)c3cccc(c3...</td>\n",
              "      <td>575047</td>\n",
              "      <td>1</td>\n",
              "    </tr>\n",
              "  </tbody>\n",
              "</table>\n",
              "</div>"
            ],
            "text/plain": [
              "                                              SMILES      ID  is_active\n",
              "0  Cn1ccnc1Sc2ccc(cc2Cl)Nc3c4cc(c(cc4ncc3C#N)OCCC...  168691          1\n",
              "1  C[C@@]12[C@@H]([C@@H](CC(O1)n3c4ccccc4c5c3c6n2...   86358          1\n",
              "2  Cc1cnc(nc1c2cc([nH]c2)C(=O)N[C@H](CO)c3cccc(c3...  575087          1\n",
              "3  Cc1cnc(nc1c2cc([nH]c2)C(=O)N[C@H](CO)c3cccc(c3...  575065          1\n",
              "4  Cc1cnc(nc1c2cc([nH]c2)C(=O)N[C@H](CO)c3cccc(c3...  575047          1"
            ]
          },
          "metadata": {
            "tags": []
          },
          "execution_count": 28
        }
      ]
    },
    {
      "cell_type": "code",
      "metadata": {
        "id": "BpHKZ3vd86F5",
        "colab_type": "code",
        "colab": {}
      },
      "source": [
        "combined_df.to_csv(\"dude_erk1_mk01.csv\")"
      ],
      "execution_count": 29,
      "outputs": []
    },
    {
      "cell_type": "code",
      "metadata": {
        "id": "AFalnwAp895P",
        "colab_type": "code",
        "colab": {}
      },
      "source": [
        "#part1 over "
      ],
      "execution_count": 30,
      "outputs": []
    },
    {
      "cell_type": "code",
      "metadata": {
        "id": "EEH2eQKC9CBq",
        "colab_type": "code",
        "colab": {}
      },
      "source": [
        "#part 2 training a predictive model"
      ],
      "execution_count": 31,
      "outputs": []
    },
    {
      "cell_type": "code",
      "metadata": {
        "id": "zetcJEJV9gGE",
        "colab_type": "code",
        "colab": {
          "base_uri": "https://localhost:8080/",
          "height": 207
        },
        "outputId": "4722b577-2118-4ef7-8a57-f1cef70986d0"
      },
      "source": [
        "\n",
        "import deepchem as dc\n",
        "from deepchem.models import GraphConvModel\n",
        "import numpy as np\n",
        "import sys\n",
        "import pandas as pd\n",
        "import seaborn as sns\n",
        "from rdkit.Chem import PandasTools"
      ],
      "execution_count": 32,
      "outputs": [
        {
          "output_type": "stream",
          "text": [
            "/usr/local/lib/python3.6/dist-packages/sklearn/externals/joblib/__init__.py:15: FutureWarning: sklearn.externals.joblib is deprecated in 0.21 and will be removed in 0.23. Please import this functionality directly from joblib, which can be installed with: pip install joblib. If this warning is raised when loading pickled models, you may need to re-serialize those models with scikit-learn 0.21+.\n",
            "  warnings.warn(msg, category=FutureWarning)\n"
          ],
          "name": "stderr"
        },
        {
          "output_type": "stream",
          "text": [
            "WARNING:tensorflow:\n",
            "The TensorFlow contrib module will not be included in TensorFlow 2.0.\n",
            "For more information, please see:\n",
            "  * https://github.com/tensorflow/community/blob/master/rfcs/20180907-contrib-sunset.md\n",
            "  * https://github.com/tensorflow/addons\n",
            "  * https://github.com/tensorflow/io (for I/O related ops)\n",
            "If you depend on functionality not listed there, please file an issue.\n",
            "\n"
          ],
          "name": "stdout"
        }
      ]
    },
    {
      "cell_type": "code",
      "metadata": {
        "id": "vlHjYhCa90pV",
        "colab_type": "code",
        "colab": {}
      },
      "source": [
        "def generate_graph_conv_model():\n",
        "    batch_size = 128\n",
        "    model = GraphConvModel(1, batch_size=batch_size, mode='classification',model_dir=\"./model_dir\")\n",
        "    return model"
      ],
      "execution_count": 33,
      "outputs": []
    },
    {
      "cell_type": "code",
      "metadata": {
        "id": "-eHGONT896yr",
        "colab_type": "code",
        "colab": {
          "base_uri": "https://localhost:8080/",
          "height": 221
        },
        "outputId": "9065cb9c-f803-44bf-fba5-cd3072f5f136"
      },
      "source": [
        "dataset_file = \"dude_erk2_mk01.csv\"\n",
        "tasks = [\"is_active\"]\n",
        "featurizer = dc.feat.ConvMolFeaturizer()\n",
        "loader = dc.data.CSVLoader(tasks=tasks, smiles_field=\"SMILES\", featurizer=featurizer)\n",
        "dataset = loader.featurize(dataset_file, shard_size=8192)"
      ],
      "execution_count": 35,
      "outputs": [
        {
          "output_type": "stream",
          "text": [
            "Loading raw samples now.\n",
            "shard_size: 8192\n",
            "About to start loading CSV from dude_erk2_mk01.csv\n",
            "Loading shard 1 of size 8192.\n",
            "Featurizing sample 0\n",
            "Featurizing sample 1000\n",
            "Featurizing sample 2000\n",
            "Featurizing sample 3000\n",
            "Featurizing sample 4000\n",
            "TIMING: featurizing shard 0 took 13.727 s\n",
            "TIMING: dataset construction took 15.595 s\n",
            "Loading dataset from disk.\n"
          ],
          "name": "stdout"
        }
      ]
    },
    {
      "cell_type": "code",
      "metadata": {
        "id": "7EpLLosF-ApB",
        "colab_type": "code",
        "colab": {}
      },
      "source": [
        "splitter = dc.splits.RandomSplitter()"
      ],
      "execution_count": 36,
      "outputs": []
    },
    {
      "cell_type": "code",
      "metadata": {
        "id": "uSAVgrpH-qrX",
        "colab_type": "code",
        "colab": {}
      },
      "source": [
        "metrics = [dc.metrics.Metric(dc.metrics.matthews_corrcoef, np.mean, mode=\"classification\")]"
      ],
      "execution_count": 37,
      "outputs": []
    },
    {
      "cell_type": "code",
      "metadata": {
        "id": "V6Hhl4nK-2hg",
        "colab_type": "code",
        "colab": {
          "base_uri": "https://localhost:8080/",
          "height": 1000
        },
        "outputId": "d3a7e69e-8b48-47e8-b775-6d6544cbcffc"
      },
      "source": [
        "training_score_list = []\n",
        "validation_score_list = []\n",
        "transformers = []\n",
        "cv_folds = 10\n",
        "for i in range(0,cv_folds):\n",
        "    model = generate_graph_conv_model()\n",
        "    train_dataset, valid_dataset, test_dataset = splitter.train_valid_test_split(dataset)\n",
        "    model.fit(train_dataset)\n",
        "    train_scores = model.evaluate(train_dataset, metrics, transformers)\n",
        "    training_score_list.append(train_scores[\"mean-matthews_corrcoef\"])\n",
        "    validation_scores = model.evaluate(valid_dataset, metrics, transformers)\n",
        "    validation_score_list.append(validation_scores[\"mean-matthews_corrcoef\"])\n",
        "print(training_score_list)\n",
        "print(validation_score_list)"
      ],
      "execution_count": 38,
      "outputs": [
        {
          "output_type": "stream",
          "text": [
            "WARNING:tensorflow:From /tensorflow-1.15.2/python3.6/tensorflow_core/python/ops/resource_variable_ops.py:1630: calling BaseResourceVariable.__init__ (from tensorflow.python.ops.resource_variable_ops) with constraint is deprecated and will be removed in a future version.\n",
            "Instructions for updating:\n",
            "If using Keras pass *_constraint arguments to layers.\n",
            "WARNING:tensorflow:Entity <bound method GraphConv.call of <deepchem.models.layers.GraphConv object at 0x7fdde42a39b0>> could not be transformed and will be executed as-is. Please report this to the AutoGraph team. When filing the bug, set the verbosity to 10 (on Linux, `export AUTOGRAPH_VERBOSITY=10`) and attach the full output. Cause: module 'gast' has no attribute 'Num'\n",
            "WARNING: Entity <bound method GraphConv.call of <deepchem.models.layers.GraphConv object at 0x7fdde42a39b0>> could not be transformed and will be executed as-is. Please report this to the AutoGraph team. When filing the bug, set the verbosity to 10 (on Linux, `export AUTOGRAPH_VERBOSITY=10`) and attach the full output. Cause: module 'gast' has no attribute 'Num'\n",
            "WARNING:tensorflow:Entity <bound method GraphPool.call of <deepchem.models.layers.GraphPool object at 0x7fdde1fdd5f8>> could not be transformed and will be executed as-is. Please report this to the AutoGraph team. When filing the bug, set the verbosity to 10 (on Linux, `export AUTOGRAPH_VERBOSITY=10`) and attach the full output. Cause: module 'gast' has no attribute 'Num'\n",
            "WARNING: Entity <bound method GraphPool.call of <deepchem.models.layers.GraphPool object at 0x7fdde1fdd5f8>> could not be transformed and will be executed as-is. Please report this to the AutoGraph team. When filing the bug, set the verbosity to 10 (on Linux, `export AUTOGRAPH_VERBOSITY=10`) and attach the full output. Cause: module 'gast' has no attribute 'Num'\n",
            "WARNING:tensorflow:Entity <bound method GraphConv.call of <deepchem.models.layers.GraphConv object at 0x7fdde4f5e1d0>> could not be transformed and will be executed as-is. Please report this to the AutoGraph team. When filing the bug, set the verbosity to 10 (on Linux, `export AUTOGRAPH_VERBOSITY=10`) and attach the full output. Cause: module 'gast' has no attribute 'Num'\n",
            "WARNING: Entity <bound method GraphConv.call of <deepchem.models.layers.GraphConv object at 0x7fdde4f5e1d0>> could not be transformed and will be executed as-is. Please report this to the AutoGraph team. When filing the bug, set the verbosity to 10 (on Linux, `export AUTOGRAPH_VERBOSITY=10`) and attach the full output. Cause: module 'gast' has no attribute 'Num'\n",
            "WARNING:tensorflow:Entity <bound method GraphPool.call of <deepchem.models.layers.GraphPool object at 0x7fdde35434e0>> could not be transformed and will be executed as-is. Please report this to the AutoGraph team. When filing the bug, set the verbosity to 10 (on Linux, `export AUTOGRAPH_VERBOSITY=10`) and attach the full output. Cause: module 'gast' has no attribute 'Num'\n",
            "WARNING: Entity <bound method GraphPool.call of <deepchem.models.layers.GraphPool object at 0x7fdde35434e0>> could not be transformed and will be executed as-is. Please report this to the AutoGraph team. When filing the bug, set the verbosity to 10 (on Linux, `export AUTOGRAPH_VERBOSITY=10`) and attach the full output. Cause: module 'gast' has no attribute 'Num'\n",
            "WARNING:tensorflow:Entity <bound method GraphGather.call of <deepchem.models.layers.GraphGather object at 0x7fdde52a7e80>> could not be transformed and will be executed as-is. Please report this to the AutoGraph team. When filing the bug, set the verbosity to 10 (on Linux, `export AUTOGRAPH_VERBOSITY=10`) and attach the full output. Cause: module 'gast' has no attribute 'Num'\n",
            "WARNING: Entity <bound method GraphGather.call of <deepchem.models.layers.GraphGather object at 0x7fdde52a7e80>> could not be transformed and will be executed as-is. Please report this to the AutoGraph team. When filing the bug, set the verbosity to 10 (on Linux, `export AUTOGRAPH_VERBOSITY=10`) and attach the full output. Cause: module 'gast' has no attribute 'Num'\n",
            "WARNING:tensorflow:From /usr/local/lib/python3.7/site-packages/deepchem/models/layers.py:194: The name tf.unsorted_segment_sum is deprecated. Please use tf.math.unsorted_segment_sum instead.\n",
            "\n",
            "WARNING:tensorflow:From /usr/local/lib/python3.7/site-packages/deepchem/models/layers.py:196: The name tf.unsorted_segment_max is deprecated. Please use tf.math.unsorted_segment_max instead.\n",
            "\n",
            "WARNING:tensorflow:Entity <bound method TrimGraphOutput.call of <deepchem.models.graph_models.TrimGraphOutput object at 0x7fdde52a7da0>> could not be transformed and will be executed as-is. Please report this to the AutoGraph team. When filing the bug, set the verbosity to 10 (on Linux, `export AUTOGRAPH_VERBOSITY=10`) and attach the full output. Cause: module 'gast' has no attribute 'Num'\n",
            "WARNING: Entity <bound method TrimGraphOutput.call of <deepchem.models.graph_models.TrimGraphOutput object at 0x7fdde52a7da0>> could not be transformed and will be executed as-is. Please report this to the AutoGraph team. When filing the bug, set the verbosity to 10 (on Linux, `export AUTOGRAPH_VERBOSITY=10`) and attach the full output. Cause: module 'gast' has no attribute 'Num'\n",
            "TIMING: dataset construction took 2.295 s\n",
            "Loading dataset from disk.\n",
            "TIMING: dataset construction took 0.939 s\n",
            "Loading dataset from disk.\n",
            "TIMING: dataset construction took 0.939 s\n",
            "Loading dataset from disk.\n",
            "WARNING:tensorflow:From /usr/local/lib/python3.7/site-packages/deepchem/models/keras_model.py:169: The name tf.Session is deprecated. Please use tf.compat.v1.Session instead.\n",
            "\n",
            "WARNING:tensorflow:From /usr/local/lib/python3.7/site-packages/deepchem/models/optimizers.py:76: The name tf.train.AdamOptimizer is deprecated. Please use tf.compat.v1.train.AdamOptimizer instead.\n",
            "\n",
            "WARNING:tensorflow:From /usr/local/lib/python3.7/site-packages/deepchem/models/keras_model.py:258: The name tf.global_variables is deprecated. Please use tf.compat.v1.global_variables instead.\n",
            "\n",
            "WARNING:tensorflow:From /usr/local/lib/python3.7/site-packages/deepchem/models/keras_model.py:260: The name tf.variables_initializer is deprecated. Please use tf.compat.v1.variables_initializer instead.\n",
            "\n",
            "WARNING:tensorflow:Entity <bound method GraphConv.call of <deepchem.models.layers.GraphConv object at 0x7fdde42a39b0>> could not be transformed and will be executed as-is. Please report this to the AutoGraph team. When filing the bug, set the verbosity to 10 (on Linux, `export AUTOGRAPH_VERBOSITY=10`) and attach the full output. Cause: module 'gast' has no attribute 'Num'\n",
            "WARNING: Entity <bound method GraphConv.call of <deepchem.models.layers.GraphConv object at 0x7fdde42a39b0>> could not be transformed and will be executed as-is. Please report this to the AutoGraph team. When filing the bug, set the verbosity to 10 (on Linux, `export AUTOGRAPH_VERBOSITY=10`) and attach the full output. Cause: module 'gast' has no attribute 'Num'\n",
            "WARNING:tensorflow:Entity <bound method GraphPool.call of <deepchem.models.layers.GraphPool object at 0x7fdde1fdd5f8>> could not be transformed and will be executed as-is. Please report this to the AutoGraph team. When filing the bug, set the verbosity to 10 (on Linux, `export AUTOGRAPH_VERBOSITY=10`) and attach the full output. Cause: module 'gast' has no attribute 'Num'\n",
            "WARNING: Entity <bound method GraphPool.call of <deepchem.models.layers.GraphPool object at 0x7fdde1fdd5f8>> could not be transformed and will be executed as-is. Please report this to the AutoGraph team. When filing the bug, set the verbosity to 10 (on Linux, `export AUTOGRAPH_VERBOSITY=10`) and attach the full output. Cause: module 'gast' has no attribute 'Num'\n",
            "WARNING:tensorflow:Entity <bound method GraphConv.call of <deepchem.models.layers.GraphConv object at 0x7fdde4f5e1d0>> could not be transformed and will be executed as-is. Please report this to the AutoGraph team. When filing the bug, set the verbosity to 10 (on Linux, `export AUTOGRAPH_VERBOSITY=10`) and attach the full output. Cause: module 'gast' has no attribute 'Num'\n",
            "WARNING: Entity <bound method GraphConv.call of <deepchem.models.layers.GraphConv object at 0x7fdde4f5e1d0>> could not be transformed and will be executed as-is. Please report this to the AutoGraph team. When filing the bug, set the verbosity to 10 (on Linux, `export AUTOGRAPH_VERBOSITY=10`) and attach the full output. Cause: module 'gast' has no attribute 'Num'\n",
            "WARNING:tensorflow:Entity <bound method GraphPool.call of <deepchem.models.layers.GraphPool object at 0x7fdde35434e0>> could not be transformed and will be executed as-is. Please report this to the AutoGraph team. When filing the bug, set the verbosity to 10 (on Linux, `export AUTOGRAPH_VERBOSITY=10`) and attach the full output. Cause: module 'gast' has no attribute 'Num'\n",
            "WARNING: Entity <bound method GraphPool.call of <deepchem.models.layers.GraphPool object at 0x7fdde35434e0>> could not be transformed and will be executed as-is. Please report this to the AutoGraph team. When filing the bug, set the verbosity to 10 (on Linux, `export AUTOGRAPH_VERBOSITY=10`) and attach the full output. Cause: module 'gast' has no attribute 'Num'\n",
            "WARNING:tensorflow:Entity <bound method GraphGather.call of <deepchem.models.layers.GraphGather object at 0x7fdde52a7e80>> could not be transformed and will be executed as-is. Please report this to the AutoGraph team. When filing the bug, set the verbosity to 10 (on Linux, `export AUTOGRAPH_VERBOSITY=10`) and attach the full output. Cause: module 'gast' has no attribute 'Num'\n",
            "WARNING: Entity <bound method GraphGather.call of <deepchem.models.layers.GraphGather object at 0x7fdde52a7e80>> could not be transformed and will be executed as-is. Please report this to the AutoGraph team. When filing the bug, set the verbosity to 10 (on Linux, `export AUTOGRAPH_VERBOSITY=10`) and attach the full output. Cause: module 'gast' has no attribute 'Num'\n",
            "WARNING:tensorflow:Entity <bound method TrimGraphOutput.call of <deepchem.models.graph_models.TrimGraphOutput object at 0x7fdde52a7da0>> could not be transformed and will be executed as-is. Please report this to the AutoGraph team. When filing the bug, set the verbosity to 10 (on Linux, `export AUTOGRAPH_VERBOSITY=10`) and attach the full output. Cause: module 'gast' has no attribute 'Num'\n",
            "WARNING: Entity <bound method TrimGraphOutput.call of <deepchem.models.graph_models.TrimGraphOutput object at 0x7fdde52a7da0>> could not be transformed and will be executed as-is. Please report this to the AutoGraph team. When filing the bug, set the verbosity to 10 (on Linux, `export AUTOGRAPH_VERBOSITY=10`) and attach the full output. Cause: module 'gast' has no attribute 'Num'\n",
            "WARNING:tensorflow:From /usr/local/lib/python3.7/site-packages/deepchem/models/keras_model.py:237: The name tf.placeholder is deprecated. Please use tf.compat.v1.placeholder instead.\n",
            "\n",
            "WARNING:tensorflow:From /usr/local/lib/python3.7/site-packages/deepchem/models/losses.py:108: The name tf.losses.softmax_cross_entropy is deprecated. Please use tf.compat.v1.losses.softmax_cross_entropy instead.\n",
            "\n",
            "WARNING:tensorflow:From /usr/local/lib/python3.7/site-packages/deepchem/models/losses.py:109: The name tf.losses.Reduction is deprecated. Please use tf.compat.v1.losses.Reduction instead.\n",
            "\n",
            "WARNING:tensorflow:From /tensorflow-1.15.2/python3.6/tensorflow_core/python/ops/math_grad.py:424: where (from tensorflow.python.ops.array_ops) is deprecated and will be removed in a future version.\n",
            "Instructions for updating:\n",
            "Use tf.where in 2.0, which has the same broadcast rule as np.where\n"
          ],
          "name": "stdout"
        },
        {
          "output_type": "stream",
          "text": [
            "/tensorflow-1.15.2/python3.6/tensorflow_core/python/framework/indexed_slices.py:424: UserWarning: Converting sparse IndexedSlices to a dense Tensor of unknown shape. This may consume a large amount of memory.\n",
            "  \"Converting sparse IndexedSlices to a dense Tensor of unknown shape. \"\n",
            "/tensorflow-1.15.2/python3.6/tensorflow_core/python/framework/indexed_slices.py:424: UserWarning: Converting sparse IndexedSlices to a dense Tensor of unknown shape. This may consume a large amount of memory.\n",
            "  \"Converting sparse IndexedSlices to a dense Tensor of unknown shape. \"\n",
            "/tensorflow-1.15.2/python3.6/tensorflow_core/python/framework/indexed_slices.py:424: UserWarning: Converting sparse IndexedSlices to a dense Tensor of unknown shape. This may consume a large amount of memory.\n",
            "  \"Converting sparse IndexedSlices to a dense Tensor of unknown shape. \"\n"
          ],
          "name": "stderr"
        },
        {
          "output_type": "stream",
          "text": [
            "computed_metrics: [0.9460858016837398]\n",
            "computed_metrics: [0.5435391270264687]\n",
            "WARNING:tensorflow:Entity <bound method GraphConv.call of <deepchem.models.layers.GraphConv object at 0x7fdde1083828>> could not be transformed and will be executed as-is. Please report this to the AutoGraph team. When filing the bug, set the verbosity to 10 (on Linux, `export AUTOGRAPH_VERBOSITY=10`) and attach the full output. Cause: module 'gast' has no attribute 'Num'\n",
            "WARNING: Entity <bound method GraphConv.call of <deepchem.models.layers.GraphConv object at 0x7fdde1083828>> could not be transformed and will be executed as-is. Please report this to the AutoGraph team. When filing the bug, set the verbosity to 10 (on Linux, `export AUTOGRAPH_VERBOSITY=10`) and attach the full output. Cause: module 'gast' has no attribute 'Num'\n",
            "WARNING:tensorflow:Entity <bound method GraphPool.call of <deepchem.models.layers.GraphPool object at 0x7fdde30172b0>> could not be transformed and will be executed as-is. Please report this to the AutoGraph team. When filing the bug, set the verbosity to 10 (on Linux, `export AUTOGRAPH_VERBOSITY=10`) and attach the full output. Cause: module 'gast' has no attribute 'Num'\n",
            "WARNING: Entity <bound method GraphPool.call of <deepchem.models.layers.GraphPool object at 0x7fdde30172b0>> could not be transformed and will be executed as-is. Please report this to the AutoGraph team. When filing the bug, set the verbosity to 10 (on Linux, `export AUTOGRAPH_VERBOSITY=10`) and attach the full output. Cause: module 'gast' has no attribute 'Num'\n",
            "WARNING:tensorflow:Entity <bound method GraphConv.call of <deepchem.models.layers.GraphConv object at 0x7fdd704102e8>> could not be transformed and will be executed as-is. Please report this to the AutoGraph team. When filing the bug, set the verbosity to 10 (on Linux, `export AUTOGRAPH_VERBOSITY=10`) and attach the full output. Cause: module 'gast' has no attribute 'Num'\n",
            "WARNING: Entity <bound method GraphConv.call of <deepchem.models.layers.GraphConv object at 0x7fdd704102e8>> could not be transformed and will be executed as-is. Please report this to the AutoGraph team. When filing the bug, set the verbosity to 10 (on Linux, `export AUTOGRAPH_VERBOSITY=10`) and attach the full output. Cause: module 'gast' has no attribute 'Num'\n",
            "WARNING:tensorflow:Entity <bound method GraphPool.call of <deepchem.models.layers.GraphPool object at 0x7fdde37dde48>> could not be transformed and will be executed as-is. Please report this to the AutoGraph team. When filing the bug, set the verbosity to 10 (on Linux, `export AUTOGRAPH_VERBOSITY=10`) and attach the full output. Cause: module 'gast' has no attribute 'Num'\n",
            "WARNING: Entity <bound method GraphPool.call of <deepchem.models.layers.GraphPool object at 0x7fdde37dde48>> could not be transformed and will be executed as-is. Please report this to the AutoGraph team. When filing the bug, set the verbosity to 10 (on Linux, `export AUTOGRAPH_VERBOSITY=10`) and attach the full output. Cause: module 'gast' has no attribute 'Num'\n",
            "WARNING:tensorflow:Entity <bound method GraphGather.call of <deepchem.models.layers.GraphGather object at 0x7fdde0f9d128>> could not be transformed and will be executed as-is. Please report this to the AutoGraph team. When filing the bug, set the verbosity to 10 (on Linux, `export AUTOGRAPH_VERBOSITY=10`) and attach the full output. Cause: module 'gast' has no attribute 'Num'\n",
            "WARNING: Entity <bound method GraphGather.call of <deepchem.models.layers.GraphGather object at 0x7fdde0f9d128>> could not be transformed and will be executed as-is. Please report this to the AutoGraph team. When filing the bug, set the verbosity to 10 (on Linux, `export AUTOGRAPH_VERBOSITY=10`) and attach the full output. Cause: module 'gast' has no attribute 'Num'\n",
            "WARNING:tensorflow:Entity <bound method TrimGraphOutput.call of <deepchem.models.graph_models.TrimGraphOutput object at 0x7fdde45c4f98>> could not be transformed and will be executed as-is. Please report this to the AutoGraph team. When filing the bug, set the verbosity to 10 (on Linux, `export AUTOGRAPH_VERBOSITY=10`) and attach the full output. Cause: module 'gast' has no attribute 'Num'\n",
            "WARNING: Entity <bound method TrimGraphOutput.call of <deepchem.models.graph_models.TrimGraphOutput object at 0x7fdde45c4f98>> could not be transformed and will be executed as-is. Please report this to the AutoGraph team. When filing the bug, set the verbosity to 10 (on Linux, `export AUTOGRAPH_VERBOSITY=10`) and attach the full output. Cause: module 'gast' has no attribute 'Num'\n",
            "TIMING: dataset construction took 2.262 s\n",
            "Loading dataset from disk.\n",
            "TIMING: dataset construction took 1.000 s\n",
            "Loading dataset from disk.\n",
            "TIMING: dataset construction took 0.997 s\n",
            "Loading dataset from disk.\n",
            "WARNING:tensorflow:Entity <bound method GraphConv.call of <deepchem.models.layers.GraphConv object at 0x7fdde1083828>> could not be transformed and will be executed as-is. Please report this to the AutoGraph team. When filing the bug, set the verbosity to 10 (on Linux, `export AUTOGRAPH_VERBOSITY=10`) and attach the full output. Cause: module 'gast' has no attribute 'Num'\n",
            "WARNING: Entity <bound method GraphConv.call of <deepchem.models.layers.GraphConv object at 0x7fdde1083828>> could not be transformed and will be executed as-is. Please report this to the AutoGraph team. When filing the bug, set the verbosity to 10 (on Linux, `export AUTOGRAPH_VERBOSITY=10`) and attach the full output. Cause: module 'gast' has no attribute 'Num'\n",
            "WARNING:tensorflow:Entity <bound method GraphPool.call of <deepchem.models.layers.GraphPool object at 0x7fdde30172b0>> could not be transformed and will be executed as-is. Please report this to the AutoGraph team. When filing the bug, set the verbosity to 10 (on Linux, `export AUTOGRAPH_VERBOSITY=10`) and attach the full output. Cause: module 'gast' has no attribute 'Num'\n",
            "WARNING: Entity <bound method GraphPool.call of <deepchem.models.layers.GraphPool object at 0x7fdde30172b0>> could not be transformed and will be executed as-is. Please report this to the AutoGraph team. When filing the bug, set the verbosity to 10 (on Linux, `export AUTOGRAPH_VERBOSITY=10`) and attach the full output. Cause: module 'gast' has no attribute 'Num'\n",
            "WARNING:tensorflow:Entity <bound method GraphConv.call of <deepchem.models.layers.GraphConv object at 0x7fdd704102e8>> could not be transformed and will be executed as-is. Please report this to the AutoGraph team. When filing the bug, set the verbosity to 10 (on Linux, `export AUTOGRAPH_VERBOSITY=10`) and attach the full output. Cause: module 'gast' has no attribute 'Num'\n",
            "WARNING: Entity <bound method GraphConv.call of <deepchem.models.layers.GraphConv object at 0x7fdd704102e8>> could not be transformed and will be executed as-is. Please report this to the AutoGraph team. When filing the bug, set the verbosity to 10 (on Linux, `export AUTOGRAPH_VERBOSITY=10`) and attach the full output. Cause: module 'gast' has no attribute 'Num'\n",
            "WARNING:tensorflow:Entity <bound method GraphPool.call of <deepchem.models.layers.GraphPool object at 0x7fdde37dde48>> could not be transformed and will be executed as-is. Please report this to the AutoGraph team. When filing the bug, set the verbosity to 10 (on Linux, `export AUTOGRAPH_VERBOSITY=10`) and attach the full output. Cause: module 'gast' has no attribute 'Num'\n",
            "WARNING: Entity <bound method GraphPool.call of <deepchem.models.layers.GraphPool object at 0x7fdde37dde48>> could not be transformed and will be executed as-is. Please report this to the AutoGraph team. When filing the bug, set the verbosity to 10 (on Linux, `export AUTOGRAPH_VERBOSITY=10`) and attach the full output. Cause: module 'gast' has no attribute 'Num'\n",
            "WARNING:tensorflow:Entity <bound method GraphGather.call of <deepchem.models.layers.GraphGather object at 0x7fdde0f9d128>> could not be transformed and will be executed as-is. Please report this to the AutoGraph team. When filing the bug, set the verbosity to 10 (on Linux, `export AUTOGRAPH_VERBOSITY=10`) and attach the full output. Cause: module 'gast' has no attribute 'Num'\n",
            "WARNING: Entity <bound method GraphGather.call of <deepchem.models.layers.GraphGather object at 0x7fdde0f9d128>> could not be transformed and will be executed as-is. Please report this to the AutoGraph team. When filing the bug, set the verbosity to 10 (on Linux, `export AUTOGRAPH_VERBOSITY=10`) and attach the full output. Cause: module 'gast' has no attribute 'Num'\n",
            "WARNING:tensorflow:Entity <bound method TrimGraphOutput.call of <deepchem.models.graph_models.TrimGraphOutput object at 0x7fdde45c4f98>> could not be transformed and will be executed as-is. Please report this to the AutoGraph team. When filing the bug, set the verbosity to 10 (on Linux, `export AUTOGRAPH_VERBOSITY=10`) and attach the full output. Cause: module 'gast' has no attribute 'Num'\n",
            "WARNING: Entity <bound method TrimGraphOutput.call of <deepchem.models.graph_models.TrimGraphOutput object at 0x7fdde45c4f98>> could not be transformed and will be executed as-is. Please report this to the AutoGraph team. When filing the bug, set the verbosity to 10 (on Linux, `export AUTOGRAPH_VERBOSITY=10`) and attach the full output. Cause: module 'gast' has no attribute 'Num'\n"
          ],
          "name": "stdout"
        },
        {
          "output_type": "stream",
          "text": [
            "/tensorflow-1.15.2/python3.6/tensorflow_core/python/framework/indexed_slices.py:424: UserWarning: Converting sparse IndexedSlices to a dense Tensor of unknown shape. This may consume a large amount of memory.\n",
            "  \"Converting sparse IndexedSlices to a dense Tensor of unknown shape. \"\n",
            "/tensorflow-1.15.2/python3.6/tensorflow_core/python/framework/indexed_slices.py:424: UserWarning: Converting sparse IndexedSlices to a dense Tensor of unknown shape. This may consume a large amount of memory.\n",
            "  \"Converting sparse IndexedSlices to a dense Tensor of unknown shape. \"\n",
            "/tensorflow-1.15.2/python3.6/tensorflow_core/python/framework/indexed_slices.py:424: UserWarning: Converting sparse IndexedSlices to a dense Tensor of unknown shape. This may consume a large amount of memory.\n",
            "  \"Converting sparse IndexedSlices to a dense Tensor of unknown shape. \"\n"
          ],
          "name": "stderr"
        },
        {
          "output_type": "stream",
          "text": [
            "computed_metrics: [0.9552702926783022]\n",
            "computed_metrics: [0.8339033138452595]\n",
            "WARNING:tensorflow:Entity <bound method GraphConv.call of <deepchem.models.layers.GraphConv object at 0x7fdde1b14860>> could not be transformed and will be executed as-is. Please report this to the AutoGraph team. When filing the bug, set the verbosity to 10 (on Linux, `export AUTOGRAPH_VERBOSITY=10`) and attach the full output. Cause: module 'gast' has no attribute 'Num'\n",
            "WARNING: Entity <bound method GraphConv.call of <deepchem.models.layers.GraphConv object at 0x7fdde1b14860>> could not be transformed and will be executed as-is. Please report this to the AutoGraph team. When filing the bug, set the verbosity to 10 (on Linux, `export AUTOGRAPH_VERBOSITY=10`) and attach the full output. Cause: module 'gast' has no attribute 'Num'\n",
            "WARNING:tensorflow:Entity <bound method GraphPool.call of <deepchem.models.layers.GraphPool object at 0x7fdde2db6048>> could not be transformed and will be executed as-is. Please report this to the AutoGraph team. When filing the bug, set the verbosity to 10 (on Linux, `export AUTOGRAPH_VERBOSITY=10`) and attach the full output. Cause: module 'gast' has no attribute 'Num'\n",
            "WARNING: Entity <bound method GraphPool.call of <deepchem.models.layers.GraphPool object at 0x7fdde2db6048>> could not be transformed and will be executed as-is. Please report this to the AutoGraph team. When filing the bug, set the verbosity to 10 (on Linux, `export AUTOGRAPH_VERBOSITY=10`) and attach the full output. Cause: module 'gast' has no attribute 'Num'\n",
            "WARNING:tensorflow:Entity <bound method GraphConv.call of <deepchem.models.layers.GraphConv object at 0x7fdde72494a8>> could not be transformed and will be executed as-is. Please report this to the AutoGraph team. When filing the bug, set the verbosity to 10 (on Linux, `export AUTOGRAPH_VERBOSITY=10`) and attach the full output. Cause: module 'gast' has no attribute 'Num'\n",
            "WARNING: Entity <bound method GraphConv.call of <deepchem.models.layers.GraphConv object at 0x7fdde72494a8>> could not be transformed and will be executed as-is. Please report this to the AutoGraph team. When filing the bug, set the verbosity to 10 (on Linux, `export AUTOGRAPH_VERBOSITY=10`) and attach the full output. Cause: module 'gast' has no attribute 'Num'\n",
            "WARNING:tensorflow:Entity <bound method GraphPool.call of <deepchem.models.layers.GraphPool object at 0x7fdde499c128>> could not be transformed and will be executed as-is. Please report this to the AutoGraph team. When filing the bug, set the verbosity to 10 (on Linux, `export AUTOGRAPH_VERBOSITY=10`) and attach the full output. Cause: module 'gast' has no attribute 'Num'\n",
            "WARNING: Entity <bound method GraphPool.call of <deepchem.models.layers.GraphPool object at 0x7fdde499c128>> could not be transformed and will be executed as-is. Please report this to the AutoGraph team. When filing the bug, set the verbosity to 10 (on Linux, `export AUTOGRAPH_VERBOSITY=10`) and attach the full output. Cause: module 'gast' has no attribute 'Num'\n",
            "WARNING:tensorflow:Entity <bound method GraphGather.call of <deepchem.models.layers.GraphGather object at 0x7fdde65b7a58>> could not be transformed and will be executed as-is. Please report this to the AutoGraph team. When filing the bug, set the verbosity to 10 (on Linux, `export AUTOGRAPH_VERBOSITY=10`) and attach the full output. Cause: module 'gast' has no attribute 'Num'\n",
            "WARNING: Entity <bound method GraphGather.call of <deepchem.models.layers.GraphGather object at 0x7fdde65b7a58>> could not be transformed and will be executed as-is. Please report this to the AutoGraph team. When filing the bug, set the verbosity to 10 (on Linux, `export AUTOGRAPH_VERBOSITY=10`) and attach the full output. Cause: module 'gast' has no attribute 'Num'\n",
            "WARNING:tensorflow:Entity <bound method TrimGraphOutput.call of <deepchem.models.graph_models.TrimGraphOutput object at 0x7fdde32d2ba8>> could not be transformed and will be executed as-is. Please report this to the AutoGraph team. When filing the bug, set the verbosity to 10 (on Linux, `export AUTOGRAPH_VERBOSITY=10`) and attach the full output. Cause: module 'gast' has no attribute 'Num'\n",
            "WARNING: Entity <bound method TrimGraphOutput.call of <deepchem.models.graph_models.TrimGraphOutput object at 0x7fdde32d2ba8>> could not be transformed and will be executed as-is. Please report this to the AutoGraph team. When filing the bug, set the verbosity to 10 (on Linux, `export AUTOGRAPH_VERBOSITY=10`) and attach the full output. Cause: module 'gast' has no attribute 'Num'\n",
            "TIMING: dataset construction took 2.219 s\n",
            "Loading dataset from disk.\n",
            "TIMING: dataset construction took 1.025 s\n",
            "Loading dataset from disk.\n",
            "TIMING: dataset construction took 0.814 s\n",
            "Loading dataset from disk.\n",
            "WARNING:tensorflow:Entity <bound method GraphConv.call of <deepchem.models.layers.GraphConv object at 0x7fdde1b14860>> could not be transformed and will be executed as-is. Please report this to the AutoGraph team. When filing the bug, set the verbosity to 10 (on Linux, `export AUTOGRAPH_VERBOSITY=10`) and attach the full output. Cause: module 'gast' has no attribute 'Num'\n",
            "WARNING: Entity <bound method GraphConv.call of <deepchem.models.layers.GraphConv object at 0x7fdde1b14860>> could not be transformed and will be executed as-is. Please report this to the AutoGraph team. When filing the bug, set the verbosity to 10 (on Linux, `export AUTOGRAPH_VERBOSITY=10`) and attach the full output. Cause: module 'gast' has no attribute 'Num'\n",
            "WARNING:tensorflow:Entity <bound method GraphPool.call of <deepchem.models.layers.GraphPool object at 0x7fdde2db6048>> could not be transformed and will be executed as-is. Please report this to the AutoGraph team. When filing the bug, set the verbosity to 10 (on Linux, `export AUTOGRAPH_VERBOSITY=10`) and attach the full output. Cause: module 'gast' has no attribute 'Num'\n",
            "WARNING: Entity <bound method GraphPool.call of <deepchem.models.layers.GraphPool object at 0x7fdde2db6048>> could not be transformed and will be executed as-is. Please report this to the AutoGraph team. When filing the bug, set the verbosity to 10 (on Linux, `export AUTOGRAPH_VERBOSITY=10`) and attach the full output. Cause: module 'gast' has no attribute 'Num'\n",
            "WARNING:tensorflow:Entity <bound method GraphConv.call of <deepchem.models.layers.GraphConv object at 0x7fdde72494a8>> could not be transformed and will be executed as-is. Please report this to the AutoGraph team. When filing the bug, set the verbosity to 10 (on Linux, `export AUTOGRAPH_VERBOSITY=10`) and attach the full output. Cause: module 'gast' has no attribute 'Num'\n",
            "WARNING: Entity <bound method GraphConv.call of <deepchem.models.layers.GraphConv object at 0x7fdde72494a8>> could not be transformed and will be executed as-is. Please report this to the AutoGraph team. When filing the bug, set the verbosity to 10 (on Linux, `export AUTOGRAPH_VERBOSITY=10`) and attach the full output. Cause: module 'gast' has no attribute 'Num'\n",
            "WARNING:tensorflow:Entity <bound method GraphPool.call of <deepchem.models.layers.GraphPool object at 0x7fdde499c128>> could not be transformed and will be executed as-is. Please report this to the AutoGraph team. When filing the bug, set the verbosity to 10 (on Linux, `export AUTOGRAPH_VERBOSITY=10`) and attach the full output. Cause: module 'gast' has no attribute 'Num'\n",
            "WARNING: Entity <bound method GraphPool.call of <deepchem.models.layers.GraphPool object at 0x7fdde499c128>> could not be transformed and will be executed as-is. Please report this to the AutoGraph team. When filing the bug, set the verbosity to 10 (on Linux, `export AUTOGRAPH_VERBOSITY=10`) and attach the full output. Cause: module 'gast' has no attribute 'Num'\n",
            "WARNING:tensorflow:Entity <bound method GraphGather.call of <deepchem.models.layers.GraphGather object at 0x7fdde65b7a58>> could not be transformed and will be executed as-is. Please report this to the AutoGraph team. When filing the bug, set the verbosity to 10 (on Linux, `export AUTOGRAPH_VERBOSITY=10`) and attach the full output. Cause: module 'gast' has no attribute 'Num'\n",
            "WARNING: Entity <bound method GraphGather.call of <deepchem.models.layers.GraphGather object at 0x7fdde65b7a58>> could not be transformed and will be executed as-is. Please report this to the AutoGraph team. When filing the bug, set the verbosity to 10 (on Linux, `export AUTOGRAPH_VERBOSITY=10`) and attach the full output. Cause: module 'gast' has no attribute 'Num'\n",
            "WARNING:tensorflow:Entity <bound method TrimGraphOutput.call of <deepchem.models.graph_models.TrimGraphOutput object at 0x7fdde32d2ba8>> could not be transformed and will be executed as-is. Please report this to the AutoGraph team. When filing the bug, set the verbosity to 10 (on Linux, `export AUTOGRAPH_VERBOSITY=10`) and attach the full output. Cause: module 'gast' has no attribute 'Num'\n",
            "WARNING: Entity <bound method TrimGraphOutput.call of <deepchem.models.graph_models.TrimGraphOutput object at 0x7fdde32d2ba8>> could not be transformed and will be executed as-is. Please report this to the AutoGraph team. When filing the bug, set the verbosity to 10 (on Linux, `export AUTOGRAPH_VERBOSITY=10`) and attach the full output. Cause: module 'gast' has no attribute 'Num'\n"
          ],
          "name": "stdout"
        },
        {
          "output_type": "stream",
          "text": [
            "/tensorflow-1.15.2/python3.6/tensorflow_core/python/framework/indexed_slices.py:424: UserWarning: Converting sparse IndexedSlices to a dense Tensor of unknown shape. This may consume a large amount of memory.\n",
            "  \"Converting sparse IndexedSlices to a dense Tensor of unknown shape. \"\n",
            "/tensorflow-1.15.2/python3.6/tensorflow_core/python/framework/indexed_slices.py:424: UserWarning: Converting sparse IndexedSlices to a dense Tensor of unknown shape. This may consume a large amount of memory.\n",
            "  \"Converting sparse IndexedSlices to a dense Tensor of unknown shape. \"\n",
            "/tensorflow-1.15.2/python3.6/tensorflow_core/python/framework/indexed_slices.py:424: UserWarning: Converting sparse IndexedSlices to a dense Tensor of unknown shape. This may consume a large amount of memory.\n",
            "  \"Converting sparse IndexedSlices to a dense Tensor of unknown shape. \"\n"
          ],
          "name": "stderr"
        },
        {
          "output_type": "stream",
          "text": [
            "computed_metrics: [0.7655981029166788]\n",
            "computed_metrics: [0.8924592520017463]\n",
            "WARNING:tensorflow:Entity <bound method GraphConv.call of <deepchem.models.layers.GraphConv object at 0x7fdde19e1c18>> could not be transformed and will be executed as-is. Please report this to the AutoGraph team. When filing the bug, set the verbosity to 10 (on Linux, `export AUTOGRAPH_VERBOSITY=10`) and attach the full output. Cause: module 'gast' has no attribute 'Num'\n",
            "WARNING: Entity <bound method GraphConv.call of <deepchem.models.layers.GraphConv object at 0x7fdde19e1c18>> could not be transformed and will be executed as-is. Please report this to the AutoGraph team. When filing the bug, set the verbosity to 10 (on Linux, `export AUTOGRAPH_VERBOSITY=10`) and attach the full output. Cause: module 'gast' has no attribute 'Num'\n",
            "WARNING:tensorflow:Entity <bound method GraphPool.call of <deepchem.models.layers.GraphPool object at 0x7fdde39f04e0>> could not be transformed and will be executed as-is. Please report this to the AutoGraph team. When filing the bug, set the verbosity to 10 (on Linux, `export AUTOGRAPH_VERBOSITY=10`) and attach the full output. Cause: module 'gast' has no attribute 'Num'\n",
            "WARNING: Entity <bound method GraphPool.call of <deepchem.models.layers.GraphPool object at 0x7fdde39f04e0>> could not be transformed and will be executed as-is. Please report this to the AutoGraph team. When filing the bug, set the verbosity to 10 (on Linux, `export AUTOGRAPH_VERBOSITY=10`) and attach the full output. Cause: module 'gast' has no attribute 'Num'\n",
            "WARNING:tensorflow:Entity <bound method GraphConv.call of <deepchem.models.layers.GraphConv object at 0x7fdde4728048>> could not be transformed and will be executed as-is. Please report this to the AutoGraph team. When filing the bug, set the verbosity to 10 (on Linux, `export AUTOGRAPH_VERBOSITY=10`) and attach the full output. Cause: module 'gast' has no attribute 'Num'\n",
            "WARNING: Entity <bound method GraphConv.call of <deepchem.models.layers.GraphConv object at 0x7fdde4728048>> could not be transformed and will be executed as-is. Please report this to the AutoGraph team. When filing the bug, set the verbosity to 10 (on Linux, `export AUTOGRAPH_VERBOSITY=10`) and attach the full output. Cause: module 'gast' has no attribute 'Num'\n",
            "WARNING:tensorflow:Entity <bound method GraphPool.call of <deepchem.models.layers.GraphPool object at 0x7fdde3cb9080>> could not be transformed and will be executed as-is. Please report this to the AutoGraph team. When filing the bug, set the verbosity to 10 (on Linux, `export AUTOGRAPH_VERBOSITY=10`) and attach the full output. Cause: module 'gast' has no attribute 'Num'\n",
            "WARNING: Entity <bound method GraphPool.call of <deepchem.models.layers.GraphPool object at 0x7fdde3cb9080>> could not be transformed and will be executed as-is. Please report this to the AutoGraph team. When filing the bug, set the verbosity to 10 (on Linux, `export AUTOGRAPH_VERBOSITY=10`) and attach the full output. Cause: module 'gast' has no attribute 'Num'\n",
            "WARNING:tensorflow:Entity <bound method GraphGather.call of <deepchem.models.layers.GraphGather object at 0x7fdde0bee3c8>> could not be transformed and will be executed as-is. Please report this to the AutoGraph team. When filing the bug, set the verbosity to 10 (on Linux, `export AUTOGRAPH_VERBOSITY=10`) and attach the full output. Cause: module 'gast' has no attribute 'Num'\n",
            "WARNING: Entity <bound method GraphGather.call of <deepchem.models.layers.GraphGather object at 0x7fdde0bee3c8>> could not be transformed and will be executed as-is. Please report this to the AutoGraph team. When filing the bug, set the verbosity to 10 (on Linux, `export AUTOGRAPH_VERBOSITY=10`) and attach the full output. Cause: module 'gast' has no attribute 'Num'\n",
            "WARNING:tensorflow:Entity <bound method TrimGraphOutput.call of <deepchem.models.graph_models.TrimGraphOutput object at 0x7fdde6b2ef60>> could not be transformed and will be executed as-is. Please report this to the AutoGraph team. When filing the bug, set the verbosity to 10 (on Linux, `export AUTOGRAPH_VERBOSITY=10`) and attach the full output. Cause: module 'gast' has no attribute 'Num'\n",
            "WARNING: Entity <bound method TrimGraphOutput.call of <deepchem.models.graph_models.TrimGraphOutput object at 0x7fdde6b2ef60>> could not be transformed and will be executed as-is. Please report this to the AutoGraph team. When filing the bug, set the verbosity to 10 (on Linux, `export AUTOGRAPH_VERBOSITY=10`) and attach the full output. Cause: module 'gast' has no attribute 'Num'\n",
            "TIMING: dataset construction took 2.216 s\n",
            "Loading dataset from disk.\n",
            "TIMING: dataset construction took 1.048 s\n",
            "Loading dataset from disk.\n",
            "TIMING: dataset construction took 1.044 s\n",
            "Loading dataset from disk.\n",
            "WARNING:tensorflow:Entity <bound method GraphConv.call of <deepchem.models.layers.GraphConv object at 0x7fdde19e1c18>> could not be transformed and will be executed as-is. Please report this to the AutoGraph team. When filing the bug, set the verbosity to 10 (on Linux, `export AUTOGRAPH_VERBOSITY=10`) and attach the full output. Cause: module 'gast' has no attribute 'Num'\n",
            "WARNING: Entity <bound method GraphConv.call of <deepchem.models.layers.GraphConv object at 0x7fdde19e1c18>> could not be transformed and will be executed as-is. Please report this to the AutoGraph team. When filing the bug, set the verbosity to 10 (on Linux, `export AUTOGRAPH_VERBOSITY=10`) and attach the full output. Cause: module 'gast' has no attribute 'Num'\n",
            "WARNING:tensorflow:Entity <bound method GraphPool.call of <deepchem.models.layers.GraphPool object at 0x7fdde39f04e0>> could not be transformed and will be executed as-is. Please report this to the AutoGraph team. When filing the bug, set the verbosity to 10 (on Linux, `export AUTOGRAPH_VERBOSITY=10`) and attach the full output. Cause: module 'gast' has no attribute 'Num'\n",
            "WARNING: Entity <bound method GraphPool.call of <deepchem.models.layers.GraphPool object at 0x7fdde39f04e0>> could not be transformed and will be executed as-is. Please report this to the AutoGraph team. When filing the bug, set the verbosity to 10 (on Linux, `export AUTOGRAPH_VERBOSITY=10`) and attach the full output. Cause: module 'gast' has no attribute 'Num'\n",
            "WARNING:tensorflow:Entity <bound method GraphConv.call of <deepchem.models.layers.GraphConv object at 0x7fdde4728048>> could not be transformed and will be executed as-is. Please report this to the AutoGraph team. When filing the bug, set the verbosity to 10 (on Linux, `export AUTOGRAPH_VERBOSITY=10`) and attach the full output. Cause: module 'gast' has no attribute 'Num'\n",
            "WARNING: Entity <bound method GraphConv.call of <deepchem.models.layers.GraphConv object at 0x7fdde4728048>> could not be transformed and will be executed as-is. Please report this to the AutoGraph team. When filing the bug, set the verbosity to 10 (on Linux, `export AUTOGRAPH_VERBOSITY=10`) and attach the full output. Cause: module 'gast' has no attribute 'Num'\n",
            "WARNING:tensorflow:Entity <bound method GraphPool.call of <deepchem.models.layers.GraphPool object at 0x7fdde3cb9080>> could not be transformed and will be executed as-is. Please report this to the AutoGraph team. When filing the bug, set the verbosity to 10 (on Linux, `export AUTOGRAPH_VERBOSITY=10`) and attach the full output. Cause: module 'gast' has no attribute 'Num'\n",
            "WARNING: Entity <bound method GraphPool.call of <deepchem.models.layers.GraphPool object at 0x7fdde3cb9080>> could not be transformed and will be executed as-is. Please report this to the AutoGraph team. When filing the bug, set the verbosity to 10 (on Linux, `export AUTOGRAPH_VERBOSITY=10`) and attach the full output. Cause: module 'gast' has no attribute 'Num'\n",
            "WARNING:tensorflow:Entity <bound method GraphGather.call of <deepchem.models.layers.GraphGather object at 0x7fdde0bee3c8>> could not be transformed and will be executed as-is. Please report this to the AutoGraph team. When filing the bug, set the verbosity to 10 (on Linux, `export AUTOGRAPH_VERBOSITY=10`) and attach the full output. Cause: module 'gast' has no attribute 'Num'\n",
            "WARNING: Entity <bound method GraphGather.call of <deepchem.models.layers.GraphGather object at 0x7fdde0bee3c8>> could not be transformed and will be executed as-is. Please report this to the AutoGraph team. When filing the bug, set the verbosity to 10 (on Linux, `export AUTOGRAPH_VERBOSITY=10`) and attach the full output. Cause: module 'gast' has no attribute 'Num'\n",
            "WARNING:tensorflow:Entity <bound method TrimGraphOutput.call of <deepchem.models.graph_models.TrimGraphOutput object at 0x7fdde6b2ef60>> could not be transformed and will be executed as-is. Please report this to the AutoGraph team. When filing the bug, set the verbosity to 10 (on Linux, `export AUTOGRAPH_VERBOSITY=10`) and attach the full output. Cause: module 'gast' has no attribute 'Num'\n",
            "WARNING: Entity <bound method TrimGraphOutput.call of <deepchem.models.graph_models.TrimGraphOutput object at 0x7fdde6b2ef60>> could not be transformed and will be executed as-is. Please report this to the AutoGraph team. When filing the bug, set the verbosity to 10 (on Linux, `export AUTOGRAPH_VERBOSITY=10`) and attach the full output. Cause: module 'gast' has no attribute 'Num'\n"
          ],
          "name": "stdout"
        },
        {
          "output_type": "stream",
          "text": [
            "/tensorflow-1.15.2/python3.6/tensorflow_core/python/framework/indexed_slices.py:424: UserWarning: Converting sparse IndexedSlices to a dense Tensor of unknown shape. This may consume a large amount of memory.\n",
            "  \"Converting sparse IndexedSlices to a dense Tensor of unknown shape. \"\n",
            "/tensorflow-1.15.2/python3.6/tensorflow_core/python/framework/indexed_slices.py:424: UserWarning: Converting sparse IndexedSlices to a dense Tensor of unknown shape. This may consume a large amount of memory.\n",
            "  \"Converting sparse IndexedSlices to a dense Tensor of unknown shape. \"\n",
            "/tensorflow-1.15.2/python3.6/tensorflow_core/python/framework/indexed_slices.py:424: UserWarning: Converting sparse IndexedSlices to a dense Tensor of unknown shape. This may consume a large amount of memory.\n",
            "  \"Converting sparse IndexedSlices to a dense Tensor of unknown shape. \"\n"
          ],
          "name": "stderr"
        },
        {
          "output_type": "stream",
          "text": [
            "computed_metrics: [0.7676840845478065]\n",
            "computed_metrics: [0.8924592520017463]\n",
            "WARNING:tensorflow:Entity <bound method GraphConv.call of <deepchem.models.layers.GraphConv object at 0x7fdd712d7da0>> could not be transformed and will be executed as-is. Please report this to the AutoGraph team. When filing the bug, set the verbosity to 10 (on Linux, `export AUTOGRAPH_VERBOSITY=10`) and attach the full output. Cause: module 'gast' has no attribute 'Num'\n",
            "WARNING: Entity <bound method GraphConv.call of <deepchem.models.layers.GraphConv object at 0x7fdd712d7da0>> could not be transformed and will be executed as-is. Please report this to the AutoGraph team. When filing the bug, set the verbosity to 10 (on Linux, `export AUTOGRAPH_VERBOSITY=10`) and attach the full output. Cause: module 'gast' has no attribute 'Num'\n",
            "WARNING:tensorflow:Entity <bound method GraphPool.call of <deepchem.models.layers.GraphPool object at 0x7fdd8403a320>> could not be transformed and will be executed as-is. Please report this to the AutoGraph team. When filing the bug, set the verbosity to 10 (on Linux, `export AUTOGRAPH_VERBOSITY=10`) and attach the full output. Cause: module 'gast' has no attribute 'Num'\n",
            "WARNING: Entity <bound method GraphPool.call of <deepchem.models.layers.GraphPool object at 0x7fdd8403a320>> could not be transformed and will be executed as-is. Please report this to the AutoGraph team. When filing the bug, set the verbosity to 10 (on Linux, `export AUTOGRAPH_VERBOSITY=10`) and attach the full output. Cause: module 'gast' has no attribute 'Num'\n",
            "WARNING:tensorflow:Entity <bound method GraphConv.call of <deepchem.models.layers.GraphConv object at 0x7fdd712d7cf8>> could not be transformed and will be executed as-is. Please report this to the AutoGraph team. When filing the bug, set the verbosity to 10 (on Linux, `export AUTOGRAPH_VERBOSITY=10`) and attach the full output. Cause: module 'gast' has no attribute 'Num'\n",
            "WARNING: Entity <bound method GraphConv.call of <deepchem.models.layers.GraphConv object at 0x7fdd712d7cf8>> could not be transformed and will be executed as-is. Please report this to the AutoGraph team. When filing the bug, set the verbosity to 10 (on Linux, `export AUTOGRAPH_VERBOSITY=10`) and attach the full output. Cause: module 'gast' has no attribute 'Num'\n",
            "WARNING:tensorflow:Entity <bound method GraphPool.call of <deepchem.models.layers.GraphPool object at 0x7fdde2730390>> could not be transformed and will be executed as-is. Please report this to the AutoGraph team. When filing the bug, set the verbosity to 10 (on Linux, `export AUTOGRAPH_VERBOSITY=10`) and attach the full output. Cause: module 'gast' has no attribute 'Num'\n",
            "WARNING: Entity <bound method GraphPool.call of <deepchem.models.layers.GraphPool object at 0x7fdde2730390>> could not be transformed and will be executed as-is. Please report this to the AutoGraph team. When filing the bug, set the verbosity to 10 (on Linux, `export AUTOGRAPH_VERBOSITY=10`) and attach the full output. Cause: module 'gast' has no attribute 'Num'\n",
            "WARNING:tensorflow:Entity <bound method GraphGather.call of <deepchem.models.layers.GraphGather object at 0x7fdd71f7b160>> could not be transformed and will be executed as-is. Please report this to the AutoGraph team. When filing the bug, set the verbosity to 10 (on Linux, `export AUTOGRAPH_VERBOSITY=10`) and attach the full output. Cause: module 'gast' has no attribute 'Num'\n",
            "WARNING: Entity <bound method GraphGather.call of <deepchem.models.layers.GraphGather object at 0x7fdd71f7b160>> could not be transformed and will be executed as-is. Please report this to the AutoGraph team. When filing the bug, set the verbosity to 10 (on Linux, `export AUTOGRAPH_VERBOSITY=10`) and attach the full output. Cause: module 'gast' has no attribute 'Num'\n",
            "WARNING:tensorflow:Entity <bound method TrimGraphOutput.call of <deepchem.models.graph_models.TrimGraphOutput object at 0x7fdde7726e80>> could not be transformed and will be executed as-is. Please report this to the AutoGraph team. When filing the bug, set the verbosity to 10 (on Linux, `export AUTOGRAPH_VERBOSITY=10`) and attach the full output. Cause: module 'gast' has no attribute 'Num'\n",
            "WARNING: Entity <bound method TrimGraphOutput.call of <deepchem.models.graph_models.TrimGraphOutput object at 0x7fdde7726e80>> could not be transformed and will be executed as-is. Please report this to the AutoGraph team. When filing the bug, set the verbosity to 10 (on Linux, `export AUTOGRAPH_VERBOSITY=10`) and attach the full output. Cause: module 'gast' has no attribute 'Num'\n",
            "TIMING: dataset construction took 2.283 s\n",
            "Loading dataset from disk.\n",
            "TIMING: dataset construction took 0.827 s\n",
            "Loading dataset from disk.\n",
            "TIMING: dataset construction took 1.061 s\n",
            "Loading dataset from disk.\n",
            "WARNING:tensorflow:Entity <bound method GraphConv.call of <deepchem.models.layers.GraphConv object at 0x7fdd712d7da0>> could not be transformed and will be executed as-is. Please report this to the AutoGraph team. When filing the bug, set the verbosity to 10 (on Linux, `export AUTOGRAPH_VERBOSITY=10`) and attach the full output. Cause: module 'gast' has no attribute 'Num'\n",
            "WARNING: Entity <bound method GraphConv.call of <deepchem.models.layers.GraphConv object at 0x7fdd712d7da0>> could not be transformed and will be executed as-is. Please report this to the AutoGraph team. When filing the bug, set the verbosity to 10 (on Linux, `export AUTOGRAPH_VERBOSITY=10`) and attach the full output. Cause: module 'gast' has no attribute 'Num'\n",
            "WARNING:tensorflow:Entity <bound method GraphPool.call of <deepchem.models.layers.GraphPool object at 0x7fdd8403a320>> could not be transformed and will be executed as-is. Please report this to the AutoGraph team. When filing the bug, set the verbosity to 10 (on Linux, `export AUTOGRAPH_VERBOSITY=10`) and attach the full output. Cause: module 'gast' has no attribute 'Num'\n",
            "WARNING: Entity <bound method GraphPool.call of <deepchem.models.layers.GraphPool object at 0x7fdd8403a320>> could not be transformed and will be executed as-is. Please report this to the AutoGraph team. When filing the bug, set the verbosity to 10 (on Linux, `export AUTOGRAPH_VERBOSITY=10`) and attach the full output. Cause: module 'gast' has no attribute 'Num'\n",
            "WARNING:tensorflow:Entity <bound method GraphConv.call of <deepchem.models.layers.GraphConv object at 0x7fdd712d7cf8>> could not be transformed and will be executed as-is. Please report this to the AutoGraph team. When filing the bug, set the verbosity to 10 (on Linux, `export AUTOGRAPH_VERBOSITY=10`) and attach the full output. Cause: module 'gast' has no attribute 'Num'\n",
            "WARNING: Entity <bound method GraphConv.call of <deepchem.models.layers.GraphConv object at 0x7fdd712d7cf8>> could not be transformed and will be executed as-is. Please report this to the AutoGraph team. When filing the bug, set the verbosity to 10 (on Linux, `export AUTOGRAPH_VERBOSITY=10`) and attach the full output. Cause: module 'gast' has no attribute 'Num'\n",
            "WARNING:tensorflow:Entity <bound method GraphPool.call of <deepchem.models.layers.GraphPool object at 0x7fdde2730390>> could not be transformed and will be executed as-is. Please report this to the AutoGraph team. When filing the bug, set the verbosity to 10 (on Linux, `export AUTOGRAPH_VERBOSITY=10`) and attach the full output. Cause: module 'gast' has no attribute 'Num'\n",
            "WARNING: Entity <bound method GraphPool.call of <deepchem.models.layers.GraphPool object at 0x7fdde2730390>> could not be transformed and will be executed as-is. Please report this to the AutoGraph team. When filing the bug, set the verbosity to 10 (on Linux, `export AUTOGRAPH_VERBOSITY=10`) and attach the full output. Cause: module 'gast' has no attribute 'Num'\n",
            "WARNING:tensorflow:Entity <bound method GraphGather.call of <deepchem.models.layers.GraphGather object at 0x7fdd71f7b160>> could not be transformed and will be executed as-is. Please report this to the AutoGraph team. When filing the bug, set the verbosity to 10 (on Linux, `export AUTOGRAPH_VERBOSITY=10`) and attach the full output. Cause: module 'gast' has no attribute 'Num'\n",
            "WARNING: Entity <bound method GraphGather.call of <deepchem.models.layers.GraphGather object at 0x7fdd71f7b160>> could not be transformed and will be executed as-is. Please report this to the AutoGraph team. When filing the bug, set the verbosity to 10 (on Linux, `export AUTOGRAPH_VERBOSITY=10`) and attach the full output. Cause: module 'gast' has no attribute 'Num'\n",
            "WARNING:tensorflow:Entity <bound method TrimGraphOutput.call of <deepchem.models.graph_models.TrimGraphOutput object at 0x7fdde7726e80>> could not be transformed and will be executed as-is. Please report this to the AutoGraph team. When filing the bug, set the verbosity to 10 (on Linux, `export AUTOGRAPH_VERBOSITY=10`) and attach the full output. Cause: module 'gast' has no attribute 'Num'\n",
            "WARNING: Entity <bound method TrimGraphOutput.call of <deepchem.models.graph_models.TrimGraphOutput object at 0x7fdde7726e80>> could not be transformed and will be executed as-is. Please report this to the AutoGraph team. When filing the bug, set the verbosity to 10 (on Linux, `export AUTOGRAPH_VERBOSITY=10`) and attach the full output. Cause: module 'gast' has no attribute 'Num'\n"
          ],
          "name": "stdout"
        },
        {
          "output_type": "stream",
          "text": [
            "/tensorflow-1.15.2/python3.6/tensorflow_core/python/framework/indexed_slices.py:424: UserWarning: Converting sparse IndexedSlices to a dense Tensor of unknown shape. This may consume a large amount of memory.\n",
            "  \"Converting sparse IndexedSlices to a dense Tensor of unknown shape. \"\n",
            "/tensorflow-1.15.2/python3.6/tensorflow_core/python/framework/indexed_slices.py:424: UserWarning: Converting sparse IndexedSlices to a dense Tensor of unknown shape. This may consume a large amount of memory.\n",
            "  \"Converting sparse IndexedSlices to a dense Tensor of unknown shape. \"\n",
            "/tensorflow-1.15.2/python3.6/tensorflow_core/python/framework/indexed_slices.py:424: UserWarning: Converting sparse IndexedSlices to a dense Tensor of unknown shape. This may consume a large amount of memory.\n",
            "  \"Converting sparse IndexedSlices to a dense Tensor of unknown shape. \"\n"
          ],
          "name": "stderr"
        },
        {
          "output_type": "stream",
          "text": [
            "computed_metrics: [0.7757311284053034]\n",
            "computed_metrics: [0.9118738006098865]\n",
            "WARNING:tensorflow:Entity <bound method GraphConv.call of <deepchem.models.layers.GraphConv object at 0x7fdde6f6b278>> could not be transformed and will be executed as-is. Please report this to the AutoGraph team. When filing the bug, set the verbosity to 10 (on Linux, `export AUTOGRAPH_VERBOSITY=10`) and attach the full output. Cause: module 'gast' has no attribute 'Num'\n",
            "WARNING: Entity <bound method GraphConv.call of <deepchem.models.layers.GraphConv object at 0x7fdde6f6b278>> could not be transformed and will be executed as-is. Please report this to the AutoGraph team. When filing the bug, set the verbosity to 10 (on Linux, `export AUTOGRAPH_VERBOSITY=10`) and attach the full output. Cause: module 'gast' has no attribute 'Num'\n",
            "WARNING:tensorflow:Entity <bound method GraphPool.call of <deepchem.models.layers.GraphPool object at 0x7fdde4003c50>> could not be transformed and will be executed as-is. Please report this to the AutoGraph team. When filing the bug, set the verbosity to 10 (on Linux, `export AUTOGRAPH_VERBOSITY=10`) and attach the full output. Cause: module 'gast' has no attribute 'Num'\n",
            "WARNING: Entity <bound method GraphPool.call of <deepchem.models.layers.GraphPool object at 0x7fdde4003c50>> could not be transformed and will be executed as-is. Please report this to the AutoGraph team. When filing the bug, set the verbosity to 10 (on Linux, `export AUTOGRAPH_VERBOSITY=10`) and attach the full output. Cause: module 'gast' has no attribute 'Num'\n",
            "WARNING:tensorflow:Entity <bound method GraphConv.call of <deepchem.models.layers.GraphConv object at 0x7fdde4d27198>> could not be transformed and will be executed as-is. Please report this to the AutoGraph team. When filing the bug, set the verbosity to 10 (on Linux, `export AUTOGRAPH_VERBOSITY=10`) and attach the full output. Cause: module 'gast' has no attribute 'Num'\n",
            "WARNING: Entity <bound method GraphConv.call of <deepchem.models.layers.GraphConv object at 0x7fdde4d27198>> could not be transformed and will be executed as-is. Please report this to the AutoGraph team. When filing the bug, set the verbosity to 10 (on Linux, `export AUTOGRAPH_VERBOSITY=10`) and attach the full output. Cause: module 'gast' has no attribute 'Num'\n",
            "WARNING:tensorflow:Entity <bound method GraphPool.call of <deepchem.models.layers.GraphPool object at 0x7fdde5f11f60>> could not be transformed and will be executed as-is. Please report this to the AutoGraph team. When filing the bug, set the verbosity to 10 (on Linux, `export AUTOGRAPH_VERBOSITY=10`) and attach the full output. Cause: module 'gast' has no attribute 'Num'\n",
            "WARNING: Entity <bound method GraphPool.call of <deepchem.models.layers.GraphPool object at 0x7fdde5f11f60>> could not be transformed and will be executed as-is. Please report this to the AutoGraph team. When filing the bug, set the verbosity to 10 (on Linux, `export AUTOGRAPH_VERBOSITY=10`) and attach the full output. Cause: module 'gast' has no attribute 'Num'\n",
            "WARNING:tensorflow:Entity <bound method GraphGather.call of <deepchem.models.layers.GraphGather object at 0x7fdde5f5ec50>> could not be transformed and will be executed as-is. Please report this to the AutoGraph team. When filing the bug, set the verbosity to 10 (on Linux, `export AUTOGRAPH_VERBOSITY=10`) and attach the full output. Cause: module 'gast' has no attribute 'Num'\n",
            "WARNING: Entity <bound method GraphGather.call of <deepchem.models.layers.GraphGather object at 0x7fdde5f5ec50>> could not be transformed and will be executed as-is. Please report this to the AutoGraph team. When filing the bug, set the verbosity to 10 (on Linux, `export AUTOGRAPH_VERBOSITY=10`) and attach the full output. Cause: module 'gast' has no attribute 'Num'\n",
            "WARNING:tensorflow:Entity <bound method TrimGraphOutput.call of <deepchem.models.graph_models.TrimGraphOutput object at 0x7fdd6e3d54a8>> could not be transformed and will be executed as-is. Please report this to the AutoGraph team. When filing the bug, set the verbosity to 10 (on Linux, `export AUTOGRAPH_VERBOSITY=10`) and attach the full output. Cause: module 'gast' has no attribute 'Num'\n",
            "WARNING: Entity <bound method TrimGraphOutput.call of <deepchem.models.graph_models.TrimGraphOutput object at 0x7fdd6e3d54a8>> could not be transformed and will be executed as-is. Please report this to the AutoGraph team. When filing the bug, set the verbosity to 10 (on Linux, `export AUTOGRAPH_VERBOSITY=10`) and attach the full output. Cause: module 'gast' has no attribute 'Num'\n",
            "TIMING: dataset construction took 2.328 s\n",
            "Loading dataset from disk.\n",
            "TIMING: dataset construction took 0.819 s\n",
            "Loading dataset from disk.\n",
            "TIMING: dataset construction took 1.088 s\n",
            "Loading dataset from disk.\n",
            "WARNING:tensorflow:Entity <bound method GraphConv.call of <deepchem.models.layers.GraphConv object at 0x7fdde6f6b278>> could not be transformed and will be executed as-is. Please report this to the AutoGraph team. When filing the bug, set the verbosity to 10 (on Linux, `export AUTOGRAPH_VERBOSITY=10`) and attach the full output. Cause: module 'gast' has no attribute 'Num'\n",
            "WARNING: Entity <bound method GraphConv.call of <deepchem.models.layers.GraphConv object at 0x7fdde6f6b278>> could not be transformed and will be executed as-is. Please report this to the AutoGraph team. When filing the bug, set the verbosity to 10 (on Linux, `export AUTOGRAPH_VERBOSITY=10`) and attach the full output. Cause: module 'gast' has no attribute 'Num'\n",
            "WARNING:tensorflow:Entity <bound method GraphPool.call of <deepchem.models.layers.GraphPool object at 0x7fdde4003c50>> could not be transformed and will be executed as-is. Please report this to the AutoGraph team. When filing the bug, set the verbosity to 10 (on Linux, `export AUTOGRAPH_VERBOSITY=10`) and attach the full output. Cause: module 'gast' has no attribute 'Num'\n",
            "WARNING: Entity <bound method GraphPool.call of <deepchem.models.layers.GraphPool object at 0x7fdde4003c50>> could not be transformed and will be executed as-is. Please report this to the AutoGraph team. When filing the bug, set the verbosity to 10 (on Linux, `export AUTOGRAPH_VERBOSITY=10`) and attach the full output. Cause: module 'gast' has no attribute 'Num'\n",
            "WARNING:tensorflow:Entity <bound method GraphConv.call of <deepchem.models.layers.GraphConv object at 0x7fdde4d27198>> could not be transformed and will be executed as-is. Please report this to the AutoGraph team. When filing the bug, set the verbosity to 10 (on Linux, `export AUTOGRAPH_VERBOSITY=10`) and attach the full output. Cause: module 'gast' has no attribute 'Num'\n",
            "WARNING: Entity <bound method GraphConv.call of <deepchem.models.layers.GraphConv object at 0x7fdde4d27198>> could not be transformed and will be executed as-is. Please report this to the AutoGraph team. When filing the bug, set the verbosity to 10 (on Linux, `export AUTOGRAPH_VERBOSITY=10`) and attach the full output. Cause: module 'gast' has no attribute 'Num'\n",
            "WARNING:tensorflow:Entity <bound method GraphPool.call of <deepchem.models.layers.GraphPool object at 0x7fdde5f11f60>> could not be transformed and will be executed as-is. Please report this to the AutoGraph team. When filing the bug, set the verbosity to 10 (on Linux, `export AUTOGRAPH_VERBOSITY=10`) and attach the full output. Cause: module 'gast' has no attribute 'Num'\n",
            "WARNING: Entity <bound method GraphPool.call of <deepchem.models.layers.GraphPool object at 0x7fdde5f11f60>> could not be transformed and will be executed as-is. Please report this to the AutoGraph team. When filing the bug, set the verbosity to 10 (on Linux, `export AUTOGRAPH_VERBOSITY=10`) and attach the full output. Cause: module 'gast' has no attribute 'Num'\n",
            "WARNING:tensorflow:Entity <bound method GraphGather.call of <deepchem.models.layers.GraphGather object at 0x7fdde5f5ec50>> could not be transformed and will be executed as-is. Please report this to the AutoGraph team. When filing the bug, set the verbosity to 10 (on Linux, `export AUTOGRAPH_VERBOSITY=10`) and attach the full output. Cause: module 'gast' has no attribute 'Num'\n",
            "WARNING: Entity <bound method GraphGather.call of <deepchem.models.layers.GraphGather object at 0x7fdde5f5ec50>> could not be transformed and will be executed as-is. Please report this to the AutoGraph team. When filing the bug, set the verbosity to 10 (on Linux, `export AUTOGRAPH_VERBOSITY=10`) and attach the full output. Cause: module 'gast' has no attribute 'Num'\n",
            "WARNING:tensorflow:Entity <bound method TrimGraphOutput.call of <deepchem.models.graph_models.TrimGraphOutput object at 0x7fdd6e3d54a8>> could not be transformed and will be executed as-is. Please report this to the AutoGraph team. When filing the bug, set the verbosity to 10 (on Linux, `export AUTOGRAPH_VERBOSITY=10`) and attach the full output. Cause: module 'gast' has no attribute 'Num'\n",
            "WARNING: Entity <bound method TrimGraphOutput.call of <deepchem.models.graph_models.TrimGraphOutput object at 0x7fdd6e3d54a8>> could not be transformed and will be executed as-is. Please report this to the AutoGraph team. When filing the bug, set the verbosity to 10 (on Linux, `export AUTOGRAPH_VERBOSITY=10`) and attach the full output. Cause: module 'gast' has no attribute 'Num'\n"
          ],
          "name": "stdout"
        },
        {
          "output_type": "stream",
          "text": [
            "/tensorflow-1.15.2/python3.6/tensorflow_core/python/framework/indexed_slices.py:424: UserWarning: Converting sparse IndexedSlices to a dense Tensor of unknown shape. This may consume a large amount of memory.\n",
            "  \"Converting sparse IndexedSlices to a dense Tensor of unknown shape. \"\n",
            "/tensorflow-1.15.2/python3.6/tensorflow_core/python/framework/indexed_slices.py:424: UserWarning: Converting sparse IndexedSlices to a dense Tensor of unknown shape. This may consume a large amount of memory.\n",
            "  \"Converting sparse IndexedSlices to a dense Tensor of unknown shape. \"\n",
            "/tensorflow-1.15.2/python3.6/tensorflow_core/python/framework/indexed_slices.py:424: UserWarning: Converting sparse IndexedSlices to a dense Tensor of unknown shape. This may consume a large amount of memory.\n",
            "  \"Converting sparse IndexedSlices to a dense Tensor of unknown shape. \"\n"
          ],
          "name": "stderr"
        },
        {
          "output_type": "stream",
          "text": [
            "computed_metrics: [0.876094368390309]\n",
            "computed_metrics: [0.7032364358565029]\n",
            "WARNING:tensorflow:Entity <bound method GraphConv.call of <deepchem.models.layers.GraphConv object at 0x7fdde5194f98>> could not be transformed and will be executed as-is. Please report this to the AutoGraph team. When filing the bug, set the verbosity to 10 (on Linux, `export AUTOGRAPH_VERBOSITY=10`) and attach the full output. Cause: module 'gast' has no attribute 'Num'\n",
            "WARNING: Entity <bound method GraphConv.call of <deepchem.models.layers.GraphConv object at 0x7fdde5194f98>> could not be transformed and will be executed as-is. Please report this to the AutoGraph team. When filing the bug, set the verbosity to 10 (on Linux, `export AUTOGRAPH_VERBOSITY=10`) and attach the full output. Cause: module 'gast' has no attribute 'Num'\n",
            "WARNING:tensorflow:Entity <bound method GraphPool.call of <deepchem.models.layers.GraphPool object at 0x7fdd65ca14e0>> could not be transformed and will be executed as-is. Please report this to the AutoGraph team. When filing the bug, set the verbosity to 10 (on Linux, `export AUTOGRAPH_VERBOSITY=10`) and attach the full output. Cause: module 'gast' has no attribute 'Num'\n",
            "WARNING: Entity <bound method GraphPool.call of <deepchem.models.layers.GraphPool object at 0x7fdd65ca14e0>> could not be transformed and will be executed as-is. Please report this to the AutoGraph team. When filing the bug, set the verbosity to 10 (on Linux, `export AUTOGRAPH_VERBOSITY=10`) and attach the full output. Cause: module 'gast' has no attribute 'Num'\n",
            "WARNING:tensorflow:Entity <bound method GraphConv.call of <deepchem.models.layers.GraphConv object at 0x7fdde223dcf8>> could not be transformed and will be executed as-is. Please report this to the AutoGraph team. When filing the bug, set the verbosity to 10 (on Linux, `export AUTOGRAPH_VERBOSITY=10`) and attach the full output. Cause: module 'gast' has no attribute 'Num'\n",
            "WARNING: Entity <bound method GraphConv.call of <deepchem.models.layers.GraphConv object at 0x7fdde223dcf8>> could not be transformed and will be executed as-is. Please report this to the AutoGraph team. When filing the bug, set the verbosity to 10 (on Linux, `export AUTOGRAPH_VERBOSITY=10`) and attach the full output. Cause: module 'gast' has no attribute 'Num'\n",
            "WARNING:tensorflow:Entity <bound method GraphPool.call of <deepchem.models.layers.GraphPool object at 0x7fdde21e2208>> could not be transformed and will be executed as-is. Please report this to the AutoGraph team. When filing the bug, set the verbosity to 10 (on Linux, `export AUTOGRAPH_VERBOSITY=10`) and attach the full output. Cause: module 'gast' has no attribute 'Num'\n",
            "WARNING: Entity <bound method GraphPool.call of <deepchem.models.layers.GraphPool object at 0x7fdde21e2208>> could not be transformed and will be executed as-is. Please report this to the AutoGraph team. When filing the bug, set the verbosity to 10 (on Linux, `export AUTOGRAPH_VERBOSITY=10`) and attach the full output. Cause: module 'gast' has no attribute 'Num'\n",
            "WARNING:tensorflow:Entity <bound method GraphGather.call of <deepchem.models.layers.GraphGather object at 0x7fdd70c7dc88>> could not be transformed and will be executed as-is. Please report this to the AutoGraph team. When filing the bug, set the verbosity to 10 (on Linux, `export AUTOGRAPH_VERBOSITY=10`) and attach the full output. Cause: module 'gast' has no attribute 'Num'\n",
            "WARNING: Entity <bound method GraphGather.call of <deepchem.models.layers.GraphGather object at 0x7fdd70c7dc88>> could not be transformed and will be executed as-is. Please report this to the AutoGraph team. When filing the bug, set the verbosity to 10 (on Linux, `export AUTOGRAPH_VERBOSITY=10`) and attach the full output. Cause: module 'gast' has no attribute 'Num'\n",
            "WARNING:tensorflow:Entity <bound method TrimGraphOutput.call of <deepchem.models.graph_models.TrimGraphOutput object at 0x7fdde0cc4e80>> could not be transformed and will be executed as-is. Please report this to the AutoGraph team. When filing the bug, set the verbosity to 10 (on Linux, `export AUTOGRAPH_VERBOSITY=10`) and attach the full output. Cause: module 'gast' has no attribute 'Num'\n",
            "WARNING: Entity <bound method TrimGraphOutput.call of <deepchem.models.graph_models.TrimGraphOutput object at 0x7fdde0cc4e80>> could not be transformed and will be executed as-is. Please report this to the AutoGraph team. When filing the bug, set the verbosity to 10 (on Linux, `export AUTOGRAPH_VERBOSITY=10`) and attach the full output. Cause: module 'gast' has no attribute 'Num'\n",
            "TIMING: dataset construction took 2.034 s\n",
            "Loading dataset from disk.\n",
            "TIMING: dataset construction took 1.105 s\n",
            "Loading dataset from disk.\n",
            "TIMING: dataset construction took 1.126 s\n",
            "Loading dataset from disk.\n",
            "WARNING:tensorflow:Entity <bound method GraphConv.call of <deepchem.models.layers.GraphConv object at 0x7fdde5194f98>> could not be transformed and will be executed as-is. Please report this to the AutoGraph team. When filing the bug, set the verbosity to 10 (on Linux, `export AUTOGRAPH_VERBOSITY=10`) and attach the full output. Cause: module 'gast' has no attribute 'Num'\n",
            "WARNING: Entity <bound method GraphConv.call of <deepchem.models.layers.GraphConv object at 0x7fdde5194f98>> could not be transformed and will be executed as-is. Please report this to the AutoGraph team. When filing the bug, set the verbosity to 10 (on Linux, `export AUTOGRAPH_VERBOSITY=10`) and attach the full output. Cause: module 'gast' has no attribute 'Num'\n",
            "WARNING:tensorflow:Entity <bound method GraphPool.call of <deepchem.models.layers.GraphPool object at 0x7fdd65ca14e0>> could not be transformed and will be executed as-is. Please report this to the AutoGraph team. When filing the bug, set the verbosity to 10 (on Linux, `export AUTOGRAPH_VERBOSITY=10`) and attach the full output. Cause: module 'gast' has no attribute 'Num'\n",
            "WARNING: Entity <bound method GraphPool.call of <deepchem.models.layers.GraphPool object at 0x7fdd65ca14e0>> could not be transformed and will be executed as-is. Please report this to the AutoGraph team. When filing the bug, set the verbosity to 10 (on Linux, `export AUTOGRAPH_VERBOSITY=10`) and attach the full output. Cause: module 'gast' has no attribute 'Num'\n",
            "WARNING:tensorflow:Entity <bound method GraphConv.call of <deepchem.models.layers.GraphConv object at 0x7fdde223dcf8>> could not be transformed and will be executed as-is. Please report this to the AutoGraph team. When filing the bug, set the verbosity to 10 (on Linux, `export AUTOGRAPH_VERBOSITY=10`) and attach the full output. Cause: module 'gast' has no attribute 'Num'\n",
            "WARNING: Entity <bound method GraphConv.call of <deepchem.models.layers.GraphConv object at 0x7fdde223dcf8>> could not be transformed and will be executed as-is. Please report this to the AutoGraph team. When filing the bug, set the verbosity to 10 (on Linux, `export AUTOGRAPH_VERBOSITY=10`) and attach the full output. Cause: module 'gast' has no attribute 'Num'\n",
            "WARNING:tensorflow:Entity <bound method GraphPool.call of <deepchem.models.layers.GraphPool object at 0x7fdde21e2208>> could not be transformed and will be executed as-is. Please report this to the AutoGraph team. When filing the bug, set the verbosity to 10 (on Linux, `export AUTOGRAPH_VERBOSITY=10`) and attach the full output. Cause: module 'gast' has no attribute 'Num'\n",
            "WARNING: Entity <bound method GraphPool.call of <deepchem.models.layers.GraphPool object at 0x7fdde21e2208>> could not be transformed and will be executed as-is. Please report this to the AutoGraph team. When filing the bug, set the verbosity to 10 (on Linux, `export AUTOGRAPH_VERBOSITY=10`) and attach the full output. Cause: module 'gast' has no attribute 'Num'\n",
            "WARNING:tensorflow:Entity <bound method GraphGather.call of <deepchem.models.layers.GraphGather object at 0x7fdd70c7dc88>> could not be transformed and will be executed as-is. Please report this to the AutoGraph team. When filing the bug, set the verbosity to 10 (on Linux, `export AUTOGRAPH_VERBOSITY=10`) and attach the full output. Cause: module 'gast' has no attribute 'Num'\n",
            "WARNING: Entity <bound method GraphGather.call of <deepchem.models.layers.GraphGather object at 0x7fdd70c7dc88>> could not be transformed and will be executed as-is. Please report this to the AutoGraph team. When filing the bug, set the verbosity to 10 (on Linux, `export AUTOGRAPH_VERBOSITY=10`) and attach the full output. Cause: module 'gast' has no attribute 'Num'\n",
            "WARNING:tensorflow:Entity <bound method TrimGraphOutput.call of <deepchem.models.graph_models.TrimGraphOutput object at 0x7fdde0cc4e80>> could not be transformed and will be executed as-is. Please report this to the AutoGraph team. When filing the bug, set the verbosity to 10 (on Linux, `export AUTOGRAPH_VERBOSITY=10`) and attach the full output. Cause: module 'gast' has no attribute 'Num'\n",
            "WARNING: Entity <bound method TrimGraphOutput.call of <deepchem.models.graph_models.TrimGraphOutput object at 0x7fdde0cc4e80>> could not be transformed and will be executed as-is. Please report this to the AutoGraph team. When filing the bug, set the verbosity to 10 (on Linux, `export AUTOGRAPH_VERBOSITY=10`) and attach the full output. Cause: module 'gast' has no attribute 'Num'\n"
          ],
          "name": "stdout"
        },
        {
          "output_type": "stream",
          "text": [
            "/tensorflow-1.15.2/python3.6/tensorflow_core/python/framework/indexed_slices.py:424: UserWarning: Converting sparse IndexedSlices to a dense Tensor of unknown shape. This may consume a large amount of memory.\n",
            "  \"Converting sparse IndexedSlices to a dense Tensor of unknown shape. \"\n",
            "/tensorflow-1.15.2/python3.6/tensorflow_core/python/framework/indexed_slices.py:424: UserWarning: Converting sparse IndexedSlices to a dense Tensor of unknown shape. This may consume a large amount of memory.\n",
            "  \"Converting sparse IndexedSlices to a dense Tensor of unknown shape. \"\n",
            "/tensorflow-1.15.2/python3.6/tensorflow_core/python/framework/indexed_slices.py:424: UserWarning: Converting sparse IndexedSlices to a dense Tensor of unknown shape. This may consume a large amount of memory.\n",
            "  \"Converting sparse IndexedSlices to a dense Tensor of unknown shape. \"\n"
          ],
          "name": "stderr"
        },
        {
          "output_type": "stream",
          "text": [
            "computed_metrics: [0.8551383428557057]\n",
            "computed_metrics: [0.8924592520017463]\n",
            "WARNING:tensorflow:Entity <bound method GraphConv.call of <deepchem.models.layers.GraphConv object at 0x7fdde41ec2e8>> could not be transformed and will be executed as-is. Please report this to the AutoGraph team. When filing the bug, set the verbosity to 10 (on Linux, `export AUTOGRAPH_VERBOSITY=10`) and attach the full output. Cause: module 'gast' has no attribute 'Num'\n",
            "WARNING: Entity <bound method GraphConv.call of <deepchem.models.layers.GraphConv object at 0x7fdde41ec2e8>> could not be transformed and will be executed as-is. Please report this to the AutoGraph team. When filing the bug, set the verbosity to 10 (on Linux, `export AUTOGRAPH_VERBOSITY=10`) and attach the full output. Cause: module 'gast' has no attribute 'Num'\n",
            "WARNING:tensorflow:Entity <bound method GraphPool.call of <deepchem.models.layers.GraphPool object at 0x7fdd6f0e49e8>> could not be transformed and will be executed as-is. Please report this to the AutoGraph team. When filing the bug, set the verbosity to 10 (on Linux, `export AUTOGRAPH_VERBOSITY=10`) and attach the full output. Cause: module 'gast' has no attribute 'Num'\n",
            "WARNING: Entity <bound method GraphPool.call of <deepchem.models.layers.GraphPool object at 0x7fdd6f0e49e8>> could not be transformed and will be executed as-is. Please report this to the AutoGraph team. When filing the bug, set the verbosity to 10 (on Linux, `export AUTOGRAPH_VERBOSITY=10`) and attach the full output. Cause: module 'gast' has no attribute 'Num'\n",
            "WARNING:tensorflow:Entity <bound method GraphConv.call of <deepchem.models.layers.GraphConv object at 0x7fdd718b7dd8>> could not be transformed and will be executed as-is. Please report this to the AutoGraph team. When filing the bug, set the verbosity to 10 (on Linux, `export AUTOGRAPH_VERBOSITY=10`) and attach the full output. Cause: module 'gast' has no attribute 'Num'\n",
            "WARNING: Entity <bound method GraphConv.call of <deepchem.models.layers.GraphConv object at 0x7fdd718b7dd8>> could not be transformed and will be executed as-is. Please report this to the AutoGraph team. When filing the bug, set the verbosity to 10 (on Linux, `export AUTOGRAPH_VERBOSITY=10`) and attach the full output. Cause: module 'gast' has no attribute 'Num'\n",
            "WARNING:tensorflow:Entity <bound method GraphPool.call of <deepchem.models.layers.GraphPool object at 0x7fdde2d43278>> could not be transformed and will be executed as-is. Please report this to the AutoGraph team. When filing the bug, set the verbosity to 10 (on Linux, `export AUTOGRAPH_VERBOSITY=10`) and attach the full output. Cause: module 'gast' has no attribute 'Num'\n",
            "WARNING: Entity <bound method GraphPool.call of <deepchem.models.layers.GraphPool object at 0x7fdde2d43278>> could not be transformed and will be executed as-is. Please report this to the AutoGraph team. When filing the bug, set the verbosity to 10 (on Linux, `export AUTOGRAPH_VERBOSITY=10`) and attach the full output. Cause: module 'gast' has no attribute 'Num'\n",
            "WARNING:tensorflow:Entity <bound method GraphGather.call of <deepchem.models.layers.GraphGather object at 0x7fdde288a4e0>> could not be transformed and will be executed as-is. Please report this to the AutoGraph team. When filing the bug, set the verbosity to 10 (on Linux, `export AUTOGRAPH_VERBOSITY=10`) and attach the full output. Cause: module 'gast' has no attribute 'Num'\n",
            "WARNING: Entity <bound method GraphGather.call of <deepchem.models.layers.GraphGather object at 0x7fdde288a4e0>> could not be transformed and will be executed as-is. Please report this to the AutoGraph team. When filing the bug, set the verbosity to 10 (on Linux, `export AUTOGRAPH_VERBOSITY=10`) and attach the full output. Cause: module 'gast' has no attribute 'Num'\n",
            "WARNING:tensorflow:Entity <bound method TrimGraphOutput.call of <deepchem.models.graph_models.TrimGraphOutput object at 0x7fdde66d7c50>> could not be transformed and will be executed as-is. Please report this to the AutoGraph team. When filing the bug, set the verbosity to 10 (on Linux, `export AUTOGRAPH_VERBOSITY=10`) and attach the full output. Cause: module 'gast' has no attribute 'Num'\n",
            "WARNING: Entity <bound method TrimGraphOutput.call of <deepchem.models.graph_models.TrimGraphOutput object at 0x7fdde66d7c50>> could not be transformed and will be executed as-is. Please report this to the AutoGraph team. When filing the bug, set the verbosity to 10 (on Linux, `export AUTOGRAPH_VERBOSITY=10`) and attach the full output. Cause: module 'gast' has no attribute 'Num'\n",
            "TIMING: dataset construction took 2.031 s\n",
            "Loading dataset from disk.\n",
            "TIMING: dataset construction took 1.156 s\n",
            "Loading dataset from disk.\n",
            "TIMING: dataset construction took 1.162 s\n",
            "Loading dataset from disk.\n",
            "WARNING:tensorflow:Entity <bound method GraphConv.call of <deepchem.models.layers.GraphConv object at 0x7fdde41ec2e8>> could not be transformed and will be executed as-is. Please report this to the AutoGraph team. When filing the bug, set the verbosity to 10 (on Linux, `export AUTOGRAPH_VERBOSITY=10`) and attach the full output. Cause: module 'gast' has no attribute 'Num'\n",
            "WARNING: Entity <bound method GraphConv.call of <deepchem.models.layers.GraphConv object at 0x7fdde41ec2e8>> could not be transformed and will be executed as-is. Please report this to the AutoGraph team. When filing the bug, set the verbosity to 10 (on Linux, `export AUTOGRAPH_VERBOSITY=10`) and attach the full output. Cause: module 'gast' has no attribute 'Num'\n",
            "WARNING:tensorflow:Entity <bound method GraphPool.call of <deepchem.models.layers.GraphPool object at 0x7fdd6f0e49e8>> could not be transformed and will be executed as-is. Please report this to the AutoGraph team. When filing the bug, set the verbosity to 10 (on Linux, `export AUTOGRAPH_VERBOSITY=10`) and attach the full output. Cause: module 'gast' has no attribute 'Num'\n",
            "WARNING: Entity <bound method GraphPool.call of <deepchem.models.layers.GraphPool object at 0x7fdd6f0e49e8>> could not be transformed and will be executed as-is. Please report this to the AutoGraph team. When filing the bug, set the verbosity to 10 (on Linux, `export AUTOGRAPH_VERBOSITY=10`) and attach the full output. Cause: module 'gast' has no attribute 'Num'\n",
            "WARNING:tensorflow:Entity <bound method GraphConv.call of <deepchem.models.layers.GraphConv object at 0x7fdd718b7dd8>> could not be transformed and will be executed as-is. Please report this to the AutoGraph team. When filing the bug, set the verbosity to 10 (on Linux, `export AUTOGRAPH_VERBOSITY=10`) and attach the full output. Cause: module 'gast' has no attribute 'Num'\n",
            "WARNING: Entity <bound method GraphConv.call of <deepchem.models.layers.GraphConv object at 0x7fdd718b7dd8>> could not be transformed and will be executed as-is. Please report this to the AutoGraph team. When filing the bug, set the verbosity to 10 (on Linux, `export AUTOGRAPH_VERBOSITY=10`) and attach the full output. Cause: module 'gast' has no attribute 'Num'\n",
            "WARNING:tensorflow:Entity <bound method GraphPool.call of <deepchem.models.layers.GraphPool object at 0x7fdde2d43278>> could not be transformed and will be executed as-is. Please report this to the AutoGraph team. When filing the bug, set the verbosity to 10 (on Linux, `export AUTOGRAPH_VERBOSITY=10`) and attach the full output. Cause: module 'gast' has no attribute 'Num'\n",
            "WARNING: Entity <bound method GraphPool.call of <deepchem.models.layers.GraphPool object at 0x7fdde2d43278>> could not be transformed and will be executed as-is. Please report this to the AutoGraph team. When filing the bug, set the verbosity to 10 (on Linux, `export AUTOGRAPH_VERBOSITY=10`) and attach the full output. Cause: module 'gast' has no attribute 'Num'\n",
            "WARNING:tensorflow:Entity <bound method GraphGather.call of <deepchem.models.layers.GraphGather object at 0x7fdde288a4e0>> could not be transformed and will be executed as-is. Please report this to the AutoGraph team. When filing the bug, set the verbosity to 10 (on Linux, `export AUTOGRAPH_VERBOSITY=10`) and attach the full output. Cause: module 'gast' has no attribute 'Num'\n",
            "WARNING: Entity <bound method GraphGather.call of <deepchem.models.layers.GraphGather object at 0x7fdde288a4e0>> could not be transformed and will be executed as-is. Please report this to the AutoGraph team. When filing the bug, set the verbosity to 10 (on Linux, `export AUTOGRAPH_VERBOSITY=10`) and attach the full output. Cause: module 'gast' has no attribute 'Num'\n",
            "WARNING:tensorflow:Entity <bound method TrimGraphOutput.call of <deepchem.models.graph_models.TrimGraphOutput object at 0x7fdde66d7c50>> could not be transformed and will be executed as-is. Please report this to the AutoGraph team. When filing the bug, set the verbosity to 10 (on Linux, `export AUTOGRAPH_VERBOSITY=10`) and attach the full output. Cause: module 'gast' has no attribute 'Num'\n",
            "WARNING: Entity <bound method TrimGraphOutput.call of <deepchem.models.graph_models.TrimGraphOutput object at 0x7fdde66d7c50>> could not be transformed and will be executed as-is. Please report this to the AutoGraph team. When filing the bug, set the verbosity to 10 (on Linux, `export AUTOGRAPH_VERBOSITY=10`) and attach the full output. Cause: module 'gast' has no attribute 'Num'\n"
          ],
          "name": "stdout"
        },
        {
          "output_type": "stream",
          "text": [
            "/tensorflow-1.15.2/python3.6/tensorflow_core/python/framework/indexed_slices.py:424: UserWarning: Converting sparse IndexedSlices to a dense Tensor of unknown shape. This may consume a large amount of memory.\n",
            "  \"Converting sparse IndexedSlices to a dense Tensor of unknown shape. \"\n",
            "/tensorflow-1.15.2/python3.6/tensorflow_core/python/framework/indexed_slices.py:424: UserWarning: Converting sparse IndexedSlices to a dense Tensor of unknown shape. This may consume a large amount of memory.\n",
            "  \"Converting sparse IndexedSlices to a dense Tensor of unknown shape. \"\n",
            "/tensorflow-1.15.2/python3.6/tensorflow_core/python/framework/indexed_slices.py:424: UserWarning: Converting sparse IndexedSlices to a dense Tensor of unknown shape. This may consume a large amount of memory.\n",
            "  \"Converting sparse IndexedSlices to a dense Tensor of unknown shape. \"\n"
          ],
          "name": "stderr"
        },
        {
          "output_type": "stream",
          "text": [
            "computed_metrics: [0.9474286308512249]\n",
            "computed_metrics: [0.8311451495258935]\n",
            "WARNING:tensorflow:Entity <bound method GraphConv.call of <deepchem.models.layers.GraphConv object at 0x7fdde0da0c50>> could not be transformed and will be executed as-is. Please report this to the AutoGraph team. When filing the bug, set the verbosity to 10 (on Linux, `export AUTOGRAPH_VERBOSITY=10`) and attach the full output. Cause: module 'gast' has no attribute 'Num'\n",
            "WARNING: Entity <bound method GraphConv.call of <deepchem.models.layers.GraphConv object at 0x7fdde0da0c50>> could not be transformed and will be executed as-is. Please report this to the AutoGraph team. When filing the bug, set the verbosity to 10 (on Linux, `export AUTOGRAPH_VERBOSITY=10`) and attach the full output. Cause: module 'gast' has no attribute 'Num'\n",
            "WARNING:tensorflow:Entity <bound method GraphPool.call of <deepchem.models.layers.GraphPool object at 0x7fdd62df8208>> could not be transformed and will be executed as-is. Please report this to the AutoGraph team. When filing the bug, set the verbosity to 10 (on Linux, `export AUTOGRAPH_VERBOSITY=10`) and attach the full output. Cause: module 'gast' has no attribute 'Num'\n",
            "WARNING: Entity <bound method GraphPool.call of <deepchem.models.layers.GraphPool object at 0x7fdd62df8208>> could not be transformed and will be executed as-is. Please report this to the AutoGraph team. When filing the bug, set the verbosity to 10 (on Linux, `export AUTOGRAPH_VERBOSITY=10`) and attach the full output. Cause: module 'gast' has no attribute 'Num'\n",
            "WARNING:tensorflow:Entity <bound method GraphConv.call of <deepchem.models.layers.GraphConv object at 0x7fdd7059b5c0>> could not be transformed and will be executed as-is. Please report this to the AutoGraph team. When filing the bug, set the verbosity to 10 (on Linux, `export AUTOGRAPH_VERBOSITY=10`) and attach the full output. Cause: module 'gast' has no attribute 'Num'\n",
            "WARNING: Entity <bound method GraphConv.call of <deepchem.models.layers.GraphConv object at 0x7fdd7059b5c0>> could not be transformed and will be executed as-is. Please report this to the AutoGraph team. When filing the bug, set the verbosity to 10 (on Linux, `export AUTOGRAPH_VERBOSITY=10`) and attach the full output. Cause: module 'gast' has no attribute 'Num'\n",
            "WARNING:tensorflow:Entity <bound method GraphPool.call of <deepchem.models.layers.GraphPool object at 0x7fdd710ec1d0>> could not be transformed and will be executed as-is. Please report this to the AutoGraph team. When filing the bug, set the verbosity to 10 (on Linux, `export AUTOGRAPH_VERBOSITY=10`) and attach the full output. Cause: module 'gast' has no attribute 'Num'\n",
            "WARNING: Entity <bound method GraphPool.call of <deepchem.models.layers.GraphPool object at 0x7fdd710ec1d0>> could not be transformed and will be executed as-is. Please report this to the AutoGraph team. When filing the bug, set the verbosity to 10 (on Linux, `export AUTOGRAPH_VERBOSITY=10`) and attach the full output. Cause: module 'gast' has no attribute 'Num'\n",
            "WARNING:tensorflow:Entity <bound method GraphGather.call of <deepchem.models.layers.GraphGather object at 0x7fdd6ed79438>> could not be transformed and will be executed as-is. Please report this to the AutoGraph team. When filing the bug, set the verbosity to 10 (on Linux, `export AUTOGRAPH_VERBOSITY=10`) and attach the full output. Cause: module 'gast' has no attribute 'Num'\n",
            "WARNING: Entity <bound method GraphGather.call of <deepchem.models.layers.GraphGather object at 0x7fdd6ed79438>> could not be transformed and will be executed as-is. Please report this to the AutoGraph team. When filing the bug, set the verbosity to 10 (on Linux, `export AUTOGRAPH_VERBOSITY=10`) and attach the full output. Cause: module 'gast' has no attribute 'Num'\n",
            "WARNING:tensorflow:Entity <bound method TrimGraphOutput.call of <deepchem.models.graph_models.TrimGraphOutput object at 0x7fdd63f0c940>> could not be transformed and will be executed as-is. Please report this to the AutoGraph team. When filing the bug, set the verbosity to 10 (on Linux, `export AUTOGRAPH_VERBOSITY=10`) and attach the full output. Cause: module 'gast' has no attribute 'Num'\n",
            "WARNING: Entity <bound method TrimGraphOutput.call of <deepchem.models.graph_models.TrimGraphOutput object at 0x7fdd63f0c940>> could not be transformed and will be executed as-is. Please report this to the AutoGraph team. When filing the bug, set the verbosity to 10 (on Linux, `export AUTOGRAPH_VERBOSITY=10`) and attach the full output. Cause: module 'gast' has no attribute 'Num'\n",
            "TIMING: dataset construction took 2.371 s\n",
            "Loading dataset from disk.\n",
            "TIMING: dataset construction took 0.827 s\n",
            "Loading dataset from disk.\n",
            "TIMING: dataset construction took 1.178 s\n",
            "Loading dataset from disk.\n",
            "WARNING:tensorflow:Entity <bound method GraphConv.call of <deepchem.models.layers.GraphConv object at 0x7fdde0da0c50>> could not be transformed and will be executed as-is. Please report this to the AutoGraph team. When filing the bug, set the verbosity to 10 (on Linux, `export AUTOGRAPH_VERBOSITY=10`) and attach the full output. Cause: module 'gast' has no attribute 'Num'\n",
            "WARNING: Entity <bound method GraphConv.call of <deepchem.models.layers.GraphConv object at 0x7fdde0da0c50>> could not be transformed and will be executed as-is. Please report this to the AutoGraph team. When filing the bug, set the verbosity to 10 (on Linux, `export AUTOGRAPH_VERBOSITY=10`) and attach the full output. Cause: module 'gast' has no attribute 'Num'\n",
            "WARNING:tensorflow:Entity <bound method GraphPool.call of <deepchem.models.layers.GraphPool object at 0x7fdd62df8208>> could not be transformed and will be executed as-is. Please report this to the AutoGraph team. When filing the bug, set the verbosity to 10 (on Linux, `export AUTOGRAPH_VERBOSITY=10`) and attach the full output. Cause: module 'gast' has no attribute 'Num'\n",
            "WARNING: Entity <bound method GraphPool.call of <deepchem.models.layers.GraphPool object at 0x7fdd62df8208>> could not be transformed and will be executed as-is. Please report this to the AutoGraph team. When filing the bug, set the verbosity to 10 (on Linux, `export AUTOGRAPH_VERBOSITY=10`) and attach the full output. Cause: module 'gast' has no attribute 'Num'\n",
            "WARNING:tensorflow:Entity <bound method GraphConv.call of <deepchem.models.layers.GraphConv object at 0x7fdd7059b5c0>> could not be transformed and will be executed as-is. Please report this to the AutoGraph team. When filing the bug, set the verbosity to 10 (on Linux, `export AUTOGRAPH_VERBOSITY=10`) and attach the full output. Cause: module 'gast' has no attribute 'Num'\n",
            "WARNING: Entity <bound method GraphConv.call of <deepchem.models.layers.GraphConv object at 0x7fdd7059b5c0>> could not be transformed and will be executed as-is. Please report this to the AutoGraph team. When filing the bug, set the verbosity to 10 (on Linux, `export AUTOGRAPH_VERBOSITY=10`) and attach the full output. Cause: module 'gast' has no attribute 'Num'\n",
            "WARNING:tensorflow:Entity <bound method GraphPool.call of <deepchem.models.layers.GraphPool object at 0x7fdd710ec1d0>> could not be transformed and will be executed as-is. Please report this to the AutoGraph team. When filing the bug, set the verbosity to 10 (on Linux, `export AUTOGRAPH_VERBOSITY=10`) and attach the full output. Cause: module 'gast' has no attribute 'Num'\n",
            "WARNING: Entity <bound method GraphPool.call of <deepchem.models.layers.GraphPool object at 0x7fdd710ec1d0>> could not be transformed and will be executed as-is. Please report this to the AutoGraph team. When filing the bug, set the verbosity to 10 (on Linux, `export AUTOGRAPH_VERBOSITY=10`) and attach the full output. Cause: module 'gast' has no attribute 'Num'\n",
            "WARNING:tensorflow:Entity <bound method GraphGather.call of <deepchem.models.layers.GraphGather object at 0x7fdd6ed79438>> could not be transformed and will be executed as-is. Please report this to the AutoGraph team. When filing the bug, set the verbosity to 10 (on Linux, `export AUTOGRAPH_VERBOSITY=10`) and attach the full output. Cause: module 'gast' has no attribute 'Num'\n",
            "WARNING: Entity <bound method GraphGather.call of <deepchem.models.layers.GraphGather object at 0x7fdd6ed79438>> could not be transformed and will be executed as-is. Please report this to the AutoGraph team. When filing the bug, set the verbosity to 10 (on Linux, `export AUTOGRAPH_VERBOSITY=10`) and attach the full output. Cause: module 'gast' has no attribute 'Num'\n",
            "WARNING:tensorflow:Entity <bound method TrimGraphOutput.call of <deepchem.models.graph_models.TrimGraphOutput object at 0x7fdd63f0c940>> could not be transformed and will be executed as-is. Please report this to the AutoGraph team. When filing the bug, set the verbosity to 10 (on Linux, `export AUTOGRAPH_VERBOSITY=10`) and attach the full output. Cause: module 'gast' has no attribute 'Num'\n",
            "WARNING: Entity <bound method TrimGraphOutput.call of <deepchem.models.graph_models.TrimGraphOutput object at 0x7fdd63f0c940>> could not be transformed and will be executed as-is. Please report this to the AutoGraph team. When filing the bug, set the verbosity to 10 (on Linux, `export AUTOGRAPH_VERBOSITY=10`) and attach the full output. Cause: module 'gast' has no attribute 'Num'\n"
          ],
          "name": "stdout"
        },
        {
          "output_type": "stream",
          "text": [
            "/tensorflow-1.15.2/python3.6/tensorflow_core/python/framework/indexed_slices.py:424: UserWarning: Converting sparse IndexedSlices to a dense Tensor of unknown shape. This may consume a large amount of memory.\n",
            "  \"Converting sparse IndexedSlices to a dense Tensor of unknown shape. \"\n",
            "/tensorflow-1.15.2/python3.6/tensorflow_core/python/framework/indexed_slices.py:424: UserWarning: Converting sparse IndexedSlices to a dense Tensor of unknown shape. This may consume a large amount of memory.\n",
            "  \"Converting sparse IndexedSlices to a dense Tensor of unknown shape. \"\n",
            "/tensorflow-1.15.2/python3.6/tensorflow_core/python/framework/indexed_slices.py:424: UserWarning: Converting sparse IndexedSlices to a dense Tensor of unknown shape. This may consume a large amount of memory.\n",
            "  \"Converting sparse IndexedSlices to a dense Tensor of unknown shape. \"\n"
          ],
          "name": "stderr"
        },
        {
          "output_type": "stream",
          "text": [
            "computed_metrics: [0.956770751260633]\n",
            "computed_metrics: [0.8499867778251156]\n",
            "WARNING:tensorflow:Entity <bound method GraphConv.call of <deepchem.models.layers.GraphConv object at 0x7fdd653cd2b0>> could not be transformed and will be executed as-is. Please report this to the AutoGraph team. When filing the bug, set the verbosity to 10 (on Linux, `export AUTOGRAPH_VERBOSITY=10`) and attach the full output. Cause: module 'gast' has no attribute 'Num'\n",
            "WARNING: Entity <bound method GraphConv.call of <deepchem.models.layers.GraphConv object at 0x7fdd653cd2b0>> could not be transformed and will be executed as-is. Please report this to the AutoGraph team. When filing the bug, set the verbosity to 10 (on Linux, `export AUTOGRAPH_VERBOSITY=10`) and attach the full output. Cause: module 'gast' has no attribute 'Num'\n",
            "WARNING:tensorflow:Entity <bound method GraphPool.call of <deepchem.models.layers.GraphPool object at 0x7fdd5eed14a8>> could not be transformed and will be executed as-is. Please report this to the AutoGraph team. When filing the bug, set the verbosity to 10 (on Linux, `export AUTOGRAPH_VERBOSITY=10`) and attach the full output. Cause: module 'gast' has no attribute 'Num'\n",
            "WARNING: Entity <bound method GraphPool.call of <deepchem.models.layers.GraphPool object at 0x7fdd5eed14a8>> could not be transformed and will be executed as-is. Please report this to the AutoGraph team. When filing the bug, set the verbosity to 10 (on Linux, `export AUTOGRAPH_VERBOSITY=10`) and attach the full output. Cause: module 'gast' has no attribute 'Num'\n",
            "WARNING:tensorflow:Entity <bound method GraphConv.call of <deepchem.models.layers.GraphConv object at 0x7fdd6fe3bba8>> could not be transformed and will be executed as-is. Please report this to the AutoGraph team. When filing the bug, set the verbosity to 10 (on Linux, `export AUTOGRAPH_VERBOSITY=10`) and attach the full output. Cause: module 'gast' has no attribute 'Num'\n",
            "WARNING: Entity <bound method GraphConv.call of <deepchem.models.layers.GraphConv object at 0x7fdd6fe3bba8>> could not be transformed and will be executed as-is. Please report this to the AutoGraph team. When filing the bug, set the verbosity to 10 (on Linux, `export AUTOGRAPH_VERBOSITY=10`) and attach the full output. Cause: module 'gast' has no attribute 'Num'\n",
            "WARNING:tensorflow:Entity <bound method GraphPool.call of <deepchem.models.layers.GraphPool object at 0x7fdde51dd1d0>> could not be transformed and will be executed as-is. Please report this to the AutoGraph team. When filing the bug, set the verbosity to 10 (on Linux, `export AUTOGRAPH_VERBOSITY=10`) and attach the full output. Cause: module 'gast' has no attribute 'Num'\n",
            "WARNING: Entity <bound method GraphPool.call of <deepchem.models.layers.GraphPool object at 0x7fdde51dd1d0>> could not be transformed and will be executed as-is. Please report this to the AutoGraph team. When filing the bug, set the verbosity to 10 (on Linux, `export AUTOGRAPH_VERBOSITY=10`) and attach the full output. Cause: module 'gast' has no attribute 'Num'\n",
            "WARNING:tensorflow:Entity <bound method GraphGather.call of <deepchem.models.layers.GraphGather object at 0x7fdd72579048>> could not be transformed and will be executed as-is. Please report this to the AutoGraph team. When filing the bug, set the verbosity to 10 (on Linux, `export AUTOGRAPH_VERBOSITY=10`) and attach the full output. Cause: module 'gast' has no attribute 'Num'\n",
            "WARNING: Entity <bound method GraphGather.call of <deepchem.models.layers.GraphGather object at 0x7fdd72579048>> could not be transformed and will be executed as-is. Please report this to the AutoGraph team. When filing the bug, set the verbosity to 10 (on Linux, `export AUTOGRAPH_VERBOSITY=10`) and attach the full output. Cause: module 'gast' has no attribute 'Num'\n",
            "WARNING:tensorflow:Entity <bound method TrimGraphOutput.call of <deepchem.models.graph_models.TrimGraphOutput object at 0x7fdd72579080>> could not be transformed and will be executed as-is. Please report this to the AutoGraph team. When filing the bug, set the verbosity to 10 (on Linux, `export AUTOGRAPH_VERBOSITY=10`) and attach the full output. Cause: module 'gast' has no attribute 'Num'\n",
            "WARNING: Entity <bound method TrimGraphOutput.call of <deepchem.models.graph_models.TrimGraphOutput object at 0x7fdd72579080>> could not be transformed and will be executed as-is. Please report this to the AutoGraph team. When filing the bug, set the verbosity to 10 (on Linux, `export AUTOGRAPH_VERBOSITY=10`) and attach the full output. Cause: module 'gast' has no attribute 'Num'\n",
            "TIMING: dataset construction took 2.339 s\n",
            "Loading dataset from disk.\n",
            "TIMING: dataset construction took 0.839 s\n",
            "Loading dataset from disk.\n",
            "TIMING: dataset construction took 1.182 s\n",
            "Loading dataset from disk.\n",
            "WARNING:tensorflow:Entity <bound method GraphConv.call of <deepchem.models.layers.GraphConv object at 0x7fdd653cd2b0>> could not be transformed and will be executed as-is. Please report this to the AutoGraph team. When filing the bug, set the verbosity to 10 (on Linux, `export AUTOGRAPH_VERBOSITY=10`) and attach the full output. Cause: module 'gast' has no attribute 'Num'\n",
            "WARNING: Entity <bound method GraphConv.call of <deepchem.models.layers.GraphConv object at 0x7fdd653cd2b0>> could not be transformed and will be executed as-is. Please report this to the AutoGraph team. When filing the bug, set the verbosity to 10 (on Linux, `export AUTOGRAPH_VERBOSITY=10`) and attach the full output. Cause: module 'gast' has no attribute 'Num'\n",
            "WARNING:tensorflow:Entity <bound method GraphPool.call of <deepchem.models.layers.GraphPool object at 0x7fdd5eed14a8>> could not be transformed and will be executed as-is. Please report this to the AutoGraph team. When filing the bug, set the verbosity to 10 (on Linux, `export AUTOGRAPH_VERBOSITY=10`) and attach the full output. Cause: module 'gast' has no attribute 'Num'\n",
            "WARNING: Entity <bound method GraphPool.call of <deepchem.models.layers.GraphPool object at 0x7fdd5eed14a8>> could not be transformed and will be executed as-is. Please report this to the AutoGraph team. When filing the bug, set the verbosity to 10 (on Linux, `export AUTOGRAPH_VERBOSITY=10`) and attach the full output. Cause: module 'gast' has no attribute 'Num'\n",
            "WARNING:tensorflow:Entity <bound method GraphConv.call of <deepchem.models.layers.GraphConv object at 0x7fdd6fe3bba8>> could not be transformed and will be executed as-is. Please report this to the AutoGraph team. When filing the bug, set the verbosity to 10 (on Linux, `export AUTOGRAPH_VERBOSITY=10`) and attach the full output. Cause: module 'gast' has no attribute 'Num'\n",
            "WARNING: Entity <bound method GraphConv.call of <deepchem.models.layers.GraphConv object at 0x7fdd6fe3bba8>> could not be transformed and will be executed as-is. Please report this to the AutoGraph team. When filing the bug, set the verbosity to 10 (on Linux, `export AUTOGRAPH_VERBOSITY=10`) and attach the full output. Cause: module 'gast' has no attribute 'Num'\n",
            "WARNING:tensorflow:Entity <bound method GraphPool.call of <deepchem.models.layers.GraphPool object at 0x7fdde51dd1d0>> could not be transformed and will be executed as-is. Please report this to the AutoGraph team. When filing the bug, set the verbosity to 10 (on Linux, `export AUTOGRAPH_VERBOSITY=10`) and attach the full output. Cause: module 'gast' has no attribute 'Num'\n",
            "WARNING: Entity <bound method GraphPool.call of <deepchem.models.layers.GraphPool object at 0x7fdde51dd1d0>> could not be transformed and will be executed as-is. Please report this to the AutoGraph team. When filing the bug, set the verbosity to 10 (on Linux, `export AUTOGRAPH_VERBOSITY=10`) and attach the full output. Cause: module 'gast' has no attribute 'Num'\n",
            "WARNING:tensorflow:Entity <bound method GraphGather.call of <deepchem.models.layers.GraphGather object at 0x7fdd72579048>> could not be transformed and will be executed as-is. Please report this to the AutoGraph team. When filing the bug, set the verbosity to 10 (on Linux, `export AUTOGRAPH_VERBOSITY=10`) and attach the full output. Cause: module 'gast' has no attribute 'Num'\n",
            "WARNING: Entity <bound method GraphGather.call of <deepchem.models.layers.GraphGather object at 0x7fdd72579048>> could not be transformed and will be executed as-is. Please report this to the AutoGraph team. When filing the bug, set the verbosity to 10 (on Linux, `export AUTOGRAPH_VERBOSITY=10`) and attach the full output. Cause: module 'gast' has no attribute 'Num'\n",
            "WARNING:tensorflow:Entity <bound method TrimGraphOutput.call of <deepchem.models.graph_models.TrimGraphOutput object at 0x7fdd72579080>> could not be transformed and will be executed as-is. Please report this to the AutoGraph team. When filing the bug, set the verbosity to 10 (on Linux, `export AUTOGRAPH_VERBOSITY=10`) and attach the full output. Cause: module 'gast' has no attribute 'Num'\n",
            "WARNING: Entity <bound method TrimGraphOutput.call of <deepchem.models.graph_models.TrimGraphOutput object at 0x7fdd72579080>> could not be transformed and will be executed as-is. Please report this to the AutoGraph team. When filing the bug, set the verbosity to 10 (on Linux, `export AUTOGRAPH_VERBOSITY=10`) and attach the full output. Cause: module 'gast' has no attribute 'Num'\n"
          ],
          "name": "stdout"
        },
        {
          "output_type": "stream",
          "text": [
            "/tensorflow-1.15.2/python3.6/tensorflow_core/python/framework/indexed_slices.py:424: UserWarning: Converting sparse IndexedSlices to a dense Tensor of unknown shape. This may consume a large amount of memory.\n",
            "  \"Converting sparse IndexedSlices to a dense Tensor of unknown shape. \"\n",
            "/tensorflow-1.15.2/python3.6/tensorflow_core/python/framework/indexed_slices.py:424: UserWarning: Converting sparse IndexedSlices to a dense Tensor of unknown shape. This may consume a large amount of memory.\n",
            "  \"Converting sparse IndexedSlices to a dense Tensor of unknown shape. \"\n",
            "/tensorflow-1.15.2/python3.6/tensorflow_core/python/framework/indexed_slices.py:424: UserWarning: Converting sparse IndexedSlices to a dense Tensor of unknown shape. This may consume a large amount of memory.\n",
            "  \"Converting sparse IndexedSlices to a dense Tensor of unknown shape. \"\n"
          ],
          "name": "stderr"
        },
        {
          "output_type": "stream",
          "text": [
            "computed_metrics: [0.6443982521347705]\n",
            "computed_metrics: [0.9118738006098865]\n",
            "[0.9460858016837398, 0.9552702926783022, 0.7655981029166788, 0.7676840845478065, 0.7757311284053034, 0.876094368390309, 0.8551383428557057, 0.9474286308512249, 0.956770751260633, 0.6443982521347705]\n",
            "[0.5435391270264687, 0.8339033138452595, 0.8924592520017463, 0.8924592520017463, 0.9118738006098865, 0.7032364358565029, 0.8924592520017463, 0.8311451495258935, 0.8499867778251156, 0.9118738006098865]\n"
          ],
          "name": "stdout"
        }
      ]
    },
    {
      "cell_type": "code",
      "metadata": {
        "id": "qHjaXfYc-8Aj",
        "colab_type": "code",
        "colab": {
          "base_uri": "https://localhost:8080/",
          "height": 282
        },
        "outputId": "f09489cf-7279-40b0-d1bc-223b881a10f7"
      },
      "source": [
        "sns.boxplot([\"training\"]*cv_folds+[\"validation\"]*cv_folds,training_score_list+validation_score_list)"
      ],
      "execution_count": 39,
      "outputs": [
        {
          "output_type": "execute_result",
          "data": {
            "text/plain": [
              "<matplotlib.axes._subplots.AxesSubplot at 0x7fdde62e1048>"
            ]
          },
          "metadata": {
            "tags": []
          },
          "execution_count": 39
        },
        {
          "output_type": "display_data",
          "data": {
            "image/png": "[encoded data removed]",
            "text/plain": [
              "<Figure size 432x288 with 1 Axes>"
            ]
          },
          "metadata": {
            "tags": [],
            "needs_background": "light"
          }
        }
      ]
    },
    {
      "cell_type": "code",
      "metadata": {
        "id": "Aa2KEB11BHO_",
        "colab_type": "code",
        "colab": {}
      },
      "source": [
        "\n",
        "pred = [x.flatten() for x in model.predict(valid_dataset)]"
      ],
      "execution_count": 40,
      "outputs": []
    },
    {
      "cell_type": "code",
      "metadata": {
        "id": "uN4t1z8BBRfy",
        "colab_type": "code",
        "colab": {}
      },
      "source": [
        "pred_df = pd.DataFrame(pred,columns=[\"neg\",\"pos\"])"
      ],
      "execution_count": 41,
      "outputs": []
    },
    {
      "cell_type": "code",
      "metadata": {
        "id": "_TJFRG3VBYi_",
        "colab_type": "code",
        "colab": {}
      },
      "source": [
        "\n",
        "pred_df[\"active\"] = [int(x) for x in valid_dataset.y]\n",
        "pred_df[\"SMILES\"] = valid_dataset.ids"
      ],
      "execution_count": 42,
      "outputs": []
    },
    {
      "cell_type": "code",
      "metadata": {
        "id": "Qjg6aLUGBbUs",
        "colab_type": "code",
        "colab": {
          "base_uri": "https://localhost:8080/",
          "height": 204
        },
        "outputId": "8f50ebd7-328b-4d09-f8ec-3f66cc19b497"
      },
      "source": [
        "pred_df.head()"
      ],
      "execution_count": 43,
      "outputs": [
        {
          "output_type": "execute_result",
          "data": {
            "text/html": [
              "<div>\n",
              "<style scoped>\n",
              "    .dataframe tbody tr th:only-of-type {\n",
              "        vertical-align: middle;\n",
              "    }\n",
              "\n",
              "    .dataframe tbody tr th {\n",
              "        vertical-align: top;\n",
              "    }\n",
              "\n",
              "    .dataframe thead th {\n",
              "        text-align: right;\n",
              "    }\n",
              "</style>\n",
              "<table border=\"1\" class=\"dataframe\">\n",
              "  <thead>\n",
              "    <tr style=\"text-align: right;\">\n",
              "      <th></th>\n",
              "      <th>neg</th>\n",
              "      <th>pos</th>\n",
              "      <th>active</th>\n",
              "      <th>SMILES</th>\n",
              "    </tr>\n",
              "  </thead>\n",
              "  <tbody>\n",
              "    <tr>\n",
              "      <th>0</th>\n",
              "      <td>0.998102</td>\n",
              "      <td>0.001898</td>\n",
              "      <td>1</td>\n",
              "      <td>C[C@@]12[C@@H]([C@@H](CC(O1)n3c4ccccc4c5c3c6n2...</td>\n",
              "    </tr>\n",
              "    <tr>\n",
              "      <th>1</th>\n",
              "      <td>0.201801</td>\n",
              "      <td>0.798199</td>\n",
              "      <td>1</td>\n",
              "      <td>Cc1cnc(nc1c2cc([nH]c2)C(=O)N[C@H](CO)c3cccc(c3...</td>\n",
              "    </tr>\n",
              "    <tr>\n",
              "      <th>2</th>\n",
              "      <td>0.324161</td>\n",
              "      <td>0.675839</td>\n",
              "      <td>1</td>\n",
              "      <td>Cc1cnc(nc1c2cc([nH]c2)C(=O)N[C@H](CO)c3ccccc3)...</td>\n",
              "    </tr>\n",
              "    <tr>\n",
              "      <th>3</th>\n",
              "      <td>0.434926</td>\n",
              "      <td>0.565074</td>\n",
              "      <td>1</td>\n",
              "      <td>Cc1cnc(nc1c2cc([nH]c2)C(=O)N[C@H](CO)c3ccccc3)...</td>\n",
              "    </tr>\n",
              "    <tr>\n",
              "      <th>4</th>\n",
              "      <td>0.216482</td>\n",
              "      <td>0.783518</td>\n",
              "      <td>1</td>\n",
              "      <td>Cc1cnc(nc1c2cc([nH]c2)C(=O)N[C@H](CO)c3cccc(c3...</td>\n",
              "    </tr>\n",
              "  </tbody>\n",
              "</table>\n",
              "</div>"
            ],
            "text/plain": [
              "        neg  ...                                             SMILES\n",
              "0  0.998102  ...  C[C@@]12[C@@H]([C@@H](CC(O1)n3c4ccccc4c5c3c6n2...\n",
              "1  0.201801  ...  Cc1cnc(nc1c2cc([nH]c2)C(=O)N[C@H](CO)c3cccc(c3...\n",
              "2  0.324161  ...  Cc1cnc(nc1c2cc([nH]c2)C(=O)N[C@H](CO)c3ccccc3)...\n",
              "3  0.434926  ...  Cc1cnc(nc1c2cc([nH]c2)C(=O)N[C@H](CO)c3ccccc3)...\n",
              "4  0.216482  ...  Cc1cnc(nc1c2cc([nH]c2)C(=O)N[C@H](CO)c3cccc(c3...\n",
              "\n",
              "[5 rows x 4 columns]"
            ]
          },
          "metadata": {
            "tags": []
          },
          "execution_count": 43
        }
      ]
    },
    {
      "cell_type": "code",
      "metadata": {
        "id": "fTu9kGNMBd2s",
        "colab_type": "code",
        "colab": {
          "base_uri": "https://localhost:8080/",
          "height": 824
        },
        "outputId": "c3430461-be38-406b-cbe5-d64f6a7b3b1b"
      },
      "source": [
        "pred_df.sort_values(\"pos\",ascending=False).head(25)"
      ],
      "execution_count": 44,
      "outputs": [
        {
          "output_type": "execute_result",
          "data": {
            "text/html": [
              "<div>\n",
              "<style scoped>\n",
              "    .dataframe tbody tr th:only-of-type {\n",
              "        vertical-align: middle;\n",
              "    }\n",
              "\n",
              "    .dataframe tbody tr th {\n",
              "        vertical-align: top;\n",
              "    }\n",
              "\n",
              "    .dataframe thead th {\n",
              "        text-align: right;\n",
              "    }\n",
              "</style>\n",
              "<table border=\"1\" class=\"dataframe\">\n",
              "  <thead>\n",
              "    <tr style=\"text-align: right;\">\n",
              "      <th></th>\n",
              "      <th>neg</th>\n",
              "      <th>pos</th>\n",
              "      <th>active</th>\n",
              "      <th>SMILES</th>\n",
              "    </tr>\n",
              "  </thead>\n",
              "  <tbody>\n",
              "    <tr>\n",
              "      <th>1</th>\n",
              "      <td>0.201801</td>\n",
              "      <td>0.798199</td>\n",
              "      <td>1</td>\n",
              "      <td>Cc1cnc(nc1c2cc([nH]c2)C(=O)N[C@H](CO)c3cccc(c3...</td>\n",
              "    </tr>\n",
              "    <tr>\n",
              "      <th>4</th>\n",
              "      <td>0.216482</td>\n",
              "      <td>0.783518</td>\n",
              "      <td>1</td>\n",
              "      <td>Cc1cnc(nc1c2cc([nH]c2)C(=O)N[C@H](CO)c3cccc(c3...</td>\n",
              "    </tr>\n",
              "    <tr>\n",
              "      <th>5</th>\n",
              "      <td>0.247281</td>\n",
              "      <td>0.752719</td>\n",
              "      <td>1</td>\n",
              "      <td>c1cc(cc(c1)Cl)c2cn[nH]c2c3cc([nH]c3)C(=O)NC(CO...</td>\n",
              "    </tr>\n",
              "    <tr>\n",
              "      <th>2</th>\n",
              "      <td>0.324161</td>\n",
              "      <td>0.675839</td>\n",
              "      <td>1</td>\n",
              "      <td>Cc1cnc(nc1c2cc([nH]c2)C(=O)N[C@H](CO)c3ccccc3)...</td>\n",
              "    </tr>\n",
              "    <tr>\n",
              "      <th>3</th>\n",
              "      <td>0.434926</td>\n",
              "      <td>0.565074</td>\n",
              "      <td>1</td>\n",
              "      <td>Cc1cnc(nc1c2cc([nH]c2)C(=O)N[C@H](CO)c3ccccc3)...</td>\n",
              "    </tr>\n",
              "    <tr>\n",
              "      <th>36</th>\n",
              "      <td>0.826284</td>\n",
              "      <td>0.173716</td>\n",
              "      <td>0</td>\n",
              "      <td>c1c(cc(cc1Cl)Cl)n2c3c(cn2)c(ncn3)NN</td>\n",
              "    </tr>\n",
              "    <tr>\n",
              "      <th>265</th>\n",
              "      <td>0.918809</td>\n",
              "      <td>0.081191</td>\n",
              "      <td>0</td>\n",
              "      <td>c1ccc2c(c1)c(nc(n2)c3ccncc3)N4CCO[C@@H](C4)c5c...</td>\n",
              "    </tr>\n",
              "    <tr>\n",
              "      <th>398</th>\n",
              "      <td>0.937730</td>\n",
              "      <td>0.062270</td>\n",
              "      <td>0</td>\n",
              "      <td>CCc1c(c(c(c(c1)CC)/C(=N\\O)/Nc2ccccc2)CC)/C(=N\\...</td>\n",
              "    </tr>\n",
              "    <tr>\n",
              "      <th>259</th>\n",
              "      <td>0.952813</td>\n",
              "      <td>0.047187</td>\n",
              "      <td>0</td>\n",
              "      <td>CCN[C@H](c1cccs1)c1cc2[nH]c(=O)[nH]c2cc1Br</td>\n",
              "    </tr>\n",
              "    <tr>\n",
              "      <th>24</th>\n",
              "      <td>0.963226</td>\n",
              "      <td>0.036774</td>\n",
              "      <td>0</td>\n",
              "      <td>CN(C)c1ccc(cc1)[C@H]2C(=C(NC(=O)N2)c3ccccc3)c4...</td>\n",
              "    </tr>\n",
              "    <tr>\n",
              "      <th>23</th>\n",
              "      <td>0.968206</td>\n",
              "      <td>0.031794</td>\n",
              "      <td>0</td>\n",
              "      <td>O=C(Nc1sccc1C(=O)O)Nc1cccc2cn[nH]c12</td>\n",
              "    </tr>\n",
              "    <tr>\n",
              "      <th>235</th>\n",
              "      <td>0.969747</td>\n",
              "      <td>0.030253</td>\n",
              "      <td>0</td>\n",
              "      <td>c1c(c(cc(c1N)F)F)C(=O)N(CCO)CCO</td>\n",
              "    </tr>\n",
              "    <tr>\n",
              "      <th>257</th>\n",
              "      <td>0.972786</td>\n",
              "      <td>0.027214</td>\n",
              "      <td>0</td>\n",
              "      <td>CN(c1ccccc1)c1ncnc(Nc2ccc(Cl)cn2)c1N</td>\n",
              "    </tr>\n",
              "    <tr>\n",
              "      <th>205</th>\n",
              "      <td>0.973363</td>\n",
              "      <td>0.026637</td>\n",
              "      <td>0</td>\n",
              "      <td>O=C(O)c1cc(F)cc(-c2c[nH]c(=O)[nH]c2=O)c1</td>\n",
              "    </tr>\n",
              "    <tr>\n",
              "      <th>260</th>\n",
              "      <td>0.978481</td>\n",
              "      <td>0.021519</td>\n",
              "      <td>0</td>\n",
              "      <td>CCCN[C@@H](c1cc2[nH]c(=O)[nH]c2cc1Br)C1CCCC1</td>\n",
              "    </tr>\n",
              "    <tr>\n",
              "      <th>204</th>\n",
              "      <td>0.980315</td>\n",
              "      <td>0.019685</td>\n",
              "      <td>0</td>\n",
              "      <td>Nc1ncc(/C(O)=N/c2nncs2)cc1Cl</td>\n",
              "    </tr>\n",
              "    <tr>\n",
              "      <th>37</th>\n",
              "      <td>0.982619</td>\n",
              "      <td>0.017381</td>\n",
              "      <td>0</td>\n",
              "      <td>c1cc(ccc1c2csc3c2c(ncn3)NCCCc4c(c([nH]n4)N)C#N)F</td>\n",
              "    </tr>\n",
              "    <tr>\n",
              "      <th>154</th>\n",
              "      <td>0.983146</td>\n",
              "      <td>0.016854</td>\n",
              "      <td>0</td>\n",
              "      <td>Cn1c2ccc(cc2n(c1=O)C)COc3ccccc3CNc4ccc5c(c4)[n...</td>\n",
              "    </tr>\n",
              "    <tr>\n",
              "      <th>302</th>\n",
              "      <td>0.983346</td>\n",
              "      <td>0.016654</td>\n",
              "      <td>0</td>\n",
              "      <td>CCCCc1ccc(cc1)Nc2c(c(ncn2)Oc3ccc(c4c3nccc4)Br)N</td>\n",
              "    </tr>\n",
              "    <tr>\n",
              "      <th>337</th>\n",
              "      <td>0.983775</td>\n",
              "      <td>0.016225</td>\n",
              "      <td>0</td>\n",
              "      <td>c1ccc(cc1)/C=C(\\CCO)/C(=O)NNCC(=O)Nc2nc3c(s2)C...</td>\n",
              "    </tr>\n",
              "    <tr>\n",
              "      <th>183</th>\n",
              "      <td>0.988306</td>\n",
              "      <td>0.011694</td>\n",
              "      <td>0</td>\n",
              "      <td>Cc1ccc2c(c1)c(c([nH]2)C)CCNC(=O)[C@@H]3Cc4cc(c...</td>\n",
              "    </tr>\n",
              "    <tr>\n",
              "      <th>210</th>\n",
              "      <td>0.989434</td>\n",
              "      <td>0.010566</td>\n",
              "      <td>0</td>\n",
              "      <td>Cc1c(c2c(cc1N)N(C(=O)CCO2)C)C</td>\n",
              "    </tr>\n",
              "    <tr>\n",
              "      <th>73</th>\n",
              "      <td>0.989496</td>\n",
              "      <td>0.010504</td>\n",
              "      <td>0</td>\n",
              "      <td>c1ccc(cc1)[C@@H](C2CCN(CC2)C(=O)Nc3cc(c[nH]c3=...</td>\n",
              "    </tr>\n",
              "    <tr>\n",
              "      <th>413</th>\n",
              "      <td>0.989744</td>\n",
              "      <td>0.010256</td>\n",
              "      <td>0</td>\n",
              "      <td>CC1=C([C@@H](NO1)c2ccccc2)C(=O)N/N=C/[C@H]3C=N...</td>\n",
              "    </tr>\n",
              "    <tr>\n",
              "      <th>408</th>\n",
              "      <td>0.990068</td>\n",
              "      <td>0.009932</td>\n",
              "      <td>0</td>\n",
              "      <td>c1ccc(c(c1)/C=N/n2c(nnn2)N)OCc3ccc(c(c3)Cl)Cl</td>\n",
              "    </tr>\n",
              "  </tbody>\n",
              "</table>\n",
              "</div>"
            ],
            "text/plain": [
              "          neg  ...                                             SMILES\n",
              "1    0.201801  ...  Cc1cnc(nc1c2cc([nH]c2)C(=O)N[C@H](CO)c3cccc(c3...\n",
              "4    0.216482  ...  Cc1cnc(nc1c2cc([nH]c2)C(=O)N[C@H](CO)c3cccc(c3...\n",
              "5    0.247281  ...  c1cc(cc(c1)Cl)c2cn[nH]c2c3cc([nH]c3)C(=O)NC(CO...\n",
              "2    0.324161  ...  Cc1cnc(nc1c2cc([nH]c2)C(=O)N[C@H](CO)c3ccccc3)...\n",
              "3    0.434926  ...  Cc1cnc(nc1c2cc([nH]c2)C(=O)N[C@H](CO)c3ccccc3)...\n",
              "36   0.826284  ...                c1c(cc(cc1Cl)Cl)n2c3c(cn2)c(ncn3)NN\n",
              "265  0.918809  ...  c1ccc2c(c1)c(nc(n2)c3ccncc3)N4CCO[C@@H](C4)c5c...\n",
              "398  0.937730  ...  CCc1c(c(c(c(c1)CC)/C(=N\\O)/Nc2ccccc2)CC)/C(=N\\...\n",
              "259  0.952813  ...         CCN[C@H](c1cccs1)c1cc2[nH]c(=O)[nH]c2cc1Br\n",
              "24   0.963226  ...  CN(C)c1ccc(cc1)[C@H]2C(=C(NC(=O)N2)c3ccccc3)c4...\n",
              "23   0.968206  ...               O=C(Nc1sccc1C(=O)O)Nc1cccc2cn[nH]c12\n",
              "235  0.969747  ...                    c1c(c(cc(c1N)F)F)C(=O)N(CCO)CCO\n",
              "257  0.972786  ...               CN(c1ccccc1)c1ncnc(Nc2ccc(Cl)cn2)c1N\n",
              "205  0.973363  ...           O=C(O)c1cc(F)cc(-c2c[nH]c(=O)[nH]c2=O)c1\n",
              "260  0.978481  ...       CCCN[C@@H](c1cc2[nH]c(=O)[nH]c2cc1Br)C1CCCC1\n",
              "204  0.980315  ...                       Nc1ncc(/C(O)=N/c2nncs2)cc1Cl\n",
              "37   0.982619  ...   c1cc(ccc1c2csc3c2c(ncn3)NCCCc4c(c([nH]n4)N)C#N)F\n",
              "154  0.983146  ...  Cn1c2ccc(cc2n(c1=O)C)COc3ccccc3CNc4ccc5c(c4)[n...\n",
              "302  0.983346  ...    CCCCc1ccc(cc1)Nc2c(c(ncn2)Oc3ccc(c4c3nccc4)Br)N\n",
              "337  0.983775  ...  c1ccc(cc1)/C=C(\\CCO)/C(=O)NNCC(=O)Nc2nc3c(s2)C...\n",
              "183  0.988306  ...  Cc1ccc2c(c1)c(c([nH]2)C)CCNC(=O)[C@@H]3Cc4cc(c...\n",
              "210  0.989434  ...                      Cc1c(c2c(cc1N)N(C(=O)CCO2)C)C\n",
              "73   0.989496  ...  c1ccc(cc1)[C@@H](C2CCN(CC2)C(=O)Nc3cc(c[nH]c3=...\n",
              "413  0.989744  ...  CC1=C([C@@H](NO1)c2ccccc2)C(=O)N/N=C/[C@H]3C=N...\n",
              "408  0.990068  ...      c1ccc(c(c1)/C=N/n2c(nnn2)N)OCc3ccc(c(c3)Cl)Cl\n",
              "\n",
              "[25 rows x 4 columns]"
            ]
          },
          "metadata": {
            "tags": []
          },
          "execution_count": 44
        }
      ]
    },
    {
      "cell_type": "code",
      "metadata": {
        "id": "45JaB1WuBhmK",
        "colab_type": "code",
        "colab": {
          "base_uri": "https://localhost:8080/",
          "height": 296
        },
        "outputId": "d877d978-f66e-45c1-fad9-0bc6797990d6"
      },
      "source": [
        "sns.boxplot(pred_df.active,pred_df.pos)"
      ],
      "execution_count": 45,
      "outputs": [
        {
          "output_type": "execute_result",
          "data": {
            "text/plain": [
              "<matplotlib.axes._subplots.AxesSubplot at 0x7fdd5dc5f320>"
            ]
          },
          "metadata": {
            "tags": []
          },
          "execution_count": 45
        },
        {
          "output_type": "display_data",
          "data": {
            "image/png": "[encoded data removed]",
            "text/plain": [
              "<Figure size 432x288 with 1 Axes>"
            ]
          },
          "metadata": {
            "tags": [],
            "needs_background": "light"
          }
        }
      ]
    },
    {
      "cell_type": "code",
      "metadata": {
        "id": "XLZId76IBmfQ",
        "colab_type": "code",
        "colab": {}
      },
      "source": [
        "false_negative_df = pred_df.query(\"active == 1 & pos < 0.5\").copy()"
      ],
      "execution_count": 46,
      "outputs": []
    },
    {
      "cell_type": "code",
      "metadata": {
        "id": "AS-GIE7TBu4_",
        "colab_type": "code",
        "colab": {}
      },
      "source": [
        "PandasTools.AddMoleculeColumnToFrame(false_negative_df,\"SMILES\",\"Mol\")"
      ],
      "execution_count": 47,
      "outputs": []
    },
    {
      "cell_type": "code",
      "metadata": {
        "id": "duw6ynJZByEU",
        "colab_type": "code",
        "colab": {
          "base_uri": "https://localhost:8080/",
          "height": 267
        },
        "outputId": "ca0e6c87-707e-4df3-e57c-c6f745f9cc35"
      },
      "source": [
        "\n",
        "false_negative_df"
      ],
      "execution_count": 48,
      "outputs": [
        {
          "output_type": "execute_result",
          "data": {
            "text/html": [
              "<div>\n",
              "<style scoped>\n",
              "    .dataframe tbody tr th:only-of-type {\n",
              "        vertical-align: middle;\n",
              "    }\n",
              "\n",
              "    .dataframe tbody tr th {\n",
              "        vertical-align: top;\n",
              "    }\n",
              "\n",
              "    .dataframe thead th {\n",
              "        text-align: right;\n",
              "    }\n",
              "</style>\n",
              "<table border=\"1\" class=\"dataframe\">\n",
              "  <thead>\n",
              "    <tr style=\"text-align: right;\">\n",
              "      <th></th>\n",
              "      <th>neg</th>\n",
              "      <th>pos</th>\n",
              "      <th>active</th>\n",
              "      <th>SMILES</th>\n",
              "      <th>Mol</th>\n",
              "    </tr>\n",
              "  </thead>\n",
              "  <tbody>\n",
              "    <tr>\n",
              "      <th>0</th>\n",
              "      <td>0.998102</td>\n",
              "      <td>0.001898</td>\n",
              "      <td>1</td>\n",
              "      <td>C[C@@]12[C@@H]([C@@H](CC(O1)n3c4ccccc4c5c3c6n2...</td>\n",
              "      <td><img data-content=\"rdkit/molecule\" src=\"data:image/png;base64,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\" alt=\"Mol\"/></td>\n",
              "    </tr>\n",
              "  </tbody>\n",
              "</table>\n",
              "</div>"
            ],
            "text/plain": [
              "        neg  ...                                                Mol\n",
              "0  0.998102  ...  <img data-content=\"rdkit/molecule\" src=\"data:i...\n",
              "\n",
              "[1 rows x 5 columns]"
            ]
          },
          "metadata": {
            "tags": []
          },
          "execution_count": 48
        }
      ]
    },
    {
      "cell_type": "code",
      "metadata": {
        "id": "kdeYPqsdB1Ax",
        "colab_type": "code",
        "colab": {}
      },
      "source": [
        "false_positive_df = pred_df.query(\"active == 0 & pos > 0.5\").copy()\n",
        "PandasTools.AddMoleculeColumnToFrame(false_positive_df,\"SMILES\",\"Mol\")"
      ],
      "execution_count": 49,
      "outputs": []
    },
    {
      "cell_type": "code",
      "metadata": {
        "id": "g9z2JoaCB8lU",
        "colab_type": "code",
        "colab": {
          "base_uri": "https://localhost:8080/",
          "height": 49
        },
        "outputId": "b926f506-26a7-4c0f-c87e-8b0fd87aa620"
      },
      "source": [
        "false_positive_df"
      ],
      "execution_count": 50,
      "outputs": [
        {
          "output_type": "execute_result",
          "data": {
            "text/html": [
              "<div>\n",
              "<style scoped>\n",
              "    .dataframe tbody tr th:only-of-type {\n",
              "        vertical-align: middle;\n",
              "    }\n",
              "\n",
              "    .dataframe tbody tr th {\n",
              "        vertical-align: top;\n",
              "    }\n",
              "\n",
              "    .dataframe thead th {\n",
              "        text-align: right;\n",
              "    }\n",
              "</style>\n",
              "<table border=\"1\" class=\"dataframe\">\n",
              "  <thead>\n",
              "    <tr style=\"text-align: right;\">\n",
              "      <th></th>\n",
              "      <th>neg</th>\n",
              "      <th>pos</th>\n",
              "      <th>active</th>\n",
              "      <th>SMILES</th>\n",
              "      <th>Mol</th>\n",
              "    </tr>\n",
              "  </thead>\n",
              "  <tbody>\n",
              "  </tbody>\n",
              "</table>\n",
              "</div>"
            ],
            "text/plain": [
              "Empty DataFrame\n",
              "Columns: [neg, pos, active, SMILES, Mol]\n",
              "Index: []"
            ]
          },
          "metadata": {
            "tags": []
          },
          "execution_count": 50
        }
      ]
    },
    {
      "cell_type": "code",
      "metadata": {
        "id": "R5qBClnPB_Ua",
        "colab_type": "code",
        "colab": {
          "base_uri": "https://localhost:8080/",
          "height": 34
        },
        "outputId": "9135dfee-e8a7-4063-fc64-7b8e4e224ffb"
      },
      "source": [
        "model.fit(dataset)"
      ],
      "execution_count": 51,
      "outputs": [
        {
          "output_type": "execute_result",
          "data": {
            "text/plain": [
              "0.002604673918055293"
            ]
          },
          "metadata": {
            "tags": []
          },
          "execution_count": 51
        }
      ]
    },
    {
      "cell_type": "code",
      "metadata": {
        "id": "x6CozqCXCDS3",
        "colab_type": "code",
        "colab": {}
      },
      "source": [
        "#part 2 over part 3 begin"
      ],
      "execution_count": 52,
      "outputs": []
    },
    {
      "cell_type": "code",
      "metadata": {
        "id": "e_Ru6Mt7CWbi",
        "colab_type": "code",
        "colab": {
          "base_uri": "https://localhost:8080/",
          "height": 377
        },
        "outputId": "1c785e37-c59e-4d61-e7e5-cd5baec9309f"
      },
      "source": [
        "#install rd_filters for the 3rd part\n",
        "!pip install git+https://github.com/PatWalters/rd_filters.git"
      ],
      "execution_count": 54,
      "outputs": [
        {
          "output_type": "stream",
          "text": [
            "Collecting git+https://github.com/PatWalters/rd_filters.git\n",
            "  Cloning https://github.com/PatWalters/rd_filters.git to /tmp/pip-req-build-np6njoo2\n",
            "  Running command git clone -q https://github.com/PatWalters/rd_filters.git /tmp/pip-req-build-np6njoo2\n",
            "Requirement already satisfied: pandas in /usr/local/lib/python3.7/site-packages (from rd-filters==0.1) (0.25.1)\n",
            "Collecting docopt (from rd-filters==0.1)\n",
            "  Downloading https://files.pythonhosted.org/packages/a2/55/8f8cab2afd404cf578136ef2cc5dfb50baa1761b68c9da1fb1e4eed343c9/docopt-0.6.2.tar.gz\n",
            "Requirement already satisfied: python-dateutil>=2.6.1 in /usr/local/lib/python3.7/site-packages (from pandas->rd-filters==0.1) (2.8.0)\n",
            "Requirement already satisfied: pytz>=2017.2 in /usr/local/lib/python3.7/site-packages (from pandas->rd-filters==0.1) (2019.3)\n",
            "Requirement already satisfied: numpy>=1.13.3 in /usr/local/lib/python3.7/site-packages (from pandas->rd-filters==0.1) (1.17.2)\n",
            "Requirement already satisfied: six>=1.5 in /usr/local/lib/python3.7/site-packages (from python-dateutil>=2.6.1->pandas->rd-filters==0.1) (1.12.0)\n",
            "Building wheels for collected packages: rd-filters, docopt\n",
            "  Building wheel for rd-filters (setup.py) ... \u001b[?25l\u001b[?25hdone\n",
            "  Created wheel for rd-filters: filename=rd_filters-0.1-cp37-none-any.whl size=33802 sha256=e577eb1b060e9a31250d946c415bea089f5c898487c44a32248fa392c5f633a4\n",
            "  Stored in directory: /tmp/pip-ephem-wheel-cache-5s_es2mk/wheels/d4/87/35/cd3956abaa31773a068c13c51f929aabe700118852e72bb3ca\n",
            "  Building wheel for docopt (setup.py) ... \u001b[?25l\u001b[?25hdone\n",
            "  Created wheel for docopt: filename=docopt-0.6.2-py2.py3-none-any.whl size=13704 sha256=a32ae05dad92395a55429ef1e1597f9caa59ca5f1d88bb442d984c735ae4d665\n",
            "  Stored in directory: /root/.cache/pip/wheels/9b/04/dd/7daf4150b6d9b12949298737de9431a324d4b797ffd63f526e\n",
            "Successfully built rd-filters docopt\n",
            "Installing collected packages: docopt, rd-filters\n",
            "Successfully installed docopt-0.6.2 rd-filters-0.1\n"
          ],
          "name": "stdout"
        }
      ]
    },
    {
      "cell_type": "code",
      "metadata": {
        "id": "s54sUlcTD4QG",
        "colab_type": "code",
        "colab": {
          "base_uri": "https://localhost:8080/",
          "height": 224
        },
        "outputId": "5abc3f67-c08f-4fda-b8ab-60a0631e972e"
      },
      "source": [
        "!rd_filters -h"
      ],
      "execution_count": 55,
      "outputs": [
        {
          "output_type": "stream",
          "text": [
            "Usage:\n",
            "rd_filters filter --in INPUT_FILE --prefix PREFIX [--rules RULES_FILE_NAME] [--alerts ALERT_FILE_NAME][--np NUM_CORES]\n",
            "rd_filters template --out TEMPLATE_FILE [--rules RULES_FILE_NAME]\n",
            "\n",
            "Options:\n",
            "--in INPUT_FILE input file name\n",
            "--prefix PREFIX prefix for output file names\n",
            "--rules RULES_FILE_NAME name of the rules JSON file\n",
            "--alerts ALERTS_FILE_NAME name of the structural alerts file\n",
            "--np NUM_CORES the number of cpu cores to use (default is all)\n",
            "--out TEMPLATE_FILE parameter template file name\n"
          ],
          "name": "stdout"
        }
      ]
    },
    {
      "cell_type": "code",
      "metadata": {
        "id": "jiHYuMLeEkpJ",
        "colab_type": "code",
        "colab": {
          "base_uri": "https://localhost:8080/",
          "height": 119
        },
        "outputId": "c96c98d1-5ae3-4b24-b04a-0808d016219d"
      },
      "source": [
        "!rd_filters filter --in zinc_100k.smi --prefix zinc"
      ],
      "execution_count": 56,
      "outputs": [
        {
          "output_type": "stream",
          "text": [
            "using 2 cores\n",
            "Using alerts from Inpharmatica\n",
            "Wrote SMILES for molecules passing filters to zinc.smi\n",
            "Wrote detailed data to zinc.csv\n",
            "68410 of 100000 passed filters 68.4%\n",
            "Elapsed time 83.61 seconds\n"
          ],
          "name": "stdout"
        }
      ]
    },
    {
      "cell_type": "code",
      "metadata": {
        "id": "1IeMILkxEp_J",
        "colab_type": "code",
        "colab": {}
      },
      "source": [
        "df = pd.read_csv(\"zinc.csv\")"
      ],
      "execution_count": 57,
      "outputs": []
    },
    {
      "cell_type": "code",
      "metadata": {
        "id": "p1YIN6-nFg4Z",
        "colab_type": "code",
        "colab": {
          "base_uri": "https://localhost:8080/",
          "height": 309
        },
        "outputId": "e2b821b6-b174-4e41-ee67-54bf283e94e6"
      },
      "source": [
        "\n",
        "df.head()"
      ],
      "execution_count": 58,
      "outputs": [
        {
          "output_type": "execute_result",
          "data": {
            "text/html": [
              "<div>\n",
              "<style scoped>\n",
              "    .dataframe tbody tr th:only-of-type {\n",
              "        vertical-align: middle;\n",
              "    }\n",
              "\n",
              "    .dataframe tbody tr th {\n",
              "        vertical-align: top;\n",
              "    }\n",
              "\n",
              "    .dataframe thead th {\n",
              "        text-align: right;\n",
              "    }\n",
              "</style>\n",
              "<table border=\"1\" class=\"dataframe\">\n",
              "  <thead>\n",
              "    <tr style=\"text-align: right;\">\n",
              "      <th></th>\n",
              "      <th>SMILES</th>\n",
              "      <th>NAME</th>\n",
              "      <th>FILTER</th>\n",
              "      <th>MW</th>\n",
              "      <th>LogP</th>\n",
              "      <th>HBD</th>\n",
              "      <th>HBA</th>\n",
              "      <th>TPSA</th>\n",
              "      <th>Rot</th>\n",
              "    </tr>\n",
              "  </thead>\n",
              "  <tbody>\n",
              "    <tr>\n",
              "      <th>0</th>\n",
              "      <td>CN(CCO)C[C@@H](O)Cn1cnc2c1c(=O)n(C)c(=O)n2C</td>\n",
              "      <td>ZINC000000000843</td>\n",
              "      <td>Filter82_pyridinium &gt; 0</td>\n",
              "      <td>311.342</td>\n",
              "      <td>-2.2813</td>\n",
              "      <td>2</td>\n",
              "      <td>9</td>\n",
              "      <td>105.52</td>\n",
              "      <td>6</td>\n",
              "    </tr>\n",
              "    <tr>\n",
              "      <th>1</th>\n",
              "      <td>O=c1[nH]c(=O)n([C@@H]2C[C@@H](O)[C@H](CO)O2)cc1Br</td>\n",
              "      <td>ZINC000000001063</td>\n",
              "      <td>Filter9_metal &gt; 0</td>\n",
              "      <td>307.100</td>\n",
              "      <td>-1.0602</td>\n",
              "      <td>3</td>\n",
              "      <td>6</td>\n",
              "      <td>104.55</td>\n",
              "      <td>2</td>\n",
              "    </tr>\n",
              "    <tr>\n",
              "      <th>2</th>\n",
              "      <td>Cn1c2ncn(CC(=O)N3CCOCC3)c2c(=O)n(C)c1=O</td>\n",
              "      <td>ZINC000000003942</td>\n",
              "      <td>Filter82_pyridinium &gt; 0</td>\n",
              "      <td>307.310</td>\n",
              "      <td>-1.7075</td>\n",
              "      <td>0</td>\n",
              "      <td>8</td>\n",
              "      <td>91.36</td>\n",
              "      <td>2</td>\n",
              "    </tr>\n",
              "    <tr>\n",
              "      <th>3</th>\n",
              "      <td>CN1C(=O)C[C@H](N2CCN(C(=O)CN3CCCC3)CC2)C1=O</td>\n",
              "      <td>ZINC000000036436</td>\n",
              "      <td>OK</td>\n",
              "      <td>308.382</td>\n",
              "      <td>-1.0163</td>\n",
              "      <td>0</td>\n",
              "      <td>5</td>\n",
              "      <td>64.17</td>\n",
              "      <td>3</td>\n",
              "    </tr>\n",
              "    <tr>\n",
              "      <th>4</th>\n",
              "      <td>CC(=O)NC[C@H](O)[C@H]1O[C@H]2OC(C)(C)O[C@H]2[C...</td>\n",
              "      <td>ZINC000000041101</td>\n",
              "      <td>OK</td>\n",
              "      <td>302.327</td>\n",
              "      <td>-1.1355</td>\n",
              "      <td>3</td>\n",
              "      <td>6</td>\n",
              "      <td>106.12</td>\n",
              "      <td>4</td>\n",
              "    </tr>\n",
              "  </tbody>\n",
              "</table>\n",
              "</div>"
            ],
            "text/plain": [
              "                                              SMILES  ... Rot\n",
              "0        CN(CCO)C[C@@H](O)Cn1cnc2c1c(=O)n(C)c(=O)n2C  ...   6\n",
              "1  O=c1[nH]c(=O)n([C@@H]2C[C@@H](O)[C@H](CO)O2)cc1Br  ...   2\n",
              "2            Cn1c2ncn(CC(=O)N3CCOCC3)c2c(=O)n(C)c1=O  ...   2\n",
              "3        CN1C(=O)C[C@H](N2CCN(C(=O)CN3CCCC3)CC2)C1=O  ...   3\n",
              "4  CC(=O)NC[C@H](O)[C@H]1O[C@H]2OC(C)(C)O[C@H]2[C...  ...   4\n",
              "\n",
              "[5 rows x 9 columns]"
            ]
          },
          "metadata": {
            "tags": []
          },
          "execution_count": 58
        }
      ]
    },
    {
      "cell_type": "code",
      "metadata": {
        "id": "sLrnkoRUFjMY",
        "colab_type": "code",
        "colab": {
          "base_uri": "https://localhost:8080/",
          "height": 204
        },
        "outputId": "dd2a4467-108f-4992-ca30-6989228cddd2"
      },
      "source": [
        "from collections import Counter\n",
        "count_list = list(Counter(df.FILTER).items())\n",
        "count_df = pd.DataFrame(count_list,columns=[\"Rule\",\"Count\"])\n",
        "count_df.sort_values(\"Count\",inplace=True,ascending=False)\n",
        "count_df.head()"
      ],
      "execution_count": 59,
      "outputs": [
        {
          "output_type": "execute_result",
          "data": {
            "text/html": [
              "<div>\n",
              "<style scoped>\n",
              "    .dataframe tbody tr th:only-of-type {\n",
              "        vertical-align: middle;\n",
              "    }\n",
              "\n",
              "    .dataframe tbody tr th {\n",
              "        vertical-align: top;\n",
              "    }\n",
              "\n",
              "    .dataframe thead th {\n",
              "        text-align: right;\n",
              "    }\n",
              "</style>\n",
              "<table border=\"1\" class=\"dataframe\">\n",
              "  <thead>\n",
              "    <tr style=\"text-align: right;\">\n",
              "      <th></th>\n",
              "      <th>Rule</th>\n",
              "      <th>Count</th>\n",
              "    </tr>\n",
              "  </thead>\n",
              "  <tbody>\n",
              "    <tr>\n",
              "      <th>2</th>\n",
              "      <td>OK</td>\n",
              "      <td>69148</td>\n",
              "    </tr>\n",
              "    <tr>\n",
              "      <th>7</th>\n",
              "      <td>Filter41_12_dicarbonyl &gt; 0</td>\n",
              "      <td>19330</td>\n",
              "    </tr>\n",
              "    <tr>\n",
              "      <th>0</th>\n",
              "      <td>Filter82_pyridinium &gt; 0</td>\n",
              "      <td>7713</td>\n",
              "    </tr>\n",
              "    <tr>\n",
              "      <th>11</th>\n",
              "      <td>Filter93_acetyl_urea &gt; 0</td>\n",
              "      <td>1541</td>\n",
              "    </tr>\n",
              "    <tr>\n",
              "      <th>12</th>\n",
              "      <td>Filter78_bicyclic_Imide &gt; 0</td>\n",
              "      <td>825</td>\n",
              "    </tr>\n",
              "  </tbody>\n",
              "</table>\n",
              "</div>"
            ],
            "text/plain": [
              "                           Rule  Count\n",
              "2                            OK  69148\n",
              "7    Filter41_12_dicarbonyl > 0  19330\n",
              "0       Filter82_pyridinium > 0   7713\n",
              "11     Filter93_acetyl_urea > 0   1541\n",
              "12  Filter78_bicyclic_Imide > 0    825"
            ]
          },
          "metadata": {
            "tags": []
          },
          "execution_count": 59
        }
      ]
    },
    {
      "cell_type": "code",
      "metadata": {
        "id": "Du4txg9OFpx0",
        "colab_type": "code",
        "colab": {}
      },
      "source": [
        "smiles_list = df[df.FILTER == \"Filter41_12_dicarbonyl > 0\"].SMILES[:10]"
      ],
      "execution_count": 60,
      "outputs": []
    },
    {
      "cell_type": "code",
      "metadata": {
        "id": "q6wiusLmF24O",
        "colab_type": "code",
        "colab": {
          "base_uri": "https://localhost:8080/",
          "height": 817
        },
        "outputId": "fb5e91ec-0d2e-40ca-cd08-a649a2779489"
      },
      "source": [
        "from rdkit import Chem\n",
        "from rdkit.Chem import Draw\n",
        "\n",
        "mol_list = [Chem.MolFromSmiles(x) for x in smiles_list]\n",
        "dicarbonyl = Chem.MolFromSmarts('*C(=O)C(=O)*')\n",
        "match_list = [mol.GetSubstructMatch(dicarbonyl) for mol in mol_list]\n",
        "Draw.MolsToGridImage(mol_list,highlightAtomLists=match_list,molsPerRow=3)"
      ],
      "execution_count": 62,
      "outputs": [
        {
          "output_type": "execute_result",
          "data": {
            "image/png": "[encoded data removed]",
            "text/plain": [
              "<PIL.PngImagePlugin.PngImageFile image mode=RGB size=600x800 at 0x7FDD644CCEB8>"
            ]
          },
          "metadata": {
            "tags": []
          },
          "execution_count": 62
        }
      ]
    },
    {
      "cell_type": "code",
      "metadata": {
        "id": "eCBKlYm1F6P0",
        "colab_type": "code",
        "colab": {}
      },
      "source": [
        "#part 3 over , starting part 4"
      ],
      "execution_count": 63,
      "outputs": []
    },
    {
      "cell_type": "code",
      "metadata": {
        "id": "-cqkCZv1Gztf",
        "colab_type": "code",
        "colab": {}
      },
      "source": [
        "import deepchem as dc\n",
        "import pandas as pd\n",
        "from rdkit.Chem import PandasTools, Draw\n",
        "from rdkit import DataStructs\n",
        "from rdkit.ML.Cluster import Butina\n",
        "from rdkit.Chem import rdMolDescriptors as rdmd\n",
        "import seaborn as sns"
      ],
      "execution_count": 64,
      "outputs": []
    },
    {
      "cell_type": "code",
      "metadata": {
        "id": "u6v05HJtHalW",
        "colab_type": "code",
        "colab": {
          "base_uri": "https://localhost:8080/",
          "height": 241
        },
        "outputId": "236fc8ba-16f3-42ed-c9a4-8c6901799b4b"
      },
      "source": [
        "\n",
        "model = dc.models.GraphConvModel(1, batch_size=128, mode='classification',model_dir=\"model_dir\")\n",
        "model.restore()"
      ],
      "execution_count": 65,
      "outputs": [
        {
          "output_type": "stream",
          "text": [
            "WARNING:tensorflow:Entity <bound method GraphConv.call of <deepchem.models.layers.GraphConv object at 0x7fdd5b5e2b38>> could not be transformed and will be executed as-is. Please report this to the AutoGraph team. When filing the bug, set the verbosity to 10 (on Linux, `export AUTOGRAPH_VERBOSITY=10`) and attach the full output. Cause: module 'gast' has no attribute 'Num'\n",
            "WARNING: Entity <bound method GraphConv.call of <deepchem.models.layers.GraphConv object at 0x7fdd5b5e2b38>> could not be transformed and will be executed as-is. Please report this to the AutoGraph team. When filing the bug, set the verbosity to 10 (on Linux, `export AUTOGRAPH_VERBOSITY=10`) and attach the full output. Cause: module 'gast' has no attribute 'Num'\n",
            "WARNING:tensorflow:Entity <bound method GraphPool.call of <deepchem.models.layers.GraphPool object at 0x7fdd5b0a6358>> could not be transformed and will be executed as-is. Please report this to the AutoGraph team. When filing the bug, set the verbosity to 10 (on Linux, `export AUTOGRAPH_VERBOSITY=10`) and attach the full output. Cause: module 'gast' has no attribute 'Num'\n",
            "WARNING: Entity <bound method GraphPool.call of <deepchem.models.layers.GraphPool object at 0x7fdd5b0a6358>> could not be transformed and will be executed as-is. Please report this to the AutoGraph team. When filing the bug, set the verbosity to 10 (on Linux, `export AUTOGRAPH_VERBOSITY=10`) and attach the full output. Cause: module 'gast' has no attribute 'Num'\n",
            "WARNING:tensorflow:Entity <bound method GraphConv.call of <deepchem.models.layers.GraphConv object at 0x7fdde2435e80>> could not be transformed and will be executed as-is. Please report this to the AutoGraph team. When filing the bug, set the verbosity to 10 (on Linux, `export AUTOGRAPH_VERBOSITY=10`) and attach the full output. Cause: module 'gast' has no attribute 'Num'\n",
            "WARNING: Entity <bound method GraphConv.call of <deepchem.models.layers.GraphConv object at 0x7fdde2435e80>> could not be transformed and will be executed as-is. Please report this to the AutoGraph team. When filing the bug, set the verbosity to 10 (on Linux, `export AUTOGRAPH_VERBOSITY=10`) and attach the full output. Cause: module 'gast' has no attribute 'Num'\n",
            "WARNING:tensorflow:Entity <bound method GraphPool.call of <deepchem.models.layers.GraphPool object at 0x7fdd654acf60>> could not be transformed and will be executed as-is. Please report this to the AutoGraph team. When filing the bug, set the verbosity to 10 (on Linux, `export AUTOGRAPH_VERBOSITY=10`) and attach the full output. Cause: module 'gast' has no attribute 'Num'\n",
            "WARNING: Entity <bound method GraphPool.call of <deepchem.models.layers.GraphPool object at 0x7fdd654acf60>> could not be transformed and will be executed as-is. Please report this to the AutoGraph team. When filing the bug, set the verbosity to 10 (on Linux, `export AUTOGRAPH_VERBOSITY=10`) and attach the full output. Cause: module 'gast' has no attribute 'Num'\n",
            "WARNING:tensorflow:Entity <bound method GraphGather.call of <deepchem.models.layers.GraphGather object at 0x7fdd5e599cc0>> could not be transformed and will be executed as-is. Please report this to the AutoGraph team. When filing the bug, set the verbosity to 10 (on Linux, `export AUTOGRAPH_VERBOSITY=10`) and attach the full output. Cause: module 'gast' has no attribute 'Num'\n",
            "WARNING: Entity <bound method GraphGather.call of <deepchem.models.layers.GraphGather object at 0x7fdd5e599cc0>> could not be transformed and will be executed as-is. Please report this to the AutoGraph team. When filing the bug, set the verbosity to 10 (on Linux, `export AUTOGRAPH_VERBOSITY=10`) and attach the full output. Cause: module 'gast' has no attribute 'Num'\n",
            "WARNING:tensorflow:Entity <bound method TrimGraphOutput.call of <deepchem.models.graph_models.TrimGraphOutput object at 0x7fddd0037fd0>> could not be transformed and will be executed as-is. Please report this to the AutoGraph team. When filing the bug, set the verbosity to 10 (on Linux, `export AUTOGRAPH_VERBOSITY=10`) and attach the full output. Cause: module 'gast' has no attribute 'Num'\n",
            "WARNING: Entity <bound method TrimGraphOutput.call of <deepchem.models.graph_models.TrimGraphOutput object at 0x7fddd0037fd0>> could not be transformed and will be executed as-is. Please report this to the AutoGraph team. When filing the bug, set the verbosity to 10 (on Linux, `export AUTOGRAPH_VERBOSITY=10`) and attach the full output. Cause: module 'gast' has no attribute 'Num'\n"
          ],
          "name": "stdout"
        }
      ]
    },
    {
      "cell_type": "code",
      "metadata": {
        "id": "H7U17zjLHeR9",
        "colab_type": "code",
        "colab": {}
      },
      "source": [
        "featurizer = dc.feat.ConvMolFeaturizer()"
      ],
      "execution_count": 66,
      "outputs": []
    },
    {
      "cell_type": "code",
      "metadata": {
        "id": "_NsVtF_aHrNg",
        "colab_type": "code",
        "colab": {}
      },
      "source": [
        "df = pd.read_csv(\"zinc.smi\",sep=\" \",header=None)"
      ],
      "execution_count": 67,
      "outputs": []
    },
    {
      "cell_type": "code",
      "metadata": {
        "id": "nHLEGiF2HuLo",
        "colab_type": "code",
        "colab": {}
      },
      "source": [
        "df.columns=[\"SMILES\",\"Name\"]"
      ],
      "execution_count": 68,
      "outputs": []
    },
    {
      "cell_type": "code",
      "metadata": {
        "id": "Zk17KESxHw1a",
        "colab_type": "code",
        "colab": {}
      },
      "source": [
        "rows,cols = df.shape\n",
        "df[\"Val\"] = [0] * rows"
      ],
      "execution_count": 69,
      "outputs": []
    },
    {
      "cell_type": "code",
      "metadata": {
        "id": "QAhu-sZTHzni",
        "colab_type": "code",
        "colab": {
          "base_uri": "https://localhost:8080/",
          "height": 204
        },
        "outputId": "342d5ac5-10d4-436d-fa9a-d079cf5959b4"
      },
      "source": [
        "df.head()"
      ],
      "execution_count": 70,
      "outputs": [
        {
          "output_type": "execute_result",
          "data": {
            "text/html": [
              "<div>\n",
              "<style scoped>\n",
              "    .dataframe tbody tr th:only-of-type {\n",
              "        vertical-align: middle;\n",
              "    }\n",
              "\n",
              "    .dataframe tbody tr th {\n",
              "        vertical-align: top;\n",
              "    }\n",
              "\n",
              "    .dataframe thead th {\n",
              "        text-align: right;\n",
              "    }\n",
              "</style>\n",
              "<table border=\"1\" class=\"dataframe\">\n",
              "  <thead>\n",
              "    <tr style=\"text-align: right;\">\n",
              "      <th></th>\n",
              "      <th>SMILES</th>\n",
              "      <th>Name</th>\n",
              "      <th>Val</th>\n",
              "    </tr>\n",
              "  </thead>\n",
              "  <tbody>\n",
              "    <tr>\n",
              "      <th>0</th>\n",
              "      <td>CN1C(=O)C[C@H](N2CCN(C(=O)CN3CCCC3)CC2)C1=O</td>\n",
              "      <td>ZINC000000036436</td>\n",
              "      <td>0</td>\n",
              "    </tr>\n",
              "    <tr>\n",
              "      <th>1</th>\n",
              "      <td>CC(=O)NC[C@H](O)[C@H]1O[C@H]2OC(C)(C)O[C@H]2[C...</td>\n",
              "      <td>ZINC000000041101</td>\n",
              "      <td>0</td>\n",
              "    </tr>\n",
              "    <tr>\n",
              "      <th>2</th>\n",
              "      <td>C1CN(c2nc(-c3nn[nH]n3)nc(N3CCOCC3)n2)CCO1</td>\n",
              "      <td>ZINC000000054542</td>\n",
              "      <td>0</td>\n",
              "    </tr>\n",
              "    <tr>\n",
              "      <th>3</th>\n",
              "      <td>OCCN(CCO)c1nc(Cl)nc(N(CCO)CCO)n1</td>\n",
              "      <td>ZINC000000109481</td>\n",
              "      <td>0</td>\n",
              "    </tr>\n",
              "    <tr>\n",
              "      <th>4</th>\n",
              "      <td>COC(=O)c1ccc(S(=O)(=O)N(CCO)CCO)n1C</td>\n",
              "      <td>ZINC000000119782</td>\n",
              "      <td>0</td>\n",
              "    </tr>\n",
              "  </tbody>\n",
              "</table>\n",
              "</div>"
            ],
            "text/plain": [
              "                                              SMILES              Name  Val\n",
              "0        CN1C(=O)C[C@H](N2CCN(C(=O)CN3CCCC3)CC2)C1=O  ZINC000000036436    0\n",
              "1  CC(=O)NC[C@H](O)[C@H]1O[C@H]2OC(C)(C)O[C@H]2[C...  ZINC000000041101    0\n",
              "2          C1CN(c2nc(-c3nn[nH]n3)nc(N3CCOCC3)n2)CCO1  ZINC000000054542    0\n",
              "3                   OCCN(CCO)c1nc(Cl)nc(N(CCO)CCO)n1  ZINC000000109481    0\n",
              "4                COC(=O)c1ccc(S(=O)(=O)N(CCO)CCO)n1C  ZINC000000119782    0"
            ]
          },
          "metadata": {
            "tags": []
          },
          "execution_count": 70
        }
      ]
    },
    {
      "cell_type": "code",
      "metadata": {
        "id": "zyqyMjevH2Hb",
        "colab_type": "code",
        "colab": {}
      },
      "source": [
        "infile_name = \"zinc_filtered.csv\"\n",
        "df.to_csv(infile_name,index=False)"
      ],
      "execution_count": 71,
      "outputs": []
    },
    {
      "cell_type": "code",
      "metadata": {
        "id": "c6qzooS-H5WR",
        "colab_type": "code",
        "colab": {}
      },
      "source": [
        "loader = dc.data.CSVLoader(tasks=['Val'], smiles_field=\"SMILES\", featurizer=featurizer)"
      ],
      "execution_count": 72,
      "outputs": []
    },
    {
      "cell_type": "code",
      "metadata": {
        "id": "iItyZR6GH83H",
        "colab_type": "code",
        "colab": {
          "base_uri": "https://localhost:8080/",
          "height": 1000
        },
        "outputId": "afc1fea7-2a92-4a00-8d3c-c8fa1665c999"
      },
      "source": [
        "dataset = loader.featurize(infile_name, shard_size=8192)"
      ],
      "execution_count": 73,
      "outputs": [
        {
          "output_type": "stream",
          "text": [
            "Loading raw samples now.\n",
            "shard_size: 8192\n",
            "About to start loading CSV from zinc_filtered.csv\n",
            "Loading shard 1 of size 8192.\n",
            "Featurizing sample 0\n",
            "Featurizing sample 1000\n",
            "Featurizing sample 2000\n",
            "Featurizing sample 3000\n",
            "Featurizing sample 4000\n",
            "Featurizing sample 5000\n",
            "Featurizing sample 6000\n",
            "Featurizing sample 7000\n",
            "Featurizing sample 8000\n",
            "TIMING: featurizing shard 0 took 22.416 s\n",
            "Loading shard 2 of size 8192.\n",
            "Featurizing sample 0\n",
            "Featurizing sample 1000\n",
            "Featurizing sample 2000\n",
            "Featurizing sample 3000\n",
            "Featurizing sample 4000\n",
            "Featurizing sample 5000\n",
            "Featurizing sample 6000\n",
            "Featurizing sample 7000\n",
            "Featurizing sample 8000\n",
            "TIMING: featurizing shard 1 took 21.938 s\n",
            "Loading shard 3 of size 8192.\n",
            "Featurizing sample 0\n",
            "Featurizing sample 1000\n",
            "Featurizing sample 2000\n",
            "Featurizing sample 3000\n",
            "Featurizing sample 4000\n",
            "Featurizing sample 5000\n",
            "Featurizing sample 6000\n",
            "Featurizing sample 7000\n",
            "Featurizing sample 8000\n",
            "TIMING: featurizing shard 2 took 22.631 s\n",
            "Loading shard 4 of size 8192.\n",
            "Featurizing sample 0\n",
            "Featurizing sample 1000\n",
            "Featurizing sample 2000\n",
            "Featurizing sample 3000\n",
            "Featurizing sample 4000\n",
            "Featurizing sample 5000\n",
            "Featurizing sample 6000\n",
            "Featurizing sample 7000\n",
            "Featurizing sample 8000\n",
            "TIMING: featurizing shard 3 took 21.884 s\n",
            "Loading shard 5 of size 8192.\n",
            "Featurizing sample 0\n",
            "Featurizing sample 1000\n",
            "Featurizing sample 2000\n",
            "Featurizing sample 3000\n",
            "Featurizing sample 4000\n",
            "Featurizing sample 5000\n",
            "Featurizing sample 6000\n",
            "Featurizing sample 7000\n",
            "Featurizing sample 8000\n",
            "TIMING: featurizing shard 4 took 22.540 s\n",
            "Loading shard 6 of size 8192.\n",
            "Featurizing sample 0\n",
            "Featurizing sample 1000\n",
            "Featurizing sample 2000\n",
            "Featurizing sample 3000\n",
            "Featurizing sample 4000\n",
            "Featurizing sample 5000\n",
            "Featurizing sample 6000\n",
            "Featurizing sample 7000\n",
            "Featurizing sample 8000\n",
            "TIMING: featurizing shard 5 took 22.490 s\n",
            "Loading shard 7 of size 8192.\n",
            "Featurizing sample 0\n",
            "Featurizing sample 1000\n",
            "Featurizing sample 2000\n",
            "Featurizing sample 3000\n",
            "Featurizing sample 4000\n",
            "Featurizing sample 5000\n",
            "Featurizing sample 6000\n",
            "Featurizing sample 7000\n",
            "Featurizing sample 8000\n",
            "TIMING: featurizing shard 6 took 21.846 s\n",
            "Loading shard 8 of size 8192.\n",
            "Featurizing sample 0\n",
            "Featurizing sample 1000\n",
            "Featurizing sample 2000\n",
            "Featurizing sample 3000\n",
            "Featurizing sample 4000\n",
            "Featurizing sample 5000\n",
            "Featurizing sample 6000\n",
            "Featurizing sample 7000\n",
            "Featurizing sample 8000\n",
            "TIMING: featurizing shard 7 took 22.533 s\n",
            "Loading shard 9 of size 8192.\n",
            "Featurizing sample 0\n",
            "Featurizing sample 1000\n",
            "Featurizing sample 2000\n",
            "TIMING: featurizing shard 8 took 7.712 s\n",
            "TIMING: dataset construction took 208.474 s\n",
            "Loading dataset from disk.\n"
          ],
          "name": "stdout"
        }
      ]
    },
    {
      "cell_type": "code",
      "metadata": {
        "id": "De8qYinHH_AY",
        "colab_type": "code",
        "colab": {
          "base_uri": "https://localhost:8080/",
          "height": 241
        },
        "outputId": "dc380f2a-d101-4de3-8de1-5372251ec69c"
      },
      "source": [
        "pred = model.predict(dataset)"
      ],
      "execution_count": 74,
      "outputs": [
        {
          "output_type": "stream",
          "text": [
            "WARNING:tensorflow:Entity <bound method GraphConv.call of <deepchem.models.layers.GraphConv object at 0x7fdd5b5e2b38>> could not be transformed and will be executed as-is. Please report this to the AutoGraph team. When filing the bug, set the verbosity to 10 (on Linux, `export AUTOGRAPH_VERBOSITY=10`) and attach the full output. Cause: module 'gast' has no attribute 'Num'\n",
            "WARNING: Entity <bound method GraphConv.call of <deepchem.models.layers.GraphConv object at 0x7fdd5b5e2b38>> could not be transformed and will be executed as-is. Please report this to the AutoGraph team. When filing the bug, set the verbosity to 10 (on Linux, `export AUTOGRAPH_VERBOSITY=10`) and attach the full output. Cause: module 'gast' has no attribute 'Num'\n",
            "WARNING:tensorflow:Entity <bound method GraphPool.call of <deepchem.models.layers.GraphPool object at 0x7fdd5b0a6358>> could not be transformed and will be executed as-is. Please report this to the AutoGraph team. When filing the bug, set the verbosity to 10 (on Linux, `export AUTOGRAPH_VERBOSITY=10`) and attach the full output. Cause: module 'gast' has no attribute 'Num'\n",
            "WARNING: Entity <bound method GraphPool.call of <deepchem.models.layers.GraphPool object at 0x7fdd5b0a6358>> could not be transformed and will be executed as-is. Please report this to the AutoGraph team. When filing the bug, set the verbosity to 10 (on Linux, `export AUTOGRAPH_VERBOSITY=10`) and attach the full output. Cause: module 'gast' has no attribute 'Num'\n",
            "WARNING:tensorflow:Entity <bound method GraphConv.call of <deepchem.models.layers.GraphConv object at 0x7fdde2435e80>> could not be transformed and will be executed as-is. Please report this to the AutoGraph team. When filing the bug, set the verbosity to 10 (on Linux, `export AUTOGRAPH_VERBOSITY=10`) and attach the full output. Cause: module 'gast' has no attribute 'Num'\n",
            "WARNING: Entity <bound method GraphConv.call of <deepchem.models.layers.GraphConv object at 0x7fdde2435e80>> could not be transformed and will be executed as-is. Please report this to the AutoGraph team. When filing the bug, set the verbosity to 10 (on Linux, `export AUTOGRAPH_VERBOSITY=10`) and attach the full output. Cause: module 'gast' has no attribute 'Num'\n",
            "WARNING:tensorflow:Entity <bound method GraphPool.call of <deepchem.models.layers.GraphPool object at 0x7fdd654acf60>> could not be transformed and will be executed as-is. Please report this to the AutoGraph team. When filing the bug, set the verbosity to 10 (on Linux, `export AUTOGRAPH_VERBOSITY=10`) and attach the full output. Cause: module 'gast' has no attribute 'Num'\n",
            "WARNING: Entity <bound method GraphPool.call of <deepchem.models.layers.GraphPool object at 0x7fdd654acf60>> could not be transformed and will be executed as-is. Please report this to the AutoGraph team. When filing the bug, set the verbosity to 10 (on Linux, `export AUTOGRAPH_VERBOSITY=10`) and attach the full output. Cause: module 'gast' has no attribute 'Num'\n",
            "WARNING:tensorflow:Entity <bound method GraphGather.call of <deepchem.models.layers.GraphGather object at 0x7fdd5e599cc0>> could not be transformed and will be executed as-is. Please report this to the AutoGraph team. When filing the bug, set the verbosity to 10 (on Linux, `export AUTOGRAPH_VERBOSITY=10`) and attach the full output. Cause: module 'gast' has no attribute 'Num'\n",
            "WARNING: Entity <bound method GraphGather.call of <deepchem.models.layers.GraphGather object at 0x7fdd5e599cc0>> could not be transformed and will be executed as-is. Please report this to the AutoGraph team. When filing the bug, set the verbosity to 10 (on Linux, `export AUTOGRAPH_VERBOSITY=10`) and attach the full output. Cause: module 'gast' has no attribute 'Num'\n",
            "WARNING:tensorflow:Entity <bound method TrimGraphOutput.call of <deepchem.models.graph_models.TrimGraphOutput object at 0x7fddd0037fd0>> could not be transformed and will be executed as-is. Please report this to the AutoGraph team. When filing the bug, set the verbosity to 10 (on Linux, `export AUTOGRAPH_VERBOSITY=10`) and attach the full output. Cause: module 'gast' has no attribute 'Num'\n",
            "WARNING: Entity <bound method TrimGraphOutput.call of <deepchem.models.graph_models.TrimGraphOutput object at 0x7fddd0037fd0>> could not be transformed and will be executed as-is. Please report this to the AutoGraph team. When filing the bug, set the verbosity to 10 (on Linux, `export AUTOGRAPH_VERBOSITY=10`) and attach the full output. Cause: module 'gast' has no attribute 'Num'\n"
          ],
          "name": "stdout"
        }
      ]
    },
    {
      "cell_type": "code",
      "metadata": {
        "id": "P_EccFjsIFm-",
        "colab_type": "code",
        "colab": {}
      },
      "source": [
        "\n",
        "pred_df = pd.DataFrame([x.flatten() for x in pred],columns=[\"Neg\",\"Pos\"])"
      ],
      "execution_count": 75,
      "outputs": []
    },
    {
      "cell_type": "code",
      "metadata": {
        "id": "8Kg_WrSZIJPI",
        "colab_type": "code",
        "colab": {
          "base_uri": "https://localhost:8080/",
          "height": 300
        },
        "outputId": "175bc66f-b4b3-4681-e728-65633d4db779"
      },
      "source": [
        "sns.distplot(pred_df.Pos,rug=True)"
      ],
      "execution_count": 76,
      "outputs": [
        {
          "output_type": "execute_result",
          "data": {
            "text/plain": [
              "<matplotlib.axes._subplots.AxesSubplot at 0x7fdd65bdedd8>"
            ]
          },
          "metadata": {
            "tags": []
          },
          "execution_count": 76
        },
        {
          "output_type": "display_data",
          "data": {
            "image/png": "[encoded data removed]",
            "text/plain": [
              "<Figure size 432x288 with 1 Axes>"
            ]
          },
          "metadata": {
            "tags": [],
            "needs_background": "light"
          }
        }
      ]
    },
    {
      "cell_type": "code",
      "metadata": {
        "id": "hPshzsRRIK5P",
        "colab_type": "code",
        "colab": {}
      },
      "source": [
        "combo_df = df.join(pred_df,how=\"outer\")"
      ],
      "execution_count": 77,
      "outputs": []
    },
    {
      "cell_type": "code",
      "metadata": {
        "id": "gOZwFsPZINge",
        "colab_type": "code",
        "colab": {}
      },
      "source": [
        "combo_df.sort_values(\"Pos\",inplace=True,ascending=False)"
      ],
      "execution_count": 78,
      "outputs": []
    },
    {
      "cell_type": "code",
      "metadata": {
        "id": "04rWzMiSIQpp",
        "colab_type": "code",
        "colab": {}
      },
      "source": [
        "PandasTools.AddMoleculeColumnToFrame(combo_df,\"SMILES\",\"Mol\")"
      ],
      "execution_count": 79,
      "outputs": []
    },
    {
      "cell_type": "code",
      "metadata": {
        "id": "xRNrriR2ITMr",
        "colab_type": "code",
        "colab": {
          "base_uri": "https://localhost:8080/",
          "height": 1000
        },
        "outputId": "dbe620d1-9c57-43bc-d983-83314a7063c8"
      },
      "source": [
        "combo_df.head()"
      ],
      "execution_count": 80,
      "outputs": [
        {
          "output_type": "execute_result",
          "data": {
            "text/html": [
              "<div>\n",
              "<style scoped>\n",
              "    .dataframe tbody tr th:only-of-type {\n",
              "        vertical-align: middle;\n",
              "    }\n",
              "\n",
              "    .dataframe tbody tr th {\n",
              "        vertical-align: top;\n",
              "    }\n",
              "\n",
              "    .dataframe thead th {\n",
              "        text-align: right;\n",
              "    }\n",
              "</style>\n",
              "<table border=\"1\" class=\"dataframe\">\n",
              "  <thead>\n",
              "    <tr style=\"text-align: right;\">\n",
              "      <th></th>\n",
              "      <th>SMILES</th>\n",
              "      <th>Name</th>\n",
              "      <th>Val</th>\n",
              "      <th>Neg</th>\n",
              "      <th>Pos</th>\n",
              "      <th>Mol</th>\n",
              "    </tr>\n",
              "  </thead>\n",
              "  <tbody>\n",
              "    <tr>\n",
              "      <th>54838</th>\n",
              "      <td>Cn1cncc1C(=O)NC[C@@H](CO)NC(=O)c1cncn1C</td>\n",
              "      <td>ZINC000644062250</td>\n",
              "      <td>0</td>\n",
              "      <td>0.009582</td>\n",
              "      <td>0.990418</td>\n",
              "      <td><img data-content=\"rdkit/molecule\" src=\"data:image/png;base64,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\" alt=\"Mol\"/></td>\n",
              "    </tr>\n",
              "    <tr>\n",
              "      <th>41361</th>\n",
              "      <td>CN(C)c1cnc(C(=O)N[C@H](CO)CN2CCOCC2)cn1</td>\n",
              "      <td>ZINC000580845139</td>\n",
              "      <td>0</td>\n",
              "      <td>0.012536</td>\n",
              "      <td>0.987464</td>\n",
              "      <td><img data-content=\"rdkit/molecule\" src=\"data:image/png;base64,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\" alt=\"Mol\"/></td>\n",
              "    </tr>\n",
              "    <tr>\n",
              "      <th>41360</th>\n",
              "      <td>CN(C)c1cnc(C(=O)N[C@@H](CO)CN2CCOCC2)cn1</td>\n",
              "      <td>ZINC000580845134</td>\n",
              "      <td>0</td>\n",
              "      <td>0.012536</td>\n",
              "      <td>0.987464</td>\n",
              "      <td><img data-content=\"rdkit/molecule\" src=\"data:image/png;base64,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\" alt=\"Mol\"/></td>\n",
              "    </tr>\n",
              "    <tr>\n",
              "      <th>12624</th>\n",
              "      <td>Cn1nnc2cc(C(=O)N[C@@H](CO)CN3CCOCC3)cnc21</td>\n",
              "      <td>ZINC000339212693</td>\n",
              "      <td>0</td>\n",
              "      <td>0.033122</td>\n",
              "      <td>0.966878</td>\n",
              "      <td><img data-content=\"rdkit/molecule\" src=\"data:image/png;base64,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\" alt=\"Mol\"/></td>\n",
              "    </tr>\n",
              "    <tr>\n",
              "      <th>12625</th>\n",
              "      <td>Cn1nnc2cc(C(=O)N[C@H](CO)CN3CCOCC3)cnc21</td>\n",
              "      <td>ZINC000339212694</td>\n",
              "      <td>0</td>\n",
              "      <td>0.033122</td>\n",
              "      <td>0.966878</td>\n",
              "      <td><img data-content=\"rdkit/molecule\" src=\"data:image/png;base64,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\" alt=\"Mol\"/></td>\n",
              "    </tr>\n",
              "  </tbody>\n",
              "</table>\n",
              "</div>"
            ],
            "text/plain": [
              "                                          SMILES  ...                                                Mol\n",
              "54838    Cn1cncc1C(=O)NC[C@@H](CO)NC(=O)c1cncn1C  ...  <img data-content=\"rdkit/molecule\" src=\"data:i...\n",
              "41361    CN(C)c1cnc(C(=O)N[C@H](CO)CN2CCOCC2)cn1  ...  <img data-content=\"rdkit/molecule\" src=\"data:i...\n",
              "41360   CN(C)c1cnc(C(=O)N[C@@H](CO)CN2CCOCC2)cn1  ...  <img data-content=\"rdkit/molecule\" src=\"data:i...\n",
              "12624  Cn1nnc2cc(C(=O)N[C@@H](CO)CN3CCOCC3)cnc21  ...  <img data-content=\"rdkit/molecule\" src=\"data:i...\n",
              "12625   Cn1nnc2cc(C(=O)N[C@H](CO)CN3CCOCC3)cnc21  ...  <img data-content=\"rdkit/molecule\" src=\"data:i...\n",
              "\n",
              "[5 rows x 6 columns]"
            ]
          },
          "metadata": {
            "tags": []
          },
          "execution_count": 80
        }
      ]
    },
    {
      "cell_type": "code",
      "metadata": {
        "id": "xjTgKxNBIWJD",
        "colab_type": "code",
        "colab": {
          "base_uri": "https://localhost:8080/",
          "height": 373
        },
        "outputId": "b3409f39-6ac7-40da-c154-88205fe204a3"
      },
      "source": [
        "Draw.MolsToGridImage(combo_df.Mol[:10],molsPerRow=5,legends=[\"%.2f\" % x for x in combo_df.Pos[:10]])"
      ],
      "execution_count": 81,
      "outputs": [
        {
          "output_type": "execute_result",
          "data": {
            "image/png": "[encoded data removed]",
            "text/plain": [
              "<PIL.PngImagePlugin.PngImageFile image mode=RGB size=1000x400 at 0x7FDD62201FD0>"
            ]
          },
          "metadata": {
            "tags": []
          },
          "execution_count": 81
        }
      ]
    },
    {
      "cell_type": "code",
      "metadata": {
        "id": "OLjGIdB_IY2T",
        "colab_type": "code",
        "colab": {}
      },
      "source": [
        "def butina_cluster(mol_list,cutoff=0.35):\n",
        "    fp_list = [rdmd.GetMorganFingerprintAsBitVect(m, 3, nBits=2048) for m in mol_list]\n",
        "    dists = []\n",
        "    nfps = len(fp_list)\n",
        "    for i in range(1,nfps):\n",
        "        sims = DataStructs.BulkTanimotoSimilarity(fp_list[i],fp_list[:i])\n",
        "        dists.extend([1-x for x in sims])\n",
        "    mol_clusters = Butina.ClusterData(dists,nfps,cutoff,isDistData=True)\n",
        "    cluster_id_list = [0]*nfps\n",
        "    for idx,cluster in enumerate(mol_clusters,1):\n",
        "        for member in cluster:\n",
        "            cluster_id_list[member] = idx\n",
        "    return cluster_id_list"
      ],
      "execution_count": 82,
      "outputs": []
    },
    {
      "cell_type": "code",
      "metadata": {
        "id": "4ykbtzCDIcjq",
        "colab_type": "code",
        "colab": {}
      },
      "source": [
        "best_100_df = combo_df.head(100).copy()"
      ],
      "execution_count": 83,
      "outputs": []
    },
    {
      "cell_type": "code",
      "metadata": {
        "id": "YsOUM1UUIdXX",
        "colab_type": "code",
        "colab": {}
      },
      "source": [
        "best_100_df[\"Cluster\"] = butina_cluster(best_100_df.Mol)"
      ],
      "execution_count": 84,
      "outputs": []
    },
    {
      "cell_type": "code",
      "metadata": {
        "id": "BRc1qXr8IfkE",
        "colab_type": "code",
        "colab": {
          "base_uri": "https://localhost:8080/",
          "height": 1000
        },
        "outputId": "c41bb69d-dcac-4765-c62c-cd0226e61b16"
      },
      "source": [
        "best_100_df.head()"
      ],
      "execution_count": 85,
      "outputs": [
        {
          "output_type": "execute_result",
          "data": {
            "text/html": [
              "<div>\n",
              "<style scoped>\n",
              "    .dataframe tbody tr th:only-of-type {\n",
              "        vertical-align: middle;\n",
              "    }\n",
              "\n",
              "    .dataframe tbody tr th {\n",
              "        vertical-align: top;\n",
              "    }\n",
              "\n",
              "    .dataframe thead th {\n",
              "        text-align: right;\n",
              "    }\n",
              "</style>\n",
              "<table border=\"1\" class=\"dataframe\">\n",
              "  <thead>\n",
              "    <tr style=\"text-align: right;\">\n",
              "      <th></th>\n",
              "      <th>SMILES</th>\n",
              "      <th>Name</th>\n",
              "      <th>Val</th>\n",
              "      <th>Neg</th>\n",
              "      <th>Pos</th>\n",
              "      <th>Mol</th>\n",
              "      <th>Cluster</th>\n",
              "    </tr>\n",
              "  </thead>\n",
              "  <tbody>\n",
              "    <tr>\n",
              "      <th>54838</th>\n",
              "      <td>Cn1cncc1C(=O)NC[C@@H](CO)NC(=O)c1cncn1C</td>\n",
              "      <td>ZINC000644062250</td>\n",
              "      <td>0</td>\n",
              "      <td>0.009582</td>\n",
              "      <td>0.990418</td>\n",
              "      <td><img data-content=\"rdkit/molecule\" src=\"data:image/png;base64,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\" alt=\"Mol\"/></td>\n",
              "      <td>59</td>\n",
              "    </tr>\n",
              "    <tr>\n",
              "      <th>41361</th>\n",
              "      <td>CN(C)c1cnc(C(=O)N[C@H](CO)CN2CCOCC2)cn1</td>\n",
              "      <td>ZINC000580845139</td>\n",
              "      <td>0</td>\n",
              "      <td>0.012536</td>\n",
              "      <td>0.987464</td>\n",
              "      <td><img data-content=\"rdkit/molecule\" src=\"data:image/png;base64,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\" alt=\"Mol\"/></td>\n",
              "      <td>5</td>\n",
              "    </tr>\n",
              "    <tr>\n",
              "      <th>41360</th>\n",
              "      <td>CN(C)c1cnc(C(=O)N[C@@H](CO)CN2CCOCC2)cn1</td>\n",
              "      <td>ZINC000580845134</td>\n",
              "      <td>0</td>\n",
              "      <td>0.012536</td>\n",
              "      <td>0.987464</td>\n",
              "      <td><img data-content=\"rdkit/molecule\" src=\"data:image/png;base64,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\" alt=\"Mol\"/></td>\n",
              "      <td>5</td>\n",
              "    </tr>\n",
              "    <tr>\n",
              "      <th>12624</th>\n",
              "      <td>Cn1nnc2cc(C(=O)N[C@@H](CO)CN3CCOCC3)cnc21</td>\n",
              "      <td>ZINC000339212693</td>\n",
              "      <td>0</td>\n",
              "      <td>0.033122</td>\n",
              "      <td>0.966878</td>\n",
              "      <td><img data-content=\"rdkit/molecule\" src=\"data:image/png;base64,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\" alt=\"Mol\"/></td>\n",
              "      <td>27</td>\n",
              "    </tr>\n",
              "    <tr>\n",
              "      <th>12625</th>\n",
              "      <td>Cn1nnc2cc(C(=O)N[C@H](CO)CN3CCOCC3)cnc21</td>\n",
              "      <td>ZINC000339212694</td>\n",
              "      <td>0</td>\n",
              "      <td>0.033122</td>\n",
              "      <td>0.966878</td>\n",
              "      <td><img data-content=\"rdkit/molecule\" src=\"data:image/png;base64,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\" alt=\"Mol\"/></td>\n",
              "      <td>27</td>\n",
              "    </tr>\n",
              "  </tbody>\n",
              "</table>\n",
              "</div>"
            ],
            "text/plain": [
              "                                          SMILES  ... Cluster\n",
              "54838    Cn1cncc1C(=O)NC[C@@H](CO)NC(=O)c1cncn1C  ...      59\n",
              "41361    CN(C)c1cnc(C(=O)N[C@H](CO)CN2CCOCC2)cn1  ...       5\n",
              "41360   CN(C)c1cnc(C(=O)N[C@@H](CO)CN2CCOCC2)cn1  ...       5\n",
              "12624  Cn1nnc2cc(C(=O)N[C@@H](CO)CN3CCOCC3)cnc21  ...      27\n",
              "12625   Cn1nnc2cc(C(=O)N[C@H](CO)CN3CCOCC3)cnc21  ...      27\n",
              "\n",
              "[5 rows x 7 columns]"
            ]
          },
          "metadata": {
            "tags": []
          },
          "execution_count": 85
        }
      ]
    },
    {
      "cell_type": "code",
      "metadata": {
        "id": "wCNXNjdtIkhN",
        "colab_type": "code",
        "colab": {
          "base_uri": "https://localhost:8080/",
          "height": 34
        },
        "outputId": "442895b9-4075-4163-8e42-4476e1dd6a4a"
      },
      "source": [
        "len(best_100_df.Cluster.unique())"
      ],
      "execution_count": 86,
      "outputs": [
        {
          "output_type": "execute_result",
          "data": {
            "text/plain": [
              "59"
            ]
          },
          "metadata": {
            "tags": []
          },
          "execution_count": 86
        }
      ]
    },
    {
      "cell_type": "code",
      "metadata": {
        "id": "J_DdLLP6Im90",
        "colab_type": "code",
        "colab": {}
      },
      "source": [
        "best_cluster_rep_df = best_100_df.drop_duplicates(\"Cluster\")"
      ],
      "execution_count": 87,
      "outputs": []
    },
    {
      "cell_type": "code",
      "metadata": {
        "id": "0Iv1xZejIn8p",
        "colab_type": "code",
        "colab": {
          "base_uri": "https://localhost:8080/",
          "height": 34
        },
        "outputId": "4721deb5-c7c9-4acf-b25e-b4b75f0d31bf"
      },
      "source": [
        "best_cluster_rep_df.shape"
      ],
      "execution_count": 89,
      "outputs": [
        {
          "output_type": "execute_result",
          "data": {
            "text/plain": [
              "(59, 7)"
            ]
          },
          "metadata": {
            "tags": []
          },
          "execution_count": 89
        }
      ]
    },
    {
      "cell_type": "code",
      "metadata": {
        "id": "AwivIvqCIpvP",
        "colab_type": "code",
        "colab": {}
      },
      "source": [
        "best_cluster_rep_df.to_csv(\"best_cluster_represenatives.csv\")"
      ],
      "execution_count": 90,
      "outputs": []
    },
    {
      "cell_type": "code",
      "metadata": {
        "id": "QO_zC0xyJv3R",
        "colab_type": "code",
        "colab": {}
      },
      "source": [
        "#mols = best_cluster_rep_df.iloc[:,5]"
      ],
      "execution_count": 94,
      "outputs": []
    },
    {
      "cell_type": "code",
      "metadata": {
        "id": "xTfLF3kMLrvr",
        "colab_type": "code",
        "colab": {}
      },
      "source": [
        "#type(mols)"
      ],
      "execution_count": 96,
      "outputs": []
    },
    {
      "cell_type": "code",
      "metadata": {
        "id": "ySwxhZk0NBiU",
        "colab_type": "code",
        "colab": {}
      },
      "source": [
        "#chapter over"
      ],
      "execution_count": 97,
      "outputs": []
    },
    {
      "cell_type": "code",
      "metadata": {
        "id": "zO7dju8FNd68",
        "colab_type": "code",
        "colab": {}
      },
      "source": [
        ""
      ],
      "execution_count": null,
      "outputs": []
    }
  ]
}